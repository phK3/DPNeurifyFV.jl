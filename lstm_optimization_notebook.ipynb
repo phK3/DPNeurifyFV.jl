{
 "cells": [
  {
   "cell_type": "code",
   "execution_count": 1,
   "metadata": {},
   "outputs": [
    {
     "name": "stdout",
     "output_type": "stream",
     "text": [
      "Academic license - for non-commercial use only - expires 2023-11-26\n"
     ]
    },
    {
     "name": "stderr",
     "output_type": "stream",
     "text": [
      "WARNING: Method definition (::Type{DPNeurifyFV.LSTMCell})(Any, Any, Any, Any, Any, Any) in module DPNeurifyFV at /home/philipp/VerifyNN/DPNeurifyFV.jl/src/computational_graph/computational_nodes.jl:516 overwritten at /home/philipp/VerifyNN/DPNeurifyFV.jl/src/computational_graph/computational_nodes.jl:529.\n",
      "  ** incremental compilation may be fatally broken for this module **\n",
      "\n"
     ]
    },
    {
     "name": "stdout",
     "output_type": "stream",
     "text": [
      "precompiling...\n"
     ]
    },
    {
     "name": "stdout",
     "output_type": "stream",
     "text": [
      "node input_Sub: sub constant\n",
      "\n",
      "parsing flatten :-)\n"
     ]
    },
    {
     "name": "stdout",
     "output_type": "stream",
     "text": [
      "parsing Matmul with input :-)\n"
     ]
    },
    {
     "name": "stdout",
     "output_type": "stream",
     "text": [
      "node Operation_1_Add: add constant\n",
      "\n",
      "parsing ReLU :-)\n"
     ]
    },
    {
     "name": "stdout",
     "output_type": "stream",
     "text": [
      "parsing Matmul with input :-)\n",
      "node Operation_2_Add: add constant\n",
      "\n",
      "parsing ReLU :-)\n",
      "parsing Matmul with input :-)\n",
      "node Operation_3_Add: add constant\n",
      "\n",
      "parsing ReLU :-)\n",
      "parsing Matmul with input :-)\n",
      "node Operation_4_Add: add constant\n",
      "\n",
      "parsing ReLU :-)\n",
      "parsing Matmul with input :-)\n",
      "node Operation_5_Add: add constant\n",
      "\n",
      "parsing ReLU :-)\n",
      "parsing Matmul with input :-)\n",
      "node Operation_6_Add: add constant\n",
      "\n",
      "parsing ReLU :-)\n",
      "parsing Matmul with input :-)\n",
      "node linear_7_Add: add constant\n",
      "\n"
     ]
    },
    {
     "name": "stdout",
     "output_type": "stream",
     "text": [
      "[\"input\"][\"linear_7_Add\"]"
     ]
    },
    {
     "name": "stdout",
     "output_type": "stream",
     "text": [
      "Constructing the whole NN -- yay -- :-)\n",
      "inputs: [\"input\"]\n",
      "outputs: [\"linear_7_Add\"]\n"
     ]
    },
    {
     "name": "stdout",
     "output_type": "stream",
     "text": [
      "input_shape = Any[1, 1, 1, 5], output_shape = Any[1, 5]\n"
     ]
    },
    {
     "name": "stderr",
     "output_type": "stream",
     "text": [
      "/home/philipp/.julia/conda/3/lib/python3.10/site-packages/vnnlib/parser.py:213: UserWarning: literal negation does not strictly follow SMT-LIB\n",
      "  warnings.warn(\"literal negation does not strictly follow SMT-LIB\")\n"
     ]
    },
    {
     "name": "stdout",
     "output_type": "stream",
     "text": [
      "Warning! Output constraints have to be polytopes, found b with size (1, 1) - trying vec(b)\n"
     ]
    },
    {
     "name": "stdout",
     "output_type": "stream",
     "text": [
      "Checking if polytope can be reached\n"
     ]
    },
    {
     "name": "stderr",
     "output_type": "stream",
     "text": [
      "\u001b[33m\u001b[1m┌ \u001b[22m\u001b[39m\u001b[33m\u001b[1mWarning: \u001b[22m\u001b[39mLayer with Float32 parameters got Float64 input.\n",
      "\u001b[33m\u001b[1m│ \u001b[22m\u001b[39m  The input will be converted, but any earlier layers may be very slow.\n",
      "\u001b[33m\u001b[1m│ \u001b[22m\u001b[39m  layer = Dense(5 => 50)      \u001b[90m# 300 parameters\u001b[39m\n",
      "\u001b[33m\u001b[1m│ \u001b[22m\u001b[39m  summary(x) = \"5×6 Matrix{Float64}\"\n",
      "\u001b[33m\u001b[1m└ \u001b[22m\u001b[39m\u001b[90m@ Flux ~/.julia/packages/Flux/n3cOc/src/layers/stateless.jl:60\u001b[39m\n"
     ]
    },
    {
     "name": "stdout",
     "output_type": "stream",
     "text": [
      "i: 1 - "
     ]
    },
    {
     "name": "stdout",
     "output_type": "stream",
     "text": [
      "[-4.01316499710083, 2269.2729241943107], 7.289913177490234 sec\n"
     ]
    },
    {
     "name": "stdout",
     "output_type": "stream",
     "text": [
      "i: 2 - [-4.01316499710083, 1122.462314027753], 10.970319032669067 sec\n",
      "i: 3 - [-4.01316499710083, 1095.465432296466], 10.976763010025024 sec\n",
      "Steps: 3 - [-1030.3663799624544, 4.01316499710083] -> inconclusive\n"
     ]
    },
    {
     "name": "stdout",
     "output_type": "stream",
     "text": [
      "Academic license - for non-commercial use only - expires 2023-11-26\n",
      "Academic license - for non-commercial use only - expires 2023-11-26\n"
     ]
    },
    {
     "data": {
      "text/plain": [
       "Gurobi.Env(Ptr{Nothing} @0x00000000040b4c70, false, 0)"
      ]
     },
     "metadata": {},
     "output_type": "display_data"
    }
   ],
   "source": [
    "using DPNeurifyFV, LazySets, PyVnnlib, NeuralVerification, JuMP, \n",
    "      LinearAlgebra, Flux, Gurobi\n",
    "import VNNLib.NNLoader as NNL\n",
    "\n",
    "const NV = NeuralVerification\n",
    "const DP = DPNeurifyFV\n",
    "\n",
    "# initialize all Gurobi models with the same env, \n",
    "# s.t. we don't print the license information all the time\n",
    "const GRB_ENV = Gurobi.Env()"
   ]
  },
  {
   "cell_type": "code",
   "execution_count": 2,
   "metadata": {},
   "outputs": [
    {
     "name": "stdout",
     "output_type": "stream",
     "text": [
      "Warning! Output constraints have to be polytopes, found b with size (1, 1) - trying vec(b)\n"
     ]
    },
    {
     "name": "stderr",
     "output_type": "stream",
     "text": [
      "/home/philipp/.julia/conda/3/lib/python3.10/site-packages/vnnlib/parser.py:213: UserWarning: literal negation does not strictly follow SMT-LIB\n",
      "  warnings.warn(\"literal negation does not strictly follow SMT-LIB\")\n"
     ]
    },
    {
     "name": "stdout",
     "output_type": "stream",
     "text": [
      "node input_Sub: sub constant\n",
      "\n",
      "parsing flatten :-)\n",
      "parsing Matmul with input :-)\n"
     ]
    },
    {
     "name": "stdout",
     "output_type": "stream",
     "text": [
      "node Operation_1_Add: add constant\n",
      "\n",
      "parsing ReLU :-)\n",
      "parsing Matmul with input :-)\n",
      "node Operation_2_Add: add constant\n",
      "\n",
      "parsing ReLU :-)\n",
      "parsing Matmul with input :-)\n",
      "node Operation_3_Add: add constant\n",
      "\n",
      "parsing ReLU :-)\n",
      "parsing Matmul with input :-)\n",
      "node Operation_4_Add: add constant\n",
      "\n",
      "parsing ReLU :-)\n",
      "parsing Matmul with input :-)\n",
      "node Operation_5_Add: add constant\n",
      "\n",
      "parsing ReLU :-)\n",
      "parsing Matmul with input :-)\n",
      "node Operation_6_Add: add constant\n",
      "\n",
      "parsing ReLU :-)\n",
      "parsing Matmul with input :-)\n",
      "node linear_7_Add: add constant\n",
      "\n"
     ]
    },
    {
     "name": "stdout",
     "output_type": "stream",
     "text": [
      "[\"input\"][\"linear_7_Add\"]"
     ]
    },
    {
     "name": "stdout",
     "output_type": "stream",
     "text": [
      "Constructing the whole NN -- yay -- :-)\n",
      "inputs: [\"input\"]\n",
      "outputs: [\"linear_7_Add\"]\n",
      "input_shape = Any[1, 1, 1, 5], output_shape = Any[1, 5]\n"
     ]
    }
   ],
   "source": [
    "vnnlib_path = \"../vnncomp2023_benchmarks/benchmarks/acasxu/vnnlib/prop_1.vnnlib.gz\"\n",
    "onnx_path   = \"../vnncomp2023_benchmarks/benchmarks/acasxu/onnx/ACASXU_run2a_1_1_batch_2000.onnx\"\n",
    "\n",
    "speclist = PyVnnlib.generate_specs(vnnlib_path, dtype=Float32)\n",
    "specs = DP.generate_specs(speclist)\n",
    "input_set, output_set = specs[1]\n",
    "\n",
    "nn = NNL.load_network_dict(DP.CGType, onnx_path);"
   ]
  },
  {
   "cell_type": "code",
   "execution_count": 3,
   "metadata": {},
   "outputs": [
    {
     "data": {
      "text/plain": [
       "DPNeurifyFV.SplitZonotope{Float64}(Zonotope{Float64, Vector{Float64}, Matrix{Float64}}([0.6399288845, 0.0, 0.0, 0.475, -0.475], [0.039928884499999984 0.0 … 0.0 0.0; 0.0 0.5 … 0.0 0.0; … ; 0.0 0.0 … 0.025000000000000022 0.0; 0.0 0.0 … 0.0 0.024999999999999967]), Dict{String, Vector}(), Dict{String, Tuple{Vararg{Vector{Float64}}}}(\"input\" => ([0.6, -0.5, -0.5, 0.44999999999999996, -0.49999999999999994], [0.679857769, 0.5, 0.5, 0.5, -0.45])), [(\"input\", 1), (\"input\", 2), (\"input\", 3), (\"input\", 4), (\"input\", 5)], Matrix{Float64}(undef, 0, 0), Float64[], (5, 1, 1, 1))"
      ]
     },
     "metadata": {},
     "output_type": "display_data"
    }
   ],
   "source": [
    "sz = DP.SplitZonotope(input_set, (5, 1, 1, 1))"
   ]
  },
  {
   "cell_type": "code",
   "execution_count": 4,
   "metadata": {},
   "outputs": [
    {
     "name": "stderr",
     "output_type": "stream",
     "text": [
      "┌ Warning: Layer with Float32 parameters got Float64 input.\n",
      "│   The input will be converted, but any earlier layers may be very slow.\n",
      "│   layer = Dense(5 => 50)\n",
      "│   summary(x) = 5×1 Matrix{Float64}\n",
      "└ @ Flux /home/philipp/.julia/packages/Flux/n3cOc/src/layers/stateless.jl:60\n"
     ]
    },
    {
     "name": "stdout",
     "output_type": "stream",
     "text": [
      "Academic license - for non-commercial use only - expires 2023-11-26\n",
      "Academic license - for non-commercial use only - expires 2023-11-26\n",
      "ub₁ = 3381.7083218551397\n",
      "ub₂ = 4899.564692676977\n"
     ]
    },
    {
     "data": {
      "text/plain": [
       "4899.564692676977"
      ]
     },
     "metadata": {},
     "output_type": "display_data"
    }
   ],
   "source": [
    "ẑ = DP.propagate(DP.LSTMSolver(), nn, sz)\n",
    "\n",
    "z₁, z₂ = DP.split_split_zonotope(ẑ, nn.input_shape)\n",
    "\n",
    "ẑ₁ = DP.propagate(DP.LSTMSolver(), nn, z₁)\n",
    "ẑ₂ = DP.propagate(DP.LSTMSolver(), nn, z₂)\n",
    "\n",
    "model = DP.build_model(ẑ₁)\n",
    "optimize!(model)\n",
    "ub₁ = objective_value(model)\n",
    "\n",
    "model = DP.build_model(ẑ₂)\n",
    "optimize!(model)\n",
    "ub₂ = objective_value(model)\n",
    "\n",
    "@show ub₁\n",
    "@show ub₂"
   ]
  },
  {
   "cell_type": "code",
   "execution_count": 5,
   "metadata": {},
   "outputs": [
    {
     "data": {
      "text/plain": [
       "bounds (generic function with 1 method)"
      ]
     },
     "metadata": {},
     "output_type": "display_data"
    }
   ],
   "source": [
    "function bounds(sz::DP.SplitZonotope; skip_lp=false, upper=true, opt=() -> Gurobi.Optimizer(GRB_ENV))\n",
    "    if skip_lp\n",
    "        H = overapproximate(sz.z, Hyperrectangle)\n",
    "        bds = upper ? high(H) : low(H)\n",
    "    else\n",
    "        # only for flat vectors for now, ignore batch dim\n",
    "        n_out = sz.shape[1]\n",
    "        bds = zeros(n_out)\n",
    "        for i in 1:n_out\n",
    "            model = DP.build_model(sz, opt_idx=i, maximize=upper, opt=opt)\n",
    "            optimize!(model)\n",
    "            bds[i] = objective_value(model)\n",
    "        end\n",
    "    end\n",
    "\n",
    "    return bds\n",
    "end"
   ]
  },
  {
   "cell_type": "code",
   "execution_count": 14,
   "metadata": {},
   "outputs": [
    {
     "data": {
      "text/plain": [
       "contained_within_polytope_sz (generic function with 1 method)"
      ]
     },
     "metadata": {},
     "output_type": "display_data"
    }
   ],
   "source": [
    "function contained_within_polytope_sz(nn::DP.CompGraph, input_set::AbstractHyperrectangle, polytope, params::DP.PriorityOptimizerParameters;\n",
    "    solver=DPNFV(), split=split_largest_interval, concrete_sample=:Center)\n",
    "    A, b = tosimplehrep(polytope)\n",
    "    nn_spec = DP.merge_into_network(nn, A, b)\n",
    "\n",
    "    in_shape = map(x -> ifelse(isa(x, Integer), x, 1), nn_spec.input_shape)\n",
    "    s = DP.SplitZonotope(input_set, in_shape)\n",
    "\n",
    "    function approximate_optimize_cell(cell)       \n",
    "        out_cell = DP.propagate(solver, nn_spec, cell)\n",
    "        violations = bounds(out_cell, upper=true)\n",
    "        max_violation = maximum(violations)\n",
    "\n",
    "        return max_violation, out_cell\n",
    "    end\n",
    "\n",
    "    achievable_value = cell -> begin\n",
    "        l, u = cell.bounds[\"input\"]\n",
    "        center = 0.5 .* (l .+ u)\n",
    "        y = maximum(DP.propagate(nn_spec, center))\n",
    "        return center, y\n",
    "    end\n",
    "\n",
    "    return DP.general_priority_optimization(s, approximate_optimize_cell, achievable_value, params, true,\n",
    "            split=split, bound_threshold_realizable=0., bound_threshold_approximate=0.)\n",
    "end"
   ]
  },
  {
   "cell_type": "code",
   "execution_count": 7,
   "metadata": {},
   "outputs": [],
   "source": [
    "# just a dummy method for now\n",
    "function DP.split_multiple_times(sz::DP.SplitZonotope, n)\n",
    "    return [sz]\n",
    "end"
   ]
  },
  {
   "cell_type": "code",
   "execution_count": 8,
   "metadata": {},
   "outputs": [],
   "source": [
    "function LazySets.radius(sz::DP.SplitZonotope)\n",
    "    l, u = sz.bounds[\"input\"]\n",
    "    H = Hyperrectangle(low=l, high=u)\n",
    "    return radius(H)\n",
    "end"
   ]
  },
  {
   "cell_type": "code",
   "execution_count": 9,
   "metadata": {},
   "outputs": [
    {
     "data": {
      "text/plain": [
       "Base.RefValue{Int64}(0)"
      ]
     },
     "metadata": {},
     "output_type": "display_data"
    }
   ],
   "source": [
    "const CNT = Ref(0)"
   ]
  },
  {
   "cell_type": "code",
   "execution_count": 13,
   "metadata": {},
   "outputs": [
    {
     "name": "stdout",
     "output_type": "stream",
     "text": [
      "i: 100 - [-0.020680464804172516, 3508.366693359719], 1.1357848644256592 sec\n"
     ]
    },
    {
     "name": "stdout",
     "output_type": "stream",
     "text": [
      "i: 200 - [-0.020680464804172516, 3372.785340275339], 1.9647369384765625 sec\n"
     ]
    },
    {
     "name": "stdout",
     "output_type": "stream",
     "text": [
      "i: 300 - [-0.020680464804172516, 3428.2264401146713], 3.036409854888916 sec\n"
     ]
    },
    {
     "name": "stdout",
     "output_type": "stream",
     "text": [
      "i: 400 - [-0.020680464804172516, 3283.677843188986], 4.202816963195801 sec\n"
     ]
    },
    {
     "name": "stdout",
     "output_type": "stream",
     "text": [
      "i: 500 - [-0.020680464804172516, 3248.8190015944097], 5.214087963104248 sec\n"
     ]
    },
    {
     "name": "stdout",
     "output_type": "stream",
     "text": [
      "i: 600 - [-0.020680464804172516, 3221.595615371154], 6.380451917648315 sec\n"
     ]
    },
    {
     "name": "stdout",
     "output_type": "stream",
     "text": [
      "i: 700 - [-0.020680464804172516, 3196.262780349612], 7.5341808795928955 sec\n"
     ]
    },
    {
     "name": "stdout",
     "output_type": "stream",
     "text": [
      "i: 800 - [-0.020680464804172516, 3178.2461537449394], 8.883760929107666 sec\n"
     ]
    },
    {
     "name": "stdout",
     "output_type": "stream",
     "text": [
      "i: 900 - [-0.020680464804172516, 3161.797944163146], 9.82664680480957 sec\n"
     ]
    },
    {
     "name": "stdout",
     "output_type": "stream",
     "text": [
      "i: 1000 - [-0.020680464804172516, 3144.040208332024], 10.816926956176758 sec\n"
     ]
    },
    {
     "name": "stdout",
     "output_type": "stream",
     "text": [
      "i: 1100 - [-0.020680464804172516, 3131.53140047039], 11.916481971740723 sec\n"
     ]
    },
    {
     "name": "stdout",
     "output_type": "stream",
     "text": [
      "i: 1200 - [-0.020680464804172516, 3120.8569317468837], 13.026774883270264 sec\n"
     ]
    },
    {
     "name": "stdout",
     "output_type": "stream",
     "text": [
      "i: 1300 - [-0.020680464804172516, 3107.725182280842], 13.99036979675293 sec\n"
     ]
    },
    {
     "name": "stdout",
     "output_type": "stream",
     "text": [
      "i: 1400 - [-0.020680464804172516, 3097.437384412414], 15.847959995269775 sec\n"
     ]
    },
    {
     "name": "stdout",
     "output_type": "stream",
     "text": [
      "i: 1500 - [-0.020680464804172516, 3084.6331594655308], 17.692677974700928 sec\n"
     ]
    },
    {
     "name": "stdout",
     "output_type": "stream",
     "text": [
      "i: 1600 - [-0.020680464804172516, 3125.8953102241403], 19.534685850143433 sec\n"
     ]
    },
    {
     "name": "stdout",
     "output_type": "stream",
     "text": [
      "i: 1700 - [-0.020680464804172516, 3066.072059943142], 21.39531898498535 sec\n"
     ]
    },
    {
     "name": "stdout",
     "output_type": "stream",
     "text": [
      "i: 1800 - [-0.020680464804172516, 3058.0840603182432], 23.293340921401978 sec\n"
     ]
    },
    {
     "name": "stdout",
     "output_type": "stream",
     "text": [
      "i: 1900 - [-0.020680464804172516, 3046.5022873401026], 25.162490844726562 sec\n"
     ]
    },
    {
     "name": "stdout",
     "output_type": "stream",
     "text": [
      "i: 2000 - [-0.020680464804172516, 3040.2036189444693], 26.866840839385986 sec\n"
     ]
    },
    {
     "name": "stdout",
     "output_type": "stream",
     "text": [
      "i: 2100 - [-0.020680464804172516, 3053.0267728539784], 27.859731912612915 sec\n"
     ]
    },
    {
     "name": "stdout",
     "output_type": "stream",
     "text": [
      "i: 2200 - [-0.020680464804172516, 3023.640543545098], 28.969012022018433 sec\n"
     ]
    },
    {
     "name": "stdout",
     "output_type": "stream",
     "text": [
      "i: 2300 - [-0.020680464804172516, 3018.190662710672], 29.981292963027954 sec\n"
     ]
    },
    {
     "name": "stdout",
     "output_type": "stream",
     "text": [
      "i: 2400 - [-0.020680464804172516, 3011.81353220606], 30.985118865966797 sec\n"
     ]
    },
    {
     "name": "stdout",
     "output_type": "stream",
     "text": [
      "i: 2500 - [-0.020680464804172516, 3049.998706343469], 31.994520902633667 sec\n"
     ]
    },
    {
     "name": "stdout",
     "output_type": "stream",
     "text": [
      "i: 2600 - [-0.020680464804172516, 3019.287934370115], 33.52884578704834 sec\n"
     ]
    },
    {
     "name": "stdout",
     "output_type": "stream",
     "text": [
      "i: 2700 - [-0.020229337736964226, 2996.0411668403926], 34.673749923706055 sec\n"
     ]
    },
    {
     "name": "stdout",
     "output_type": "stream",
     "text": [
      "i: 2800 - [-0.020229337736964226, 2991.6237717383406], 35.794363021850586 sec\n"
     ]
    },
    {
     "name": "stdout",
     "output_type": "stream",
     "text": [
      "i: 2900 - [-0.020229337736964226, 2986.6566216017445], 36.942792892456055 sec\n"
     ]
    },
    {
     "name": "stdout",
     "output_type": "stream",
     "text": [
      "i: 3000 - [-0.020229337736964226, 2982.6351296384787], 38.017634868621826 sec\n"
     ]
    },
    {
     "name": "stdout",
     "output_type": "stream",
     "text": [
      "i: 3100 - [-0.020229337736964226, 2978.010236580573], 39.95067000389099 sec\n"
     ]
    },
    {
     "name": "stdout",
     "output_type": "stream",
     "text": [
      "i: 3200 - [-0.020229337736964226, 3036.852301379171], 41.861655950546265 sec\n"
     ]
    },
    {
     "name": "stdout",
     "output_type": "stream",
     "text": [
      "i: 3300 - [-0.020229337736964226, 3034.1089320832775], 43.793195962905884 sec\n"
     ]
    },
    {
     "name": "stdout",
     "output_type": "stream",
     "text": [
      "i: 3400 - [-0.020229337736964226, 3061.9406882844983], 44.80449080467224 sec\n"
     ]
    },
    {
     "name": "stdout",
     "output_type": "stream",
     "text": [
      "i: 3500 - [-0.020229337736964226, 2960.3875528335698], 46.29072380065918 sec\n"
     ]
    },
    {
     "name": "stdout",
     "output_type": "stream",
     "text": [
      "i: 3600 - [-0.020229337736964226, 2961.855601448697], 47.298681020736694 sec\n"
     ]
    },
    {
     "name": "stdout",
     "output_type": "stream",
     "text": [
      "i: 3700 - [-0.020229337736964226, 2952.259340002296], 48.29562592506409 sec\n"
     ]
    },
    {
     "name": "stdout",
     "output_type": "stream",
     "text": [
      "i: 3800 - [-0.020229337736964226, 3028.1166894776484], 49.31804800033569 sec\n"
     ]
    },
    {
     "name": "stdout",
     "output_type": "stream",
     "text": [
      "i: 3900 - [-0.020229337736964226, 2944.787175316976], 50.33676791191101 sec\n"
     ]
    },
    {
     "name": "stdout",
     "output_type": "stream",
     "text": [
      "i: 4000 - [-0.020229337736964226, 2940.858895849387], 51.35051679611206 sec\n"
     ]
    },
    {
     "name": "stdout",
     "output_type": "stream",
     "text": [
      "i: 4100 - [-0.020229337736964226, 2936.872664029304], 52.359288930892944 sec\n"
     ]
    },
    {
     "name": "stdout",
     "output_type": "stream",
     "text": [
      "i: 4200 - [-0.020229337736964226, 2965.7828688790305], 53.37923192977905 sec\n"
     ]
    },
    {
     "name": "stdout",
     "output_type": "stream",
     "text": [
      "i: 4300 - [-0.020229337736964226, 2944.0734784951046], 54.473806858062744 sec\n"
     ]
    },
    {
     "name": "stdout",
     "output_type": "stream",
     "text": [
      "i: 4400 - [-0.020229337736964226, 2926.9265019459103], 55.4796028137207 sec\n"
     ]
    },
    {
     "name": "stdout",
     "output_type": "stream",
     "text": [
      "i: 4500 - [-0.020229337736964226, 2923.3883437443606], 56.4642059803009 sec\n"
     ]
    },
    {
     "name": "stdout",
     "output_type": "stream",
     "text": [
      "i: 4600 - [-0.020229337736964226, 2923.35434030535], 57.4669508934021 sec\n"
     ]
    },
    {
     "name": "stdout",
     "output_type": "stream",
     "text": [
      "i: 4700 - [-0.020229337736964226, 2918.9721967206838], 58.48035383224487 sec\n"
     ]
    },
    {
     "name": "stdout",
     "output_type": "stream",
     "text": [
      "i: 4800 - [-0.020229337736964226, 2912.7831820778356], 59.498278856277466 sec\n"
     ]
    },
    {
     "name": "stdout",
     "output_type": "stream",
     "text": [
      "i: 4900 - [-0.020229337736964226, 2909.646847092757], 60.636987924575806 sec\n"
     ]
    },
    {
     "name": "stdout",
     "output_type": "stream",
     "text": [
      "i: 5000 - [-0.020229337736964226, 2906.196567751074], 61.67468285560608 sec\n"
     ]
    },
    {
     "name": "stdout",
     "output_type": "stream",
     "text": [
      "i: 5100 - [-0.020229337736964226, 2941.2307218938877], 62.78279781341553 sec\n"
     ]
    },
    {
     "name": "stdout",
     "output_type": "stream",
     "text": [
      "i: 5200 - [-0.020229337736964226, 2900.9979921633662], 63.807928800582886 sec\n"
     ]
    },
    {
     "name": "stdout",
     "output_type": "stream",
     "text": [
      "i: 5300 - [-0.020229337736964226, 2898.3447264389365], 64.84912180900574 sec\n"
     ]
    },
    {
     "name": "stdout",
     "output_type": "stream",
     "text": [
      "i: 5400 - [-0.020229337736964226, 2948.6921366901597], 65.89121890068054 sec\n"
     ]
    },
    {
     "name": "stdout",
     "output_type": "stream",
     "text": [
      "i: 5500 - [-0.020229337736964226, 2929.4190353136687], 66.89010190963745 sec\n"
     ]
    },
    {
     "name": "stdout",
     "output_type": "stream",
     "text": [
      "i: 5600 - [-0.020229337736964226, 2890.49455110938], 68.0255479812622 sec\n"
     ]
    },
    {
     "name": "stdout",
     "output_type": "stream",
     "text": [
      "i: 5700 - [-0.020229337736964226, 2954.528235973176], 69.04785394668579 sec\n"
     ]
    },
    {
     "name": "stdout",
     "output_type": "stream",
     "text": [
      "i: 5800 - [-0.020229337736964226, 2885.362831759864], 70.21450901031494 sec\n"
     ]
    },
    {
     "name": "stdout",
     "output_type": "stream",
     "text": [
      "i: 5900 - [-0.020229337736964226, 2882.8314741636104], 72.14485383033752 sec\n"
     ]
    },
    {
     "name": "stdout",
     "output_type": "stream",
     "text": [
      "i: 6000 - [-0.020229337736964226, 2880.7022257369176], 74.1271059513092 sec\n"
     ]
    },
    {
     "name": "stdout",
     "output_type": "stream",
     "text": [
      "i: 6100 - [-0.020229337736964226, 2878.20075617411], 76.07947397232056 sec\n"
     ]
    },
    {
     "name": "stdout",
     "output_type": "stream",
     "text": [
      "i: 6200 - [-0.020229337736964226, 2876.482996048718], 78.02261400222778 sec\n"
     ]
    },
    {
     "name": "stdout",
     "output_type": "stream",
     "text": [
      "i: 6300 - [-0.020229337736964226, 2874.0235650180257], 80.02802181243896 sec\n"
     ]
    },
    {
     "name": "stdout",
     "output_type": "stream",
     "text": [
      "i: 6400 - [-0.020229337736964226, 2871.4302159024664], 82.00413990020752 sec\n"
     ]
    },
    {
     "name": "stdout",
     "output_type": "stream",
     "text": [
      "i: 6500 - [-0.020229337736964226, 2869.3394999328866], 83.62558078765869 sec\n"
     ]
    },
    {
     "name": "stdout",
     "output_type": "stream",
     "text": [
      "i: 6600 - [-0.020229337736964226, 3038.8149853689433], 84.6245698928833 sec\n"
     ]
    },
    {
     "name": "stdout",
     "output_type": "stream",
     "text": [
      "i: 6700 - [-0.020229337736964226, 2944.1826512770795], 85.66296195983887 sec\n"
     ]
    },
    {
     "name": "stdout",
     "output_type": "stream",
     "text": [
      "i: 6800 - [-0.020229337736964226, 2863.335783915116], 86.6585168838501 sec\n"
     ]
    },
    {
     "name": "stdout",
     "output_type": "stream",
     "text": [
      "i: 6900 - [-0.020229337736964226, 2867.9921777173386], 87.67502188682556 sec\n"
     ]
    },
    {
     "name": "stdout",
     "output_type": "stream",
     "text": [
      "i: 7000 - [-0.020229337736964226, 2925.426236802339], 88.70899796485901 sec\n"
     ]
    },
    {
     "name": "stdout",
     "output_type": "stream",
     "text": [
      "i: 7100 - [-0.020229337736964226, 2857.5286438014527], 89.76438689231873 sec\n"
     ]
    },
    {
     "name": "stdout",
     "output_type": "stream",
     "text": [
      "i: 7200 - [-0.020229337736964226, 2866.991406913193], 90.79275178909302 sec\n"
     ]
    },
    {
     "name": "stdout",
     "output_type": "stream",
     "text": [
      "i: 7300 - [-0.020229337736964226, 2853.969180350193], 91.89740180969238 sec\n"
     ]
    },
    {
     "name": "stdout",
     "output_type": "stream",
     "text": [
      "i: 7400 - [-0.020229337736964226, 2852.4176888715688], 92.93074584007263 sec\n"
     ]
    },
    {
     "name": "stdout",
     "output_type": "stream",
     "text": [
      "i: 7500 - [-0.020229337736964226, 3010.7982611608927], 93.95432782173157 sec\n"
     ]
    },
    {
     "name": "stdout",
     "output_type": "stream",
     "text": [
      "i: 7600 - [-0.020229337736964226, 2848.5059974485794], 95.01474785804749 sec\n"
     ]
    },
    {
     "name": "stdout",
     "output_type": "stream",
     "text": [
      "i: 7700 - [-0.020229337736964226, 2846.707523475099], 96.16641688346863 sec\n"
     ]
    },
    {
     "name": "stdout",
     "output_type": "stream",
     "text": [
      "i: 7800 - [-0.020229337736964226, 2844.519094360653], 97.16356492042542 sec\n"
     ]
    },
    {
     "name": "stdout",
     "output_type": "stream",
     "text": [
      "i: 7900 - [-0.020229337736964226, 2842.341784754714], 98.21214389801025 sec\n"
     ]
    },
    {
     "name": "stdout",
     "output_type": "stream",
     "text": [
      "i: 8000 - [-0.020229337736964226, 2840.4260902355936], 99.23770999908447 sec\n"
     ]
    },
    {
     "name": "stdout",
     "output_type": "stream",
     "text": [
      "i: 8100 - [-0.020229337736964226, 2838.966587088363], 100.39590692520142 sec\n"
     ]
    },
    {
     "name": "stdout",
     "output_type": "stream",
     "text": [
      "i: 8200 - [-0.020229337736964226, 2837.2890205070858], 101.43538188934326 sec\n"
     ]
    },
    {
     "name": "stdout",
     "output_type": "stream",
     "text": [
      "i: 8300 - [-0.020229337736964226, 2835.83693877374], 102.4827139377594 sec\n"
     ]
    },
    {
     "name": "stdout",
     "output_type": "stream",
     "text": [
      "i: 8400 - [-0.020229337736964226, 2833.799770645652], 103.52908492088318 sec\n"
     ]
    },
    {
     "name": "stdout",
     "output_type": "stream",
     "text": [
      "i: 8500 - [-0.020229337736964226, 2889.03426400195], 104.70078182220459 sec\n"
     ]
    },
    {
     "name": "stdout",
     "output_type": "stream",
     "text": [
      "i: 8600 - [-0.020229337736964226, 2830.9620267122473], 105.83521699905396 sec\n"
     ]
    },
    {
     "name": "stdout",
     "output_type": "stream",
     "text": [
      "i: 8700 - [-0.020229337736964226, 2829.1511877888183], 106.91332197189331 sec\n"
     ]
    },
    {
     "name": "stdout",
     "output_type": "stream",
     "text": [
      "i: 8800 - [-0.020229337736964226, 2838.5787581491436], 107.96933579444885 sec\n"
     ]
    },
    {
     "name": "stdout",
     "output_type": "stream",
     "text": [
      "i: 8900 - [-0.020229337736964226, 2826.208751669483], 109.04812788963318 sec\n"
     ]
    },
    {
     "name": "stdout",
     "output_type": "stream",
     "text": [
      "i: 9000 - [-0.020229337736964226, 2824.7566545751697], 110.12181782722473 sec\n"
     ]
    },
    {
     "name": "stdout",
     "output_type": "stream",
     "text": [
      "i: 9100 - [-0.020229337736964226, 2823.1373970240575], 111.2115638256073 sec\n"
     ]
    },
    {
     "name": "stdout",
     "output_type": "stream",
     "text": [
      "i: 9200 - [-0.020229337736964226, 2822.1317932502748], 112.31435894966125 sec\n"
     ]
    },
    {
     "name": "stdout",
     "output_type": "stream",
     "text": [
      "i: 9300 - [-0.020229337736964226, 2820.6216920412985], 113.39291095733643 sec\n"
     ]
    },
    {
     "name": "stdout",
     "output_type": "stream",
     "text": [
      "i: 9400 - [-0.020229337736964226, 2819.000291068606], 114.44476199150085 sec\n"
     ]
    },
    {
     "name": "stdout",
     "output_type": "stream",
     "text": [
      "i: 9500 - [-0.020229337736964226, 2817.2673763790494], 115.50501680374146 sec\n"
     ]
    },
    {
     "name": "stdout",
     "output_type": "stream",
     "text": [
      "i: 9600 - [-0.020229337736964226, 2815.75034180048], 116.5318808555603 sec\n"
     ]
    },
    {
     "name": "stdout",
     "output_type": "stream",
     "text": [
      "i: 9700 - [-0.020229337736964226, 2937.3310410679724], 117.56635594367981 sec\n"
     ]
    },
    {
     "name": "stdout",
     "output_type": "stream",
     "text": [
      "i: 9800 - [-0.020229337736964226, 2812.5475208406415], 118.73118996620178 sec\n"
     ]
    },
    {
     "name": "stdout",
     "output_type": "stream",
     "text": [
      "i: 9900 - [-0.020229337736964226, 2959.429022823345], 119.82155084609985 sec\n"
     ]
    },
    {
     "name": "stdout",
     "output_type": "stream",
     "text": [
      "i: 10000 - [-0.020229337736964226, 2809.611201592132], 120.9005868434906 sec\n"
     ]
    },
    {
     "name": "stdout",
     "output_type": "stream",
     "text": [
      "i: 10100 - [-0.020229337736964226, 2808.226174442803], 121.96212387084961 sec\n"
     ]
    },
    {
     "name": "stdout",
     "output_type": "stream",
     "text": [
      "i: 10200 - [-0.020229337736964226, 2816.5928954895558], 123.6352858543396 sec\n"
     ]
    },
    {
     "name": "stdout",
     "output_type": "stream",
     "text": [
      "i: 10300 - [-0.020229337736964226, 2805.4553700150177], 124.71971487998962 sec\n"
     ]
    },
    {
     "name": "stdout",
     "output_type": "stream",
     "text": [
      "i: 10400 - [-0.020229337736964226, 2904.0132312420046], 125.88150596618652 sec\n"
     ]
    },
    {
     "name": "stdout",
     "output_type": "stream",
     "text": [
      "i: 10500 - [-0.020229337736964226, 2822.8780748508207], 126.95071482658386 sec\n"
     ]
    },
    {
     "name": "stdout",
     "output_type": "stream",
     "text": [
      "i: 10600 - [-0.020229337736964226, 2855.949833165072], 128.01766681671143 sec\n"
     ]
    },
    {
     "name": "stdout",
     "output_type": "stream",
     "text": [
      "i: 10700 - [-0.020229337736964226, 2800.3213783664532], 129.0770618915558 sec\n"
     ]
    },
    {
     "name": "stdout",
     "output_type": "stream",
     "text": [
      "i: 10800 - [-0.020229337736964226, 2914.911806056595], 130.1415719985962 sec\n"
     ]
    },
    {
     "name": "stdout",
     "output_type": "stream",
     "text": [
      "i: 10900 - [-0.020229337736964226, 2797.9625363451696], 131.29979181289673 sec\n"
     ]
    },
    {
     "name": "stdout",
     "output_type": "stream",
     "text": [
      "i: 11000 - [-0.020229337736964226, 2796.6767286688937], 132.38926696777344 sec\n"
     ]
    },
    {
     "name": "stdout",
     "output_type": "stream",
     "text": [
      "i: 11100 - [-0.020229337736964226, 2918.144202929764], 133.46647787094116 sec\n"
     ]
    },
    {
     "name": "stdout",
     "output_type": "stream",
     "text": [
      "i: 11200 - [-0.020229337736964226, 2794.1426787853643], 134.55419397354126 sec\n"
     ]
    },
    {
     "name": "stdout",
     "output_type": "stream",
     "text": [
      "i: 11300 - [-0.020229337736964226, 2799.249347414786], 135.65572500228882 sec\n"
     ]
    },
    {
     "name": "stdout",
     "output_type": "stream",
     "text": [
      "i: 11400 - [-0.020229337736964226, 2791.9334013658404], 136.82982087135315 sec\n"
     ]
    },
    {
     "name": "stdout",
     "output_type": "stream",
     "text": [
      "i: 11500 - [-0.020229337736964226, 2790.868361157442], 138.74603700637817 sec\n"
     ]
    },
    {
     "name": "stdout",
     "output_type": "stream",
     "text": [
      "i: 11600 - [-0.020229337736964226, 2789.558504946196], 140.76779198646545 sec\n"
     ]
    },
    {
     "name": "stdout",
     "output_type": "stream",
     "text": [
      "i: 11700 - [-0.020229337736964226, 2788.619535281165], 142.81262397766113 sec\n"
     ]
    },
    {
     "name": "stdout",
     "output_type": "stream",
     "text": [
      "i: 11800 - [-0.020229337736964226, 2787.8622878511846], 144.90292882919312 sec\n"
     ]
    },
    {
     "name": "stdout",
     "output_type": "stream",
     "text": [
      "i: 11900 - [-0.020229337736964226, 2786.485519650145], 146.09547781944275 sec\n"
     ]
    },
    {
     "name": "stdout",
     "output_type": "stream",
     "text": [
      "i: 12000 - [-0.020229337736964226, 2784.9103865824068], 147.18408393859863 sec\n"
     ]
    },
    {
     "name": "stdout",
     "output_type": "stream",
     "text": [
      "i: 12100 - [-0.020229337736964226, 2861.253575377034], 148.26401090621948 sec\n"
     ]
    },
    {
     "name": "stdout",
     "output_type": "stream",
     "text": [
      "i: 12200 - [-0.020229337736964226, 2815.9951681611014], 149.3685109615326 sec\n"
     ]
    },
    {
     "name": "stdout",
     "output_type": "stream",
     "text": [
      "i: 12300 - [-0.020229337736964226, 2817.8966352194147], 150.48348593711853 sec\n"
     ]
    },
    {
     "name": "stdout",
     "output_type": "stream",
     "text": [
      "i: 12400 - [-0.020229337736964226, 2780.7445893339827], 151.62427496910095 sec\n"
     ]
    },
    {
     "name": "stdout",
     "output_type": "stream",
     "text": [
      "i: 12500 - [-0.020229337736964226, 2790.1571033978316], 152.70993280410767 sec\n"
     ]
    },
    {
     "name": "stdout",
     "output_type": "stream",
     "text": [
      "i: 12600 - [-0.020229337736964226, 2778.7665837304135], 153.80965089797974 sec\n"
     ]
    },
    {
     "name": "stdout",
     "output_type": "stream",
     "text": [
      "i: 12700 - [-0.020229337736964226, 2777.8491853173064], 154.88739681243896 sec\n"
     ]
    },
    {
     "name": "stdout",
     "output_type": "stream",
     "text": [
      "i: 12800 - [-0.020229337736964226, 2856.3503134880207], 155.98687481880188 sec\n"
     ]
    },
    {
     "name": "stdout",
     "output_type": "stream",
     "text": [
      "i: 12900 - [-0.020229337736964226, 2811.728027248891], 157.1115918159485 sec\n"
     ]
    },
    {
     "name": "stdout",
     "output_type": "stream",
     "text": [
      "i: 13000 - [-0.020229337736964226, 2774.411845489864], 158.23641896247864 sec\n"
     ]
    },
    {
     "name": "stdout",
     "output_type": "stream",
     "text": [
      "i: 13100 - [-0.020229337736964226, 2773.651704685637], 159.35232186317444 sec\n"
     ]
    },
    {
     "name": "stdout",
     "output_type": "stream",
     "text": [
      "i: 13200 - [-0.020229337736964226, 2772.6960512339488], 160.4380588531494 sec\n"
     ]
    },
    {
     "name": "stdout",
     "output_type": "stream",
     "text": [
      "i: 13300 - [-0.020229337736964226, 2860.8201348191697], 161.92064785957336 sec\n"
     ]
    },
    {
     "name": "stdout",
     "output_type": "stream",
     "text": [
      "i: 13400 - [-0.020229337736964226, 2770.946164899295], 163.17388200759888 sec\n"
     ]
    },
    {
     "name": "stdout",
     "output_type": "stream",
     "text": [
      "i: 13500 - [-0.020229337736964226, 2769.816114790617], 164.28280901908875 sec\n"
     ]
    },
    {
     "name": "stdout",
     "output_type": "stream",
     "text": [
      "i: 13600 - [-0.020229337736964226, 2768.641815810449], 165.48990893363953 sec\n"
     ]
    },
    {
     "name": "stdout",
     "output_type": "stream",
     "text": [
      "i: 13700 - [-0.020229337736964226, 2767.5187511500435], 166.61875581741333 sec\n"
     ]
    },
    {
     "name": "stdout",
     "output_type": "stream",
     "text": [
      "i: 13800 - [-0.020229337736964226, 2814.032211190776], 167.72194385528564 sec\n"
     ]
    },
    {
     "name": "stdout",
     "output_type": "stream",
     "text": [
      "i: 13900 - [-0.020229337736964226, 2765.345198251608], 168.85115885734558 sec\n"
     ]
    },
    {
     "name": "stdout",
     "output_type": "stream",
     "text": [
      "i: 14000 - [-0.020229337736964226, 2797.290603860132], 170.0677318572998 sec\n"
     ]
    },
    {
     "name": "stdout",
     "output_type": "stream",
     "text": [
      "i: 14100 - [-0.020229337736964226, 2763.41818511842], 171.167555809021 sec\n"
     ]
    },
    {
     "name": "stdout",
     "output_type": "stream",
     "text": [
      "i: 14200 - [-0.020229337736964226, 2762.467853372721], 172.4131989479065 sec\n"
     ]
    },
    {
     "name": "stdout",
     "output_type": "stream",
     "text": [
      "i: 14300 - [-0.020229337736964226, 2794.4766199646806], 173.5810329914093 sec\n"
     ]
    },
    {
     "name": "stdout",
     "output_type": "stream",
     "text": [
      "i: 14400 - [-0.020229337736964226, 2760.3550880360262], 174.68295693397522 sec\n"
     ]
    },
    {
     "name": "stdout",
     "output_type": "stream",
     "text": [
      "i: 14500 - [-0.020229337736964226, 2779.0641142248764], 175.79494094848633 sec\n"
     ]
    },
    {
     "name": "stdout",
     "output_type": "stream",
     "text": [
      "i: 14600 - [-0.020229337736964226, 2820.397137956986], 176.9394497871399 sec\n"
     ]
    },
    {
     "name": "stdout",
     "output_type": "stream",
     "text": [
      "i: 14700 - [-0.020229337736964226, 2757.8413647796233], 178.03419995307922 sec\n"
     ]
    },
    {
     "name": "stdout",
     "output_type": "stream",
     "text": [
      "i: 14800 - [-0.020229337736964226, 2764.1105288203144], 179.1244080066681 sec\n"
     ]
    },
    {
     "name": "stdout",
     "output_type": "stream",
     "text": [
      "i: 14900 - [-0.020229337736964226, 2782.3177422123863], 180.26474785804749 sec\n"
     ]
    },
    {
     "name": "stdout",
     "output_type": "stream",
     "text": [
      "i: 15000 - [-0.020229337736964226, 2754.841288270223], 181.35587692260742 sec\n"
     ]
    },
    {
     "data": {
      "text/plain": [
       "([0.6399288845, 0.0, -0.25, 0.475, -0.475], -0.020229338f0, 2807.1600227768076, 15000)"
      ]
     },
     "metadata": {},
     "output_type": "display_data"
    }
   ],
   "source": [
    "CNT[] = 0\n",
    "params = DP.PriorityOptimizerParameters(max_steps=15000, print_frequency=100, stop_frequency=1, verbosity=2, timeout=1800)\n",
    "solver = DP.LSTMSolver()\n",
    "\n",
    "\n",
    "split_method = sz -> DP.split_split_zonotope(sz, nn.input_shape)\n",
    "\n",
    "\n",
    "out_spec = HPolytope([1. 0 0 0 0;], [0.])\n",
    "contained_within_polytope_sz(nn, input_set, out_spec, params, split=split_method, solver=solver)"
   ]
  },
  {
   "cell_type": "code",
   "execution_count": 15,
   "metadata": {},
   "outputs": [
    {
     "data": {
      "text/plain": [
       "Recur(\n",
       "  LSTMCell(3 => 5),                     \u001b[90m# 190 parameters\u001b[39m\n",
       ") \u001b[90m        # Total: 5 trainable arrays, \u001b[39m190 parameters,\n",
       "\u001b[90m          # plus 2 non-trainable, 10 parameters, summarysize \u001b[39m1.062 KiB."
      ]
     },
     "metadata": {},
     "output_type": "display_data"
    }
   ],
   "source": [
    "LSTM(3 => 5)"
   ]
  },
  {
   "cell_type": "code",
   "execution_count": null,
   "metadata": {},
   "outputs": [],
   "source": []
  }
 ],
 "metadata": {
  "kernelspec": {
   "display_name": "Julia 1.9.2",
   "language": "julia",
   "name": "julia-1.9"
  },
  "language_info": {
   "file_extension": ".jl",
   "mimetype": "application/julia",
   "name": "julia",
   "version": "1.9.2"
  },
  "orig_nbformat": 4
 },
 "nbformat": 4,
 "nbformat_minor": 2
}
