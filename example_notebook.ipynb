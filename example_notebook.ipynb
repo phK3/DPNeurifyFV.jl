{
 "cells": [
  {
   "cell_type": "markdown",
   "id": "31a8c462-1ef7-42fd-bd73-756d2e581125",
   "metadata": {},
   "source": [
    "# Example Notebook for DPNeurifyFV\n",
    "\n",
    "To make sure the notebook runs with the `DPNeurifyFV` environment, activate the directory with the corresponding `Project.toml` in Julia's package manager.\n",
    "\n",
    "**General note**: Julia precompiles a function, when it is first used. This may lead to the first execution to be rather slow. It should be much faster, for the second execution."
   ]
  },
  {
   "cell_type": "code",
   "execution_count": 1,
   "id": "1f07f195-6c21-4faa-a2de-54e2eed8790b",
   "metadata": {},
   "outputs": [
    {
     "name": "stderr",
     "output_type": "stream",
     "text": [
      "\u001b[32m\u001b[1m  Activating\u001b[22m\u001b[39m environment at `~/VerifyNN/DPNeurifyFV/Project.toml`\n"
     ]
    },
    {
     "name": "stdout",
     "output_type": "stream",
     "text": [
      "\u001b[36m\u001b[1m     Project\u001b[22m\u001b[39m DPNeurifyFV v0.1.0\n",
      "\u001b[32m\u001b[1m      Status\u001b[22m\u001b[39m `~/VerifyNN/DPNeurifyFV/Project.toml`\n",
      " \u001b[90m [864edb3b] \u001b[39mDataStructures v0.18.11\n",
      " \u001b[90m [b4f0291d] \u001b[39mLazySets v1.56.3\n",
      " \u001b[90m [7e1232c4] \u001b[39mNeuralPriorityOptimizer v0.1.0 `https://github.com/sisl/NeuralPriorityOptimizer.jl#main`\n",
      " \u001b[90m [146f25fa] \u001b[39mNeuralVerification v0.1.0 `https://github.com/phK3/NeuralVerification.jl#BuildingBranch`\n",
      " \u001b[90m [d96e819e] \u001b[39mParameters v0.12.3\n",
      " \u001b[90m [37e2e46d] \u001b[39mLinearAlgebra\n"
     ]
    }
   ],
   "source": [
    "import Pkg\n",
    "Pkg.activate(\".\")\n",
    "Pkg.status()"
   ]
  },
  {
   "cell_type": "markdown",
   "id": "ab903261-113b-4810-a735-154cef6619ec",
   "metadata": {},
   "source": [
    "Import the necessary packages `DPNeurifyFV`, `NeuralVerification` and `LazySets`."
   ]
  },
  {
   "cell_type": "code",
   "execution_count": 48,
   "id": "44c07727-a3b2-485c-ad41-54bf8878dd18",
   "metadata": {},
   "outputs": [],
   "source": [
    "using NeuralVerification, DPNeurifyFV, LazySets"
   ]
  },
  {
   "cell_type": "markdown",
   "id": "a649d8b4-441a-40e4-b372-3956e7c13071",
   "metadata": {},
   "source": [
    "We are going to demonstrate the functionality on the example of the first ACAS-Xu network operating on the input defined in property $\\phi_1$.\n",
    "\n",
    "After loading the network, we convert it into a format that stores the negative and positive weights separately to make the symbolic forward pass with `DPNeurifyFV` more efficient."
   ]
  },
  {
   "cell_type": "code",
   "execution_count": 5,
   "id": "e2de206a-37eb-4d9f-a91b-db907c3cf69b",
   "metadata": {},
   "outputs": [],
   "source": [
    "input_set, output_set = DPNeurifyFV.get_acas_sets(1)\n",
    "\n",
    "acas = read_nnet(\"./networks/ACASXU_experimental_v2a_1_1.nnet\")\n",
    "acas_npi = NetworkNegPosIdx(acas);"
   ]
  },
  {
   "cell_type": "markdown",
   "id": "b524af81-678d-4cd7-8ce9-33a0760bcbb6",
   "metadata": {},
   "source": [
    "## Single Forward Pass\n",
    "\n",
    "We demonstrate the effect of introducing the maximum number of fresh variables (the original idea is given in the [NeuroDiff paper](https://arxiv.org/abs/2009.09943)) at the first possible neurons and how it can be improved by \n",
    "- introducing at fresh variables for at most a certain fraction of the neurons in a layer and\n",
    "- selecting the neurons for which to introduce fresh variables by the range between their concrete lower and upper bounds.\n",
    "\n",
    "The effect of the techniques is visible as the computed lower and upper bounds of the $5$ output neurons of the network get progressively tighter.\n",
    "\n",
    "Bounds computed by zonotope propagation are also shown for comparison."
   ]
  },
  {
   "cell_type": "code",
   "execution_count": 25,
   "id": "087442c1-1c24-4721-90a3-cb4783a01dab",
   "metadata": {},
   "outputs": [
    {
     "data": {
      "text/plain": [
       "5×2 Matrix{Float64}:\n",
       "  -945.744  2627.28\n",
       " -1593.13   3431.0\n",
       " -1107.33   3485.83\n",
       " -2657.43   3830.79\n",
       " -1721.52   3815.88"
      ]
     },
     "execution_count": 25,
     "metadata": {},
     "output_type": "execute_result"
    }
   ],
   "source": [
    "max_vars = 0\n",
    "s = init_symbolic_interval_fvheur(acas_npi, input_set, max_vars=max_vars);\n",
    "ŝ = forward_network(DPNFV(method=:DeepPolyRelax), acas_npi, s);\n",
    "[ŝ.lbs[end] ŝ.ubs[end]]"
   ]
  },
  {
   "cell_type": "code",
   "execution_count": 45,
   "id": "1ee50458-668b-420a-95d5-5a81abb189c0",
   "metadata": {},
   "outputs": [
    {
     "data": {
      "text/plain": [
       "5×2 Matrix{Float64}:\n",
       "  -713.548  1986.05\n",
       " -1206.81   2595.46\n",
       "  -836.401  2635.62\n",
       " -2011.3    2896.48\n",
       " -1298.61   2885.86"
      ]
     },
     "execution_count": 45,
     "metadata": {},
     "output_type": "execute_result"
    }
   ],
   "source": [
    "max_vars = 20  # best possible value found with linear search\n",
    "s = init_symbolic_interval_fvheur(acas_npi, input_set, max_vars=max_vars);\n",
    "ŝ = forward_network(DPNFV(method=:DeepPolyRelax), acas_npi, s);\n",
    "[ŝ.lbs[end] ŝ.ubs[end]]"
   ]
  },
  {
   "cell_type": "code",
   "execution_count": 23,
   "id": "cc21f0b8-ff36-4780-812d-16eafa3bc8b5",
   "metadata": {},
   "outputs": [
    {
     "data": {
      "text/plain": [
       "5×2 Matrix{Float64}:\n",
       "  -545.844  1327.61\n",
       "  -849.924  1711.73\n",
       "  -620.444  1682.68\n",
       " -1369.79   1985.86\n",
       "  -968.068  1921.66"
      ]
     },
     "execution_count": 23,
     "metadata": {},
     "output_type": "execute_result"
    }
   ],
   "source": [
    "max_vars = 43  # best possible value found with linear search\n",
    "s = init_symbolic_interval_fvheur(acas_npi, input_set, max_vars=max_vars);\n",
    "ŝ = forward_network(DPNFV(method=:DeepPolyRelax, get_fresh_var_idxs=DPNeurifyFV.fresh_var_range_non_zero, var_frac=0.2), acas_npi, s);\n",
    "[ŝ.lbs[end] ŝ.ubs[end]]"
   ]
  },
  {
   "cell_type": "code",
   "execution_count": 49,
   "id": "d397d96c-7533-4c1c-8285-dc60432f6dc7",
   "metadata": {},
   "outputs": [
    {
     "data": {
      "text/plain": [
       "5×2 Matrix{Float64}:\n",
       " -3284.19  5023.29\n",
       " -3858.88  5701.12\n",
       " -3974.83  6211.21\n",
       " -4135.37  5365.68\n",
       " -3829.93  5514.25"
      ]
     },
     "execution_count": 49,
     "metadata": {},
     "output_type": "execute_result"
    }
   ],
   "source": [
    "# Zonotope propagation\n",
    "ẑ = forward_network(Ai2z(), acas, input_set)\n",
    "[low(ẑ) high(ẑ)]"
   ]
  },
  {
   "cell_type": "markdown",
   "id": "7eb35c94-9704-430a-8cc1-b1dbd775aa7b",
   "metadata": {},
   "source": [
    "# Branch and Bound with Input Splitting\n",
    "\n",
    "We are now going to maximize the first output of the network over the input space given by property $\\phi_1$."
   ]
  },
  {
   "cell_type": "code",
   "execution_count": 51,
   "id": "6203201b-26d1-4373-a2c2-7831e159aa77",
   "metadata": {},
   "outputs": [
    {
     "name": "stdout",
     "output_type": "stream",
     "text": [
      "i: 100 - [-0.017807535560300215, 0.28346228356969677], 0.1857128143310547 sec\n",
      "i: 200 - [-0.017807535560300215, -0.0005626577176235797], 0.3333280086517334 sec\n",
      "i: 300 - [-0.017807535560300215, -0.014229881669890589], 0.47218894958496094 sec\n",
      "i: 400 - [-0.017807535560300215, -0.01616575874515486], 0.6078557968139648 sec\n",
      "i: 500 - [-0.017768583207969105, -0.01700112607245889], 0.7410039901733398 sec\n",
      "i: 600 - [-0.01771721730558143, -0.017293899238105828], 0.8720948696136475 sec\n",
      "i: 700 - [-0.01768762570130527, -0.017444203723618303], 0.998323917388916 sec\n",
      "i: 800 - [-0.01768762570130527, -0.017532476976106312], 1.119107961654663 sec\n",
      "i: 900 - [-0.01768762570130527, -0.01757186146113745], 1.237293004989624 sec\n",
      "i: 1000 - [-0.01768762570130527, -0.017591160922579428], 1.3489699363708496 sec\n",
      "i: 1059 - [-0.01768762570130527, -0.017602731762479756], 1.42289400100708 sec\n"
     ]
    },
    {
     "data": {
      "text/plain": [
       "([0.5999999999999999, 0.0009765625, 0.34375, 0.5, -0.45], -0.01768762570130527, -0.017602731762479756, 1059)"
      ]
     },
     "execution_count": 51,
     "metadata": {},
     "output_type": "execute_result"
    }
   ],
   "source": [
    "params = DPNeurifyFV.PriorityOptimizerParameters(max_steps=5000, print_frequency=100, stop_frequency=1, verbosity=2)\n",
    "optimize_linear_deep_poly(acas, input_set, [1.,0,0,0,0], params, solver=DPNFV(method=:DeepPolyRelax, max_vars=15), concrete_sample=:BoundsMaximizer, split=DPNeurifyFV.split_important_interval)"
   ]
  },
  {
   "cell_type": "code",
   "execution_count": null,
   "id": "7c2ed889-6857-47d7-9ceb-12393283b706",
   "metadata": {},
   "outputs": [],
   "source": []
  }
 ],
 "metadata": {
  "kernelspec": {
   "display_name": "Julia 1.6.3",
   "language": "julia",
   "name": "julia-1.6"
  },
  "language_info": {
   "file_extension": ".jl",
   "mimetype": "application/julia",
   "name": "julia",
   "version": "1.6.3"
  }
 },
 "nbformat": 4,
 "nbformat_minor": 5
}
