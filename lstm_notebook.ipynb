{
 "cells": [
  {
   "cell_type": "code",
   "execution_count": 1,
   "metadata": {},
   "outputs": [
    {
     "name": "stdout",
     "output_type": "stream",
     "text": [
      "Academic license - for non-commercial use only - expires 2023-11-26\n"
     ]
    },
    {
     "name": "stdout",
     "output_type": "stream",
     "text": [
      "precompiling...\n"
     ]
    },
    {
     "name": "stdout",
     "output_type": "stream",
     "text": [
      "node input_Sub: sub constant\n",
      "\n",
      "parsing flatten :-)\n"
     ]
    },
    {
     "name": "stdout",
     "output_type": "stream",
     "text": [
      "parsing Matmul with input :-)\n"
     ]
    },
    {
     "name": "stdout",
     "output_type": "stream",
     "text": [
      "node Operation_1_Add: add constant\n",
      "\n",
      "parsing ReLU :-)\n",
      "parsing Matmul with input :-)\n",
      "node Operation_2_Add: add constant\n",
      "\n",
      "parsing ReLU :-)\n",
      "parsing Matmul with input :-)\n",
      "node Operation_3_Add: add constant\n",
      "\n",
      "parsing ReLU :-)\n",
      "parsing Matmul with input :-)\n",
      "node Operation_4_Add: add constant\n",
      "\n",
      "parsing ReLU :-)\n",
      "parsing Matmul with input :-)\n",
      "node Operation_5_Add: add constant\n",
      "\n",
      "parsing ReLU :-)\n",
      "parsing Matmul with input :-)\n",
      "node Operation_6_Add: add constant\n",
      "\n",
      "parsing ReLU :-)\n",
      "parsing Matmul with input :-)\n",
      "node linear_7_Add: add constant\n",
      "\n"
     ]
    },
    {
     "name": "stdout",
     "output_type": "stream",
     "text": [
      "[\"input\"][\"linear_7_Add\"]"
     ]
    },
    {
     "name": "stdout",
     "output_type": "stream",
     "text": [
      "Constructing the whole NN -- yay -- :-)\n",
      "inputs: [\"input\"]\n",
      "outputs: [\"linear_7_Add\"]\n",
      "input_shape = Any[1, 1, 1, 5], output_shape = Any[1, 5]\n"
     ]
    },
    {
     "name": "stderr",
     "output_type": "stream",
     "text": [
      "/home/philipp/.julia/conda/3/lib/python3.10/site-packages/vnnlib/parser.py:213: UserWarning: literal negation does not strictly follow SMT-LIB\n",
      "  warnings.warn(\"literal negation does not strictly follow SMT-LIB\")\n"
     ]
    },
    {
     "name": "stdout",
     "output_type": "stream",
     "text": [
      "Warning! Output constraints have to be polytopes, found b with size (1, 1) - trying vec(b)\n"
     ]
    },
    {
     "name": "stdout",
     "output_type": "stream",
     "text": [
      "Checking if polytope can be reached\n"
     ]
    },
    {
     "name": "stderr",
     "output_type": "stream",
     "text": [
      "\u001b[33m\u001b[1m┌ \u001b[22m\u001b[39m\u001b[33m\u001b[1mWarning: \u001b[22m\u001b[39mLayer with Float32 parameters got Float64 input.\n",
      "\u001b[33m\u001b[1m│ \u001b[22m\u001b[39m  The input will be converted, but any earlier layers may be very slow.\n",
      "\u001b[33m\u001b[1m│ \u001b[22m\u001b[39m  layer = Dense(5 => 50)      \u001b[90m# 300 parameters\u001b[39m\n",
      "\u001b[33m\u001b[1m│ \u001b[22m\u001b[39m  summary(x) = \"5×6 Matrix{Float64}\"\n",
      "\u001b[33m\u001b[1m└ \u001b[22m\u001b[39m\u001b[90m@ Flux ~/.julia/packages/Flux/n3cOc/src/layers/stateless.jl:60\u001b[39m\n"
     ]
    },
    {
     "name": "stdout",
     "output_type": "stream",
     "text": [
      "i: 1 - "
     ]
    },
    {
     "name": "stdout",
     "output_type": "stream",
     "text": [
      "[-4.01316499710083, 2269.2729241943107], 6.606049060821533 sec\n"
     ]
    },
    {
     "name": "stdout",
     "output_type": "stream",
     "text": [
      "i: 2 - [-4.01316499710083, 1122.462314027753], 10.112812042236328 sec\n",
      "i: 3 - [-4.01316499710083, 1095.465432296466], 10.119292974472046 sec\n",
      "Steps: 3 - [-1030.3663799624544, 4.01316499710083] -> inconclusive\n"
     ]
    },
    {
     "name": "stdout",
     "output_type": "stream",
     "text": [
      "Academic license - for non-commercial use only - expires 2023-11-26\n"
     ]
    },
    {
     "data": {
      "text/plain": [
       "DPNeurifyFV"
      ]
     },
     "metadata": {},
     "output_type": "display_data"
    }
   ],
   "source": [
    "# using Revise\n",
    "\n",
    "using DPNeurifyFV, LazySets, PyVnnlib, NeuralVerification, JuMP, Gurobi, \n",
    "        LinearAlgebra, Flux\n",
    "import VNNLib.NNLoader as NNL\n",
    "\n",
    "const NV = NeuralVerification\n",
    "const DP = DPNeurifyFV"
   ]
  },
  {
   "cell_type": "markdown",
   "metadata": {},
   "source": [
    "# Load ACAS"
   ]
  },
  {
   "cell_type": "code",
   "execution_count": 2,
   "metadata": {},
   "outputs": [
    {
     "name": "stdout",
     "output_type": "stream",
     "text": [
      "Warning! Output constraints have to be polytopes, found b with size (1, 1) - trying vec(b)\n"
     ]
    },
    {
     "name": "stderr",
     "output_type": "stream",
     "text": [
      "/home/philipp/.julia/conda/3/lib/python3.10/site-packages/vnnlib/parser.py:213: UserWarning: literal negation does not strictly follow SMT-LIB\n",
      "  warnings.warn(\"literal negation does not strictly follow SMT-LIB\")\n"
     ]
    },
    {
     "name": "stdout",
     "output_type": "stream",
     "text": [
      "node input_Sub: sub constant\n",
      "\n",
      "parsing flatten :-)\n",
      "parsing Matmul with input :-)\n"
     ]
    },
    {
     "name": "stdout",
     "output_type": "stream",
     "text": [
      "node Operation_1_Add: add constant\n",
      "\n",
      "parsing ReLU :-)\n",
      "parsing Matmul with input :-)\n",
      "node Operation_2_Add: add constant\n",
      "\n",
      "parsing ReLU :-)\n",
      "parsing Matmul with input :-)\n",
      "node Operation_3_Add: add constant\n",
      "\n",
      "parsing ReLU :-)\n",
      "parsing Matmul with input :-)\n",
      "node Operation_4_Add: add constant\n",
      "\n",
      "parsing ReLU :-)\n",
      "parsing Matmul with input :-)\n",
      "node Operation_5_Add: add constant\n",
      "\n",
      "parsing ReLU :-)\n",
      "parsing Matmul with input :-)\n",
      "node Operation_6_Add: add constant\n",
      "\n",
      "parsing ReLU :-)\n",
      "parsing Matmul with input :-)\n",
      "node linear_7_Add: add constant\n",
      "\n"
     ]
    },
    {
     "name": "stdout",
     "output_type": "stream",
     "text": [
      "[\"input\"][\"linear_7_Add\"]"
     ]
    },
    {
     "name": "stdout",
     "output_type": "stream",
     "text": [
      "Constructing the whole NN -- yay -- :-)\n",
      "inputs: [\"input\"]\n",
      "outputs: [\"linear_7_Add\"]\n",
      "input_shape = Any[1, 1, 1, 5], output_shape = Any[1, 5]\n"
     ]
    }
   ],
   "source": [
    "vnnlib_path = \"../vnncomp2023_benchmarks/benchmarks/acasxu/vnnlib/prop_1.vnnlib.gz\"\n",
    "onnx_path   = \"../vnncomp2023_benchmarks/benchmarks/acasxu/onnx/ACASXU_run2a_1_1_batch_2000.onnx\"\n",
    "\n",
    "speclist = PyVnnlib.generate_specs(vnnlib_path, dtype=Float32)\n",
    "specs = DP.generate_specs(speclist)\n",
    "input_set, output_set = specs[1]\n",
    "\n",
    "nn = NNL.load_network_dict(DP.CGType, onnx_path);"
   ]
  },
  {
   "cell_type": "code",
   "execution_count": 3,
   "metadata": {},
   "outputs": [
    {
     "data": {
      "text/plain": [
       "(5, 1, 1, 1)"
      ]
     },
     "metadata": {},
     "output_type": "display_data"
    }
   ],
   "source": [
    "nn.input_shape"
   ]
  },
  {
   "cell_type": "markdown",
   "metadata": {},
   "source": [
    "## Input Zonotope"
   ]
  },
  {
   "cell_type": "code",
   "execution_count": 4,
   "metadata": {},
   "outputs": [
    {
     "data": {
      "text/plain": [
       "DPNeurifyFV.SplitZonotope{Float64}(Zonotope{Float64, Vector{Float64}, Matrix{Float64}}([0.6399288845, 0.0, 0.0, 0.475, -0.475], [0.039928884499999984 0.0 … 0.0 0.0; 0.0 0.5 … 0.0 0.0; … ; 0.0 0.0 … 0.025000000000000022 0.0; 0.0 0.0 … 0.0 0.024999999999999967]), Dict{String, Vector{Tuple{Int64, Float64, Float64}}}(), [(\"input\", 1), (\"input\", 2), (\"input\", 3), (\"input\", 4), (\"input\", 5)], Matrix{Float64}(undef, 0, 0), Float64[], (5, 1, 1, 1))"
      ]
     },
     "metadata": {},
     "output_type": "display_data"
    }
   ],
   "source": [
    "sz = DP.SplitZonotope(input_set, (5, 1, 1, 1))"
   ]
  },
  {
   "cell_type": "code",
   "execution_count": 5,
   "metadata": {},
   "outputs": [
    {
     "name": "stderr",
     "output_type": "stream",
     "text": [
      "┌ Warning: Layer with Float32 parameters got Float64 input.\n",
      "│   The input will be converted, but any earlier layers may be very slow.\n",
      "│   layer = Dense(5 => 50)\n",
      "│   summary(x) = 5×1 Matrix{Float64}\n",
      "└ @ Flux /home/philipp/.julia/packages/Flux/n3cOc/src/layers/stateless.jl:60\n"
     ]
    },
    {
     "data": {
      "text/plain": [
       "DPNeurifyFV.SplitZonotope{Float64}(Zonotope{Float64, Vector{Float64}, Matrix{Float64}}([869.5501360080898, 921.1208670862184, 1118.1886796081599, 615.1553025833684, 842.1646951556288], [0.03355835790229809 -4.152272067490184 … 16.024193811449894 -4.608596498237706; 0.031288969595180405 -2.677292693029732 … 15.517364852610786 -8.223937711418023; … ; 0.022298837055729343 -1.3525294185865429 … -13.796041660137135 -9.23207223985248; 0.01344129012606004 -7.195596037538551 … 29.308726032544957 -7.481803847390072]), Dict{String, Vector{Tuple{Int64, Float64, Float64}}}(), [(\"input\", 1), (\"input\", 2), (\"input\", 3), (\"input\", 4), (\"input\", 5), (\"relu_1\", 1), (\"relu_1\", 3), (\"relu_1\", 5), (\"relu_1\", 6), (\"relu_1\", 13)  …  (\"relu_6\", 41), (\"relu_6\", 42), (\"relu_6\", 43), (\"relu_6\", 44), (\"relu_6\", 45), (\"relu_6\", 46), (\"relu_6\", 47), (\"relu_6\", 48), (\"relu_6\", 49), (\"relu_6\", 50)], Matrix{Float64}(undef, 0, 0), Float64[], (5, 1))"
      ]
     },
     "metadata": {},
     "output_type": "display_data"
    }
   ],
   "source": [
    "# ẑs = DP.propagate(DP.LSTMSolver(), nn, sz, return_dict=true)\n",
    "ẑ = DP.propagate(DP.LSTMSolver(), nn, sz)"
   ]
  },
  {
   "cell_type": "code",
   "execution_count": 6,
   "metadata": {},
   "outputs": [
    {
     "name": "stdout",
     "output_type": "stream",
     "text": [
      "low(H) = [-3284.187388022835, -3858.8777831344673, -3974.832952141517, -4135.367394042063, -3829.9250525543666]\n",
      "high(H) = [5023.287660039015, 5701.1195173069045, 6211.210311357837, 5365.6779992087995, 5514.254442865624]\n"
     ]
    }
   ],
   "source": [
    "H = overapproximate(ẑ.z, Hyperrectangle)\n",
    "@show low(H)\n",
    "@show high(H);"
   ]
  },
  {
   "cell_type": "markdown",
   "metadata": {},
   "source": [
    "## Splitting of Zonotope"
   ]
  },
  {
   "cell_type": "code",
   "execution_count": 7,
   "metadata": {},
   "outputs": [
    {
     "data": {
      "text/plain": [
       "split_split_zonotope (generic function with 1 method)"
      ]
     },
     "metadata": {},
     "output_type": "display_data"
    }
   ],
   "source": [
    "function split_split_zonotope(sz::DP.SplitZonotope, input_shape)\n",
    "    # need ...[1,:] since importance would be (1,n_gens) matrix, but need vector idx\n",
    "    importance = sum(abs.(sz.z.generators), dims=1)[1,:]\n",
    "    split_layer, split_idx = sz.generator_map[argmax(importance)]\n",
    "    \n",
    "    # TODO: this is only valid for ReLUs\n",
    "    z₁ = DP.SplitZonotope(input_set, input_shape)\n",
    "    # append splits of parent\n",
    "    for (k, v) in sz.splits\n",
    "        z₁.splits[k] = copy(v)\n",
    "    end\n",
    "    if haskey(z₁.splits, split_layer)\n",
    "        push!(z₁.splits[split_layer], (split_idx, -Inf, 0))\n",
    "    else\n",
    "        z₁.splits[split_layer] = [(split_idx, -Inf, 0)]\n",
    "    end\n",
    "\n",
    "    z₂ = DP.SplitZonotope(input_set, input_shape)\n",
    "    for (k, v) in sz.splits\n",
    "        z₂.splits[k] = copy(v)\n",
    "    end\n",
    "    if haskey(z₂.splits, split_layer)\n",
    "        push!(z₂.splits[split_layer], (split_idx, 0, Inf))\n",
    "    else\n",
    "        z₂.splits[split_layer] = [(split_idx, 0, Inf)]\n",
    "    end\n",
    "    \n",
    "    return [z₁, z₂]\n",
    "end"
   ]
  },
  {
   "cell_type": "code",
   "execution_count": 8,
   "metadata": {},
   "outputs": [
    {
     "name": "stdout",
     "output_type": "stream",
     "text": [
      "length(importance) = 253\n",
      "maximum(importance) = 2662.083382749315\n",
      "argmax(importance) = 237\n"
     ]
    }
   ],
   "source": [
    "importance = sum(abs.(ẑ.z.generators), dims=1)[1,:]\n",
    "@show length(importance)\n",
    "@show maximum(importance)\n",
    "@show argmax(importance);"
   ]
  },
  {
   "cell_type": "code",
   "execution_count": 9,
   "metadata": {},
   "outputs": [
    {
     "data": {
      "text/plain": [
       "(\"relu_6\", 34)"
      ]
     },
     "metadata": {},
     "output_type": "display_data"
    }
   ],
   "source": [
    "ẑ.generator_map[237]"
   ]
  },
  {
   "cell_type": "code",
   "execution_count": 10,
   "metadata": {},
   "outputs": [
    {
     "data": {
      "text/plain": [
       "1-element Vector{Tuple{Int64, Int64, Float64}}:\n",
       " (34, 0, Inf)"
      ]
     },
     "metadata": {},
     "output_type": "display_data"
    }
   ],
   "source": [
    "z₁ = DP.SplitZonotope(input_set, (5, 1, 1, 1))\n",
    "z₁.splits[\"relu_6\"] = [(34, -Inf, 0)]\n",
    "\n",
    "z₂ = DP.SplitZonotope(input_set, (5, 1, 1, 1))\n",
    "z₂.splits[\"relu_6\"] = [(34, 0, Inf)]"
   ]
  },
  {
   "cell_type": "code",
   "execution_count": 11,
   "metadata": {},
   "outputs": [
    {
     "data": {
      "text/plain": [
       "Dict{String, Vector{Tuple{Int64, Float64, Float64}}} with 1 entry:\n",
       "  \"relu_6\" => [(34, -Inf, 0.0)]"
      ]
     },
     "metadata": {},
     "output_type": "display_data"
    }
   ],
   "source": [
    "z₁.splits"
   ]
  },
  {
   "cell_type": "code",
   "execution_count": 12,
   "metadata": {},
   "outputs": [
    {
     "data": {
      "text/plain": [
       "DPNeurifyFV.SplitZonotope{Float64}(Zonotope{Float64, Vector{Float64}, Matrix{Float64}}([610.7557013728449, 628.7603892064208, 835.3728839476843, 474.81778053593774, 697.3959600785349], [0.014531698047060695 -3.318608280419502 … 16.024193811449894 -4.608596498237706; 0.009794522175653114 -1.7355014079018705 … 15.517364852610786 -8.223937711418023; … ; 0.011981171992001204 -0.900455129341983 … -13.796041660137135 -9.23207223985248; 0.0027978406876395887 -6.729247322953922 … 29.308726032544957 -7.481803847390072]), Dict(\"relu_6\" => [(34, -Inf, 0.0)]), [(\"input\", 1), (\"input\", 2), (\"input\", 3), (\"input\", 4), (\"input\", 5), (\"relu_1\", 1), (\"relu_1\", 3), (\"relu_1\", 5), (\"relu_1\", 6), (\"relu_1\", 13)  …  (\"relu_6\", 41), (\"relu_6\", 42), (\"relu_6\", 43), (\"relu_6\", 44), (\"relu_6\", 45), (\"relu_6\", 46), (\"relu_6\", 47), (\"relu_6\", 48), (\"relu_6\", 49), (\"relu_6\", 50)], [0.17544899628319913 -7.687396305607452 … -6.198490738190644 -271.39976445396735], [0.0], (5, 1))"
      ]
     },
     "metadata": {},
     "output_type": "display_data"
    }
   ],
   "source": [
    "ẑ₁ = DP.propagate(DP.LSTMSolver(), nn, z₁)"
   ]
  },
  {
   "cell_type": "code",
   "execution_count": 13,
   "metadata": {},
   "outputs": [
    {
     "name": "stdout",
     "output_type": "stream",
     "text": [
      "ẑ₁.splits = Dict(\"relu_6\" => [(34, -Inf, 0.0)])\n",
      "ẑ₁.split_A = "
     ]
    },
    {
     "name": "stdout",
     "output_type": "stream",
     "text": [
      "[0.17544899628319913 -7.687396305607452 37.93398097480567 0.006849888430466644 -0.4774669263463789 1.6745085264771158 0.2775935652816877 -0.08005196024977361 0.7588195182449202 0.9238184151870299 0.9012757700378904 -0.7890139513701437 -3.6127741961878206 -0.3850144635612257 18.270501268197492 -2.669289317389697 -0.15891156038334256 -2.4871670448608585 0.8301334040998315 -0.06654407709645378 1.0653724283227461 0.7991552049588879 0.8181537378443942 1.294921329020452 2.8445620313192155 -5.6062332869608245 8.055159197598012 -0.7632945065660456 -55.34840300843174 0.8050745460822378 -2.9512928065346156 9.78921435064669 -7.7443128783482 5.931582457591291 -1.8155036306036487 -2.2327677257107563 -0.2572808396177286 7.680918500510346 -0.00978354827604544 0.3912856476425597 -6.4957129616557845 -0.12452600236036412 -1.6691359822752656 -5.935149344737775 0.005159673329371148 7.002114064077002 2.2660868333320305 -5.4822961966692745 9.273482570390176 -5.175689733088898 -30.99830992256715 1.627399839180757 0.9622054039987131 1.3138760236741296 42.84216440798296 17.914911992607053 -2.74167059493605 8.095512293513137 26.174564695273215 -4.439625729279973 -0.08271788253921342 6.385040477470822 76.30915911884979 7.19236709966444 13.312011607970542 1.0316211602819736 4.225629965020764 28.13437330562775 -15.841013428175708 14.379803344888485 -6.3568625744309495 -29.899419733452063 0.041134285585530214 2.622999079103889 -0.8661213355689947 -41.55548643554736 4.714253123630788 -37.73551298080493 18.755453361946238 1.7380666794126727 -9.406631720959043 6.761486521064251 -2.9214528191482714 -2.4381153523315087 -3.5208536124328793 7.386366828847308 1.1477873805515466 2.592769538499766 3.9515581523411627 -4.252120509292141 3.1098792120428143 2.0366209135688296 24.807672978437832 -22.00066629680058 -19.756574813982166 27.90103924484735 9.797081356517635 30.7150393110999 -5.044374095759879 13.30929494432901 -0.033970961187032515 7.357463666695893 2.4725210634324797 -27.5135249682551 55.95549108924472 18.10190774306001 91.20644488195003 117.4492729305928 76.22881938244997 1.9291952288594214 -10.029264465482319 -22.292683908980887 78.04881033004443 46.85230436993934 38.172097005580085 17.421049502944488 36.262627951449915 -0.13598269574050786 16.924067306556438 -1.5795777433187566 -2.5308018106564423 -31.990787407348854 -10.64365846588406 49.62530542622624 36.0669364552728 -44.37239702072058 -106.22268145077041 -137.05961186275957 -34.69292465497149 -10.271434342361745 59.54819560867787 -38.64054243803086 241.65203770215555 98.95800252183687 -21.462487914559137 39.37864912360185 19.833696404912757 -85.52267564806074 43.05306199890632 48.83244008024305 -33.570978045514565 -28.226941833861154 31.38863515680289 24.890946531620887 -132.7095594518904 43.839384231904454 -7.659238892513183 -11.911238876554876 85.9140454558723 160.85508112138635 -0.022217739333955527 -20.129854146918117 44.14280942805773 -4.773819265848788 5.598161645932916 -14.313082126960131 119.89984477427159 -728.0419456631722 -195.46908495818965 -65.35795164447227 -198.84258105148228 -15.421667039779962 -120.79564802604318 0.7194126493511088 -41.74258574833498 3.2111077115269486 12.736646504137822 -6.501346427740703 -0.11754643426214179 26.200382202535128 -7.653028234144835 -7.116508948847004 12.963279060820373 -119.66541902823919 -1.9128966920799957 1.6629238071775518 -180.05706351218547 2.161821185635202 -18.370597446029052 -10.268957876367407 15.901252330302247 -5.686672012607778 0.6688897425090309 18.418024599950513 -20.291060585222255 -317.35973940138985 -333.54832640778784 8.36799496879388 -16.61676249824834 -4.353956286651864 -19.92845494087669 -13.150732609038702 -1097.042475197029 2.227345063911951 12.337425121153027 -238.18273547272403 -94.9163855548663 3.212490298969268 -9.90330316246268 -219.8279201552026 -69.56935218821053 -6.198490738190644 -271.39976445396735]\n",
      "ẑ₁.split_b = [0.0]\n"
     ]
    },
    {
     "data": {
      "text/plain": [
       "1-element Vector{Float64}:\n",
       " 0.0"
      ]
     },
     "metadata": {},
     "output_type": "display_data"
    }
   ],
   "source": [
    "@show ẑ₁.splits\n",
    "@show ẑ₁.split_A\n",
    "@show ẑ₁.split_b"
   ]
  },
  {
   "cell_type": "markdown",
   "metadata": {},
   "source": [
    "## Build LP"
   ]
  },
  {
   "cell_type": "code",
   "execution_count": 14,
   "metadata": {},
   "outputs": [
    {
     "data": {
      "text/plain": [
       "build_model"
      ]
     },
     "metadata": {},
     "output_type": "display_data"
    }
   ],
   "source": [
    "\"\"\"\n",
    "Builds LP for optimization over space described by SplitZonotope.\n",
    "\n",
    "Maximizes output opt_idx of the SplitZonotope subject to the split constraints stored.\n",
    "\n",
    "args:\n",
    "    sz - SplitZonotope whose output should be maximized\n",
    "\n",
    "kwargs:\n",
    "    opt - the optimizer for the LP\n",
    "    opt_idx - the dimension of the SplitZonotope to maximize\n",
    "\"\"\"\n",
    "function build_model(sz::DP.SplitZonotope; opt=Gurobi.Optimizer, opt_idx=1, silent=true)\n",
    "    z = sz.z\n",
    "    m, n = size(sz.split_A)\n",
    "\n",
    "    model = Model(opt)\n",
    "    silent && set_silent(model)\n",
    "    @variable(model, -1 <= x[1:ngens(z)] <= 1)\n",
    "\n",
    "    @objective(model, Max, z.generators[opt_idx,:]' * x)\n",
    "    A = [sz.split_A zeros(m, ngens(z) - n)]\n",
    "    @constraint(model, split_constraint, A*x .<= sz.split_b)\n",
    "    return model\n",
    "end"
   ]
  },
  {
   "cell_type": "code",
   "execution_count": 15,
   "metadata": {},
   "outputs": [
    {
     "name": "stdout",
     "output_type": "stream",
     "text": [
      "Academic license - for non-commercial use only - expires 2023-11-26\n"
     ]
    },
    {
     "data": {
      "text/plain": [
       "1-element Vector{ConstraintRef{Model, MathOptInterface.ConstraintIndex{MathOptInterface.ScalarAffineFunction{Float64}, MathOptInterface.LessThan{Float64}}, ScalarShape}}:\n",
       " 0.17544899628319913 x[1] - 7.687396305607452 x[2] + 37.93398097480567 x[3] + 0.006849888430466644 x[4] - 0.4774669263463789 x[5] + 1.6745085264771158 x[6] + 0.2775935652816877 x[7] - 0.08005196024977361 x[8] + 0.7588195182449202 x[9] + 0.9238184151870299 x[10] + 0.9012757700378904 x[11] - 0.7890139513701437 x[12] - 3.6127741961878206 x[13] - 0.3850144635612257 x[14] + 18.270501268197492 x[15] - 2.669289317389697 x[16] - 0.15891156038334256 x[17] - 2.4871670448608585 x[18] + 0.8301334040998315 x[19] - 0.06654407709645378 x[20] + 1.0653724283227461 x[21] + 0.7991552049588879 x[22] + 0.8181537378443942 x[23] + 1.294921329020452 x[24] + 2.8445620313192155 x[25] - 5.6062332869608245 x[26] + 8.055159197598012 x[27] - 0.7632945065660456 x[28] - 55.34840300843174 x[29] + 0.8050745460822378 x[30] - 2.9512928065346156 x[31] + 9.78921435064669 x[32] - 7.7443128783482 x[33] + 5.931582457591291 x[34] - 1.8155036306036487 x[35] - 2.2327677257107563 x[36] - 0.2572808396177286 x[37] + 7.680918500510346 x[38] - 0.00978354827604544 x[39] + 0.3912856476425597 x[40] - 6.4957129616557845 x[41] - 0.12452600236036412 x[42] - 1.6691359822752656 x[43] - 5.935149344737775 x[44] + 0.005159673329371148 x[45] + 7.002114064077002 x[46] + 2.2660868333320305 x[47] - 5.4822961966692745 x[48] + 9.273482570390176 x[49] - 5.175689733088898 x[50] - 30.99830992256715 x[51] + 1.627399839180757 x[52] + 0.9622054039987131 x[53] + 1.3138760236741296 x[54] + 42.84216440798296 x[55] + 17.914911992607053 x[56] - 2.74167059493605 x[57] + 8.095512293513137 x[58] + 26.174564695273215 x[59] - 4.439625729279973 x[60] - 0.08271788253921342 x[61] + 6.385040477470822 x[62] + 76.30915911884979 x[63] + 7.19236709966444 x[64] + 13.312011607970542 x[65] + 1.0316211602819736 x[66] + 4.225629965020764 x[67] + 28.13437330562775 x[68] - 15.841013428175708 x[69] + 14.379803344888485 x[70] - 6.3568625744309495 x[71] - 29.899419733452063 x[72] + 0.041134285585530214 x[73] + 2.622999079103889 x[74] - 0.8661213355689947 x[75] - 41.55548643554736 x[76] + 4.714253123630788 x[77] - 37.73551298080493 x[78] + 18.755453361946238 x[79] + 1.7380666794126727 x[80] - 9.406631720959043 x[81] + 6.761486521064251 x[82] - 2.9214528191482714 x[83] - 2.4381153523315087 x[84] - 3.5208536124328793 x[85] + 7.386366828847308 x[86] + 1.1477873805515466 x[87] + 2.592769538499766 x[88] + 3.9515581523411627 x[89] - 4.252120509292141 x[90] + 3.1098792120428143 x[91] + 2.0366209135688296 x[92] + 24.807672978437832 x[93] - 22.00066629680058 x[94] - 19.756574813982166 x[95] + 27.90103924484735 x[96] + 9.797081356517635 x[97] + 30.7150393110999 x[98] - 5.044374095759879 x[99] + 13.30929494432901 x[100] - 0.033970961187032515 x[101] + 7.357463666695893 x[102] + 2.4725210634324797 x[103] - 27.5135249682551 x[104] + 55.95549108924472 x[105] + 18.10190774306001 x[106] + 91.20644488195003 x[107] + 117.4492729305928 x[108] + 76.22881938244997 x[109] + 1.9291952288594214 x[110] - 10.029264465482319 x[111] - 22.292683908980887 x[112] + 78.04881033004443 x[113] + 46.85230436993934 x[114] + 38.172097005580085 x[115] + 17.421049502944488 x[116] + 36.262627951449915 x[117] - 0.13598269574050786 x[118] + 16.924067306556438 x[119] - 1.5795777433187566 x[120] - 2.5308018106564423 x[121] - 31.990787407348854 x[122] - 10.64365846588406 x[123] + 49.62530542622624 x[124] + 36.0669364552728 x[125] - 44.37239702072058 x[126] - 106.22268145077041 x[127] - 137.05961186275957 x[128] - 34.69292465497149 x[129] - 10.271434342361745 x[130] + 59.54819560867787 x[131] - 38.64054243803086 x[132] + 241.65203770215555 x[133] + 98.95800252183687 x[134] - 21.462487914559137 x[135] + 39.37864912360185 x[136] + 19.833696404912757 x[137] - 85.52267564806074 x[138] + 43.05306199890632 x[139] + 48.83244008024305 x[140] - 33.570978045514565 x[141] - 28.226941833861154 x[142] + 31.38863515680289 x[143] + 24.890946531620887 x[144] - 132.7095594518904 x[145] + 43.839384231904454 x[146] - 7.659238892513183 x[147] - 11.911238876554876 x[148] + 85.9140454558723 x[149] + 160.85508112138635 x[150] - 0.022217739333955527 x[151] - 20.129854146918117 x[152] + 44.14280942805773 x[153] - 4.773819265848788 x[154] + 5.598161645932916 x[155] - 14.313082126960131 x[156] + 119.89984477427159 x[157] - 728.0419456631722 x[158] - 195.46908495818965 x[159] - 65.35795164447227 x[160] - 198.84258105148228 x[161] - 15.421667039779962 x[162] - 120.79564802604318 x[163] + 0.7194126493511088 x[164] - 41.74258574833498 x[165] + 3.2111077115269486 x[166] + 12.736646504137822 x[167] - 6.501346427740703 x[168] - 0.11754643426214179 x[169] + 26.200382202535128 x[170] - 7.653028234144835 x[171] - 7.116508948847004 x[172] + 12.963279060820373 x[173] - 119.66541902823919 x[174] - 1.9128966920799957 x[175] + 1.6629238071775518 x[176] - 180.05706351218547 x[177] + 2.161821185635202 x[178] - 18.370597446029052 x[179] - 10.268957876367407 x[180] + 15.901252330302247 x[181] - 5.686672012607778 x[182] + 0.6688897425090309 x[183] + 18.418024599950513 x[184] - 20.291060585222255 x[185] - 317.35973940138985 x[186] - 333.54832640778784 x[187] + 8.36799496879388 x[188] - 16.61676249824834 x[189] - 4.353956286651864 x[190] - 19.92845494087669 x[191] - 13.150732609038702 x[192] - 1097.042475197029 x[193] + 2.227345063911951 x[194] + 12.337425121153027 x[195] - 238.18273547272403 x[196] - 94.9163855548663 x[197] + 3.212490298969268 x[198] - 9.90330316246268 x[199] - 219.8279201552026 x[200] - 69.56935218821053 x[201] - 6.198490738190644 x[202] - 271.39976445396735 x[203] ≤ 0.0"
      ]
     },
     "metadata": {},
     "output_type": "display_data"
    }
   ],
   "source": [
    "model = Model(Gurobi.Optimizer)\n",
    "z = ẑ₁.z\n",
    "@variable(model, -1 <= x[1:size(z.generators, 2)] <= 1)\n",
    "\n",
    "# just optimize first output, can also optimize other outputs later in loop\n",
    "@objective(model, Max, z.generators[1,:]' * x)\n",
    "\n",
    "# as many rows as splits, as many columns as generators in the output\n",
    "m, n = size(ẑ₁.split_A)\n",
    "A = [ẑ₁.split_A zeros(m, ngens(z) - n)]\n",
    "@constraint(model, split_constraint, A*x .<= ẑ₁.split_b)"
   ]
  },
  {
   "cell_type": "code",
   "execution_count": 16,
   "metadata": {},
   "outputs": [
    {
     "name": "stdout",
     "output_type": "stream",
     "text": [
      "Gurobi Optimizer version 9.1.2 build v9.1.2rc0 (linux64)\n",
      "Thread count: 2 physical cores, 4 logical processors, using up to 4 threads\n",
      "Optimize a model with 1 rows, 252 columns and 203 nonzeros\n",
      "Model fingerprint: 0xf8f34156\n",
      "Coefficient statistics:\n",
      "  Matrix range     [5e-03, 1e+03]\n",
      "  Objective range  [1e-04, 3e+02]\n",
      "  Bounds range     [1e+00, 1e+00]\n",
      "  RHS range        [0e+00, 0e+00]\n",
      "Presolve removed 0 rows and 125 columns\n",
      "Presolve time: 0.00s\n",
      "Presolved: 1 rows, 127 columns, 127 nonzeros\n",
      "\n",
      "Iteration    Objective       Primal Inf.    Dual Inf.      Time\n",
      "       0    8.8419822e+05   6.698635e+01   0.000000e+00      0s\n",
      "       1    2.7709526e+03   0.000000e+00   0.000000e+00      0s\n",
      "\n",
      "Solved in 1 iterations and 0.00 seconds\n",
      "Optimal objective  2.770952620e+03\n",
      "\n",
      "User-callback calls 29, time in user-callback 0.00 sec\n"
     ]
    }
   ],
   "source": [
    "optimize!(model)"
   ]
  },
  {
   "cell_type": "markdown",
   "metadata": {},
   "source": [
    "### Solving LP"
   ]
  },
  {
   "cell_type": "code",
   "execution_count": 17,
   "metadata": {},
   "outputs": [
    {
     "name": "stdout",
     "output_type": "stream",
     "text": [
      "Academic license - for non-commercial use only - expires 2023-11-26\n",
      "Academic license - for non-commercial use only - expires 2023-11-26\n",
      "ub₁ = 2770.9526204822946\n",
      "ub₂ = 5494.477303921766\n"
     ]
    },
    {
     "data": {
      "text/plain": [
       "5494.477303921766"
      ]
     },
     "metadata": {},
     "output_type": "display_data"
    }
   ],
   "source": [
    "z₁, z₂ = split_split_zonotope(ẑ, nn.input_shape)\n",
    "\n",
    "ẑ₁ = DP.propagate(DP.LSTMSolver(), nn, z₁)\n",
    "ẑ₂ = DP.propagate(DP.LSTMSolver(), nn, z₂)\n",
    "\n",
    "model = build_model(ẑ₁)\n",
    "optimize!(model)\n",
    "ub₁ = objective_value(model)\n",
    "\n",
    "model = build_model(ẑ₂)\n",
    "optimize!(model)\n",
    "ub₂ = objective_value(model)\n",
    "\n",
    "@show ub₁\n",
    "@show ub₂\n"
   ]
  },
  {
   "cell_type": "code",
   "execution_count": 18,
   "metadata": {},
   "outputs": [
    {
     "name": "stdout",
     "output_type": "stream",
     "text": [
      "Academic license - for non-commercial use only - expires 2023-11-26\n",
      "Academic license - for non-commercial use only - expires 2023-11-26\n",
      "ub₁₁ = 2221.5058112632\n",
      "ub₁₂ = 3254.0128562281225\n"
     ]
    },
    {
     "data": {
      "text/plain": [
       "3254.0128562281225"
      ]
     },
     "metadata": {},
     "output_type": "display_data"
    }
   ],
   "source": [
    "z₁₁, z₁₂ = split_split_zonotope(ẑ₁, nn.input_shape)\n",
    "\n",
    "ẑ₁₁ = DP.propagate(DP.LSTMSolver(), nn, z₁₁)\n",
    "ẑ₁₂ = DP.propagate(DP.LSTMSolver(), nn, z₁₂)\n",
    "\n",
    "model = build_model(ẑ₁₁)\n",
    "optimize!(model)\n",
    "ub₁₁ = objective_value(model)\n",
    "\n",
    "model = build_model(ẑ₁₂)\n",
    "optimize!(model)\n",
    "ub₁₂ = objective_value(model)\n",
    "\n",
    "@show ub₁₁\n",
    "@show ub₁₂"
   ]
  },
  {
   "cell_type": "markdown",
   "metadata": {},
   "source": [
    "**TODO**: \n",
    "- Store best intermediate bounds, s.t. splitting doesn't result in worse bounds than before!\n",
    "- integrate SplitZonos and ReLU splitting into BaB framework"
   ]
  },
  {
   "cell_type": "markdown",
   "metadata": {},
   "source": [
    "# LSTM Propagation"
   ]
  },
  {
   "cell_type": "code",
   "execution_count": 67,
   "metadata": {},
   "outputs": [
    {
     "data": {
      "text/plain": [
       "propagate_σ_y (generic function with 2 methods)"
      ]
     },
     "metadata": {},
     "output_type": "display_data"
    }
   ],
   "source": [
    "function propagate_σ_y(sx::DP.SplitZonotope, sy::DP.SplitZonotope, name::String; n_samples=100)\n",
    "    x = sx.z\n",
    "    y = sy.z\n",
    "\n",
    "    Hx = overapproximate(x, Hyperrectangle)\n",
    "    Hy = overapproximate(y, Hyperrectangle)\n",
    "\n",
    "    relaxations = DP.get_relaxation_σ_y.(low(Hx), high(Hx), low(Hy), high(Hy), n_samples=n_samples)\n",
    "    M = reduce(hcat, [collect(r) for r in relaxations])'\n",
    "\n",
    "    ĉ = M[:,1] .* x.center .+ M[:,2] .* y.center .+ M[:,3]\n",
    "    Ĝ = M[:,1] .* x.generators .+ M[:,2] .* y.generators\n",
    "    # append new generators, need new generator for every dim as non-linear.\n",
    "    Ĝ = [Ĝ I(dim(x)) .* M[:,4]]\n",
    "\n",
    "    ẑ = Zonotope(ĉ, Ĝ)\n",
    "\n",
    "    # sx and sy should have the same splits!\n",
    "    @assert sx.splits == sy.splits\n",
    "    # sx and sy should have the same generators!\n",
    "    @assert sx.generator_map == sy.generator_map\n",
    "    # TODO: real split_A and split_b\n",
    "    sz = DP.SplitZonotope(ẑ, sx.splits, copy(sx.generator_map), sx.split_A, sx.split_b, sx.shape)\n",
    "    push!(sz.generator_map, [(name, i) for i in 1:dim(x)]...)\n",
    "    return sz\n",
    "end"
   ]
  },
  {
   "cell_type": "code",
   "execution_count": 20,
   "metadata": {},
   "outputs": [
    {
     "data": {
      "text/plain": [
       "propagate_σ_tanh (generic function with 1 method)"
      ]
     },
     "metadata": {},
     "output_type": "display_data"
    }
   ],
   "source": [
    "function propagate_σ_tanh(sx::DP.SplitZonotope, sy::DP.SplitZonotope, name::String; n_samples=100)\n",
    "    x = sx.z\n",
    "    y = sy.z\n",
    "\n",
    "    Hx = overapproximate(x, Hyperrectangle)\n",
    "    Hy = overapproximate(y, Hyperrectangle)\n",
    "\n",
    "    relaxations = DP.get_relaxation_σ_tanh.(low(Hx), high(Hx), low(Hy), high(Hy), n_samples=n_samples)\n",
    "    M = reduce(hcat, [collect(r) for r in relaxations])'\n",
    "\n",
    "    ĉ = M[:,1] .* x.center .+ M[:,2] .* y.center .+ M[:,3]\n",
    "    Ĝ = M[:,1] .* x.generators .+ M[:,2] .* y.generators\n",
    "    # append new generators, need new generator for every dim as non-linear.\n",
    "    Ĝ = [Ĝ I(dim(x)) .* M[:,4]]\n",
    "\n",
    "    ẑ = Zonotope(ĉ, Ĝ)\n",
    "\n",
    "    # sx and sy should have the same splits!\n",
    "    @assert sx.splits == sy.splits\n",
    "    # sx and sy should have the same generators!\n",
    "    @assert sx.generator_map == sy.generator_map\n",
    "    # TODO: real split_A and split_b\n",
    "    sz = DP.SplitZonotope(ẑ, sx.splits, copy(sx.generator_map), sx.split_A, sx.split_b, sx.shape)\n",
    "    push!(sz.generator_map, [(name, i) for i in 1:dim(x)]...)\n",
    "    return sz\n",
    "end"
   ]
  },
  {
   "cell_type": "markdown",
   "metadata": {},
   "source": [
    "# LSTM Definition"
   ]
  },
  {
   "cell_type": "code",
   "execution_count": 21,
   "metadata": {},
   "outputs": [
    {
     "data": {
      "text/plain": [
       "Main.LayerDev"
      ]
     },
     "metadata": {},
     "output_type": "display_data"
    }
   ],
   "source": [
    "module LayerDev\n",
    "    using DPNeurifyFV, Flux\n",
    "    struct LSTMCell <: DPNeurifyFV.Node\n",
    "        inputs::AbstractVector\n",
    "        outputs::AbstractVector\n",
    "        name::String\n",
    "        linear_ih::DPNeurifyFV.Linear\n",
    "        linear_hh::DPNeurifyFV.Linear\n",
    "        state0::AbstractArray\n",
    "    end\n",
    "end"
   ]
  },
  {
   "cell_type": "code",
   "execution_count": 22,
   "metadata": {},
   "outputs": [],
   "source": [
    "function LayerDev.LSTMCell(inputs, outputs, name, Wih, Whh, b; state0=nothing)\n",
    "    hs4, n_in = size(Wih)\n",
    "    hidden_size = floor(Integer, hs4 / 4)\n",
    "\n",
    "    linear_ih = DP.Linear([], [], name * \"_linear_ih\", Wih, b)\n",
    "    linear_hh = DP.Linear([], [], name * \"_linear_hh\", Whh, zeros(hs4))\n",
    "\n",
    "    if isnothing(state0)\n",
    "        state0 = zeros(n_in)\n",
    "    end\n",
    "\n",
    "    return LayerDev.LSTMCell(inputs, outputs, name, linear_ih, linear_hh, state0)\n",
    "end"
   ]
  },
  {
   "cell_type": "code",
   "execution_count": 25,
   "metadata": {},
   "outputs": [],
   "source": [
    "function Base.getindex(z::Zonotope{N}, inds::AbstractArray{Int}) where N <: Number\n",
    "    return Zonotope(z.center[inds], z.generators[inds,:])\n",
    "end"
   ]
  },
  {
   "cell_type": "code",
   "execution_count": 24,
   "metadata": {},
   "outputs": [
    {
     "data": {
      "text/plain": [
       "Main.LayerDev.LSTMCell(Any[], Any[], \"LSTM_1\", DPNeurifyFV.Linear(Any[], Any[], \"LSTM_1_linear_ih\", Dense(2 => 8), Dense(2 => 8), Dense(2 => 8)), DPNeurifyFV.Linear(Any[], Any[], \"LSTM_1_linear_hh\", Dense(2 => 8), Dense(2 => 8), Dense(2 => 8)), [0.0, 0.0])"
      ]
     },
     "metadata": {},
     "output_type": "display_data"
    }
   ],
   "source": [
    "Wi = randn(4*2, 2)\n",
    "Wh = randn(4*2, 2)\n",
    "b  = randn(4*2)\n",
    "lstm1 = LayerDev.LSTMCell([], [], \"LSTM_1\", Wi, Wh, b)"
   ]
  },
  {
   "cell_type": "code",
   "execution_count": 59,
   "metadata": {},
   "outputs": [
    {
     "data": {
      "text/plain": [
       "expand_generators"
      ]
     },
     "metadata": {},
     "output_type": "display_data"
    }
   ],
   "source": [
    "\"\"\"\n",
    "Expand generators, s.t. sz₁ and sz₂ have the same set of generators.\n",
    "\"\"\"\n",
    "function expand_generators(sz₁::DP.SplitZonotope, sz₂::DP.SplitZonotope)\n",
    "    common_gens₁ = filter(!isnothing, indexin(sz₂.generator_map, sz₁.generator_map))\n",
    "    common_gens₂ = filter(!isnothing, indexin(sz₁.generator_map, sz₂.generator_map))\n",
    "    distinct₁ = setdiff(1:ngens(sz₁), common_gens₁)\n",
    "    distinct₂ = setdiff(1:ngens(sz₂), common_gens₂)\n",
    "    generator_map = [sz₁.generator_map[common_gens₁]; sz₁.generator_map[distinct₁]; sz₂.generator_map[distinct₂]]\n",
    "\n",
    "    m₁ = size(sz₁.z.center, 1)\n",
    "    m₂ = size(sz₂.z.center, 1)\n",
    "    z₁ = Zonotope(sz₁.z.center, [sz₁.z.generators[:, common_gens₁] sz₁.z.generators[:, distinct₁] zeros(m₁, length(distinct₂))])\n",
    "    z₂ = Zonotope(sz₂.z.center, [sz₂.z.generators[:, common_gens₂] zeros(m₂, length(distinct₁)) sz₂.z.generators[:, distinct₂]])\n",
    "\n",
    "    ŝz₁ = DP.SplitZonotope(z₁, sz₁.splits, generator_map, sz₁.split_A, sz₁.split_b, sz₁.shape)\n",
    "    ŝz₂ = DP.SplitZonotope(z₂, sz₂.splits, copy(generator_map), sz₂.split_A, sz₂.split_b, sz₂.shape)\n",
    "\n",
    "    return ŝz₁, ŝz₂\n",
    "end"
   ]
  },
  {
   "cell_type": "markdown",
   "metadata": {},
   "source": [
    "# LSTM Forward Method"
   ]
  },
  {
   "cell_type": "code",
   "execution_count": 98,
   "metadata": {},
   "outputs": [],
   "source": [
    "function DP.forward_node(solver::DP.LSTMSolver, lstm_cell::LayerDev.LSTMCell, (i, sh, sc)::Tuple{Integer, DP.SplitZonotope, DP.SplitZonotope}, sx::DP.SplitZonotope; n_samples=100)\n",
    "    hs4, input_size = size(lstm_cell.linear_ih.dense.weight)\n",
    "    hidden_size = floor(Integer, hs4 / 4)\n",
    "        \n",
    "\n",
    "    g_ih = DP.forward_node(solver, lstm_cell.linear_ih, sx)\n",
    "    g_hh = DP.forward_node(solver, lstm_cell.linear_hh, sh)\n",
    "\n",
    "    g = DP.direct_sum(g_ih, g_hh)\n",
    "\n",
    "    z = g.z\n",
    "    z_i = z[1:hidden_size]\n",
    "    z_f = z[  hidden_size+1:2*hidden_size]\n",
    "    z_c = z[2*hidden_size+1:3*hidden_size]\n",
    "    z_o = z[3*hidden_size+1:4*hidden_size]\n",
    "\n",
    "    # TODO: fix shape after indexing!!!\n",
    "    g_in = DP.SplitZonotope(z_i, g, (hidden_size, g.shape[2:end]...))\n",
    "    g_f  = DP.SplitZonotope(z_f, g, (hidden_size, g.shape[2:end]...))\n",
    "    g_c  = DP.SplitZonotope(z_c, g, (hidden_size, g.shape[2:end]...))\n",
    "    g_o  = DP.SplitZonotope(z_o, g, (hidden_size, g.shape[2:end]...))\n",
    "    \n",
    "    fc = propagate_σ_y(g_f, g_c, lstm_cell.name * \"_$(i)_σy_1\", n_samples=n_samples)\n",
    "    ic = propagate_σ_tanh(g_in, g_c, lstm_cell.name * \"_$(i)_σtanh_1\", n_samples=n_samples)\n",
    "    ĉ = DP.direct_sum(fc, ic)\n",
    "\n",
    "    eĉ, ĝ_o = expand_generators(ĉ, g_o)\n",
    "    ĥ = propagate_σ_tanh(ĝ_o, eĉ, lstm_cell.name * \"_$(i)_σtanh_2\", n_samples=n_samples)\n",
    "    \n",
    "    return ĥ, ĉ\n",
    "end"
   ]
  },
  {
   "cell_type": "code",
   "execution_count": 28,
   "metadata": {},
   "outputs": [
    {
     "data": {
      "text/plain": [
       "my_zero (generic function with 1 method)"
      ]
     },
     "metadata": {},
     "output_type": "display_data"
    }
   ],
   "source": [
    "function my_zero(sz::DP.SplitZonotope{N}) where N <: Number\n",
    "    z = sz.z\n",
    "    c = z.center\n",
    "    m, n = size(z.generators)\n",
    "    # need to reshape, so G is a matrix\n",
    "    ẑ = Zonotope(zero(c), zeros(m, n))\n",
    "\n",
    "    # no split constraints in zero\n",
    "    split_A = Array{N}(undef, 0, 0)\n",
    "    split_b = Array{N}(undef, 0)\n",
    "    return DP.SplitZonotope(ẑ, sz.splits, sz.generator_map, split_A, split_b, sz.shape)\n",
    "end"
   ]
  },
  {
   "cell_type": "code",
   "execution_count": 29,
   "metadata": {},
   "outputs": [
    {
     "data": {
      "text/plain": [
       "DPNeurifyFV.SplitZonotope{Float64}(Zonotope{Float64, Vector{Float64}, Matrix{Float64}}([0.0, 0.0], [0.0 0.0; 0.0 0.0]), Dict{String, Vector{Tuple{Int64, Float64, Float64}}}(), [(\"input\", 1), (\"input\", 2)], Matrix{Float64}(undef, 0, 0), Float64[], (2,))"
      ]
     },
     "metadata": {},
     "output_type": "display_data"
    }
   ],
   "source": [
    "z1 = Zonotope([1., 1], [1 2; 4 5.])\n",
    "z2 = Zonotope([0., 1], [2 4; 3 5.])\n",
    "sz1 = DP.SplitZonotope(Hyperrectangle(low=[-1.,-1], high=[1., 1.]), (2,))\n",
    "sz2 = DP.SplitZonotope(Hyperrectangle(low=[-1.,-1], high=[1., 1.]), (2,))\n",
    "\n",
    "sz1 = DP.SplitZonotope(z1, sz1)\n",
    "sz2 = DP.SplitZonotope(z2, sz2)\n",
    "sz0 = my_zero(sz1)"
   ]
  },
  {
   "cell_type": "code",
   "execution_count": 31,
   "metadata": {},
   "outputs": [
    {
     "name": "stdout",
     "output_type": "stream",
     "text": [
      "g_ih = DPNeurifyFV.SplitZonotope{Float64}(Zonotope{Float64, Vector{Float64}, Matrix{Float64}}([1.9460444301366806, -0.03988775610923767, -1.8421744480729103, 1.5184201747179031, 1.1077753901481628, -1.9780066013336182, 0.9225154519081116, 3.9681745171546936], [3.758185029029846 5.888181209564209; -1.2207895517349243 -0.9692042469978333; -3.605501651763916 -5.546510219573975; 3.72594852745533 4.7636503875255585; 3.548193395137787 4.954961538314819; -3.812428116798401 -6.000399231910706; 2.2780946493148804 3.450461685657501; 3.9186415672302246 6.086466372013092]), Dict{String, Vector{Tuple{Int64, Float64, Float64}}}(), [(\"input\", 1), (\"input\", 2)], Matrix{Float64}(undef, 0, 0), Float64[], (8,))\n",
      "g_hh = DPNeurifyFV.SplitZonotope{Float64}(Zonotope{Float64, Vector{Float64}, Matrix{Float64}}([0.0, 0.0, 0.0, 0.0, 0.0, 0.0, 0.0, 0.0], [0.0 0.0; 0.0 0.0; 0.0 0.0; 0.0 0.0; 0.0 0.0; 0.0 0.0; 0.0 0.0; 0.0 0.0]), Dict{String, Vector{Tuple{Int64, Float64, Float64}}}(), [(\"input\", 1), (\"input\", 2)], Matrix{Float64}(undef, 0, 0), Float64[], (8,))\n"
     ]
    },
    {
     "data": {
      "text/plain": [
       "(DPNeurifyFV.SplitZonotope{Float64}(Zonotope{Float64, Vector{Float64}, Matrix{Float64}}([-0.054738954020048886, 0.03133634562566595], [0.15585217910269045 0.21821682903825904 … 1.0287765868390848 0.0; -0.1874374445193574 -0.2983772860051704 … 0.0 1.0462706499721457]), Dict{String, Vector{Tuple{Int64, Float64, Float64}}}(), [(\"input\", 1), (\"input\", 2), (\"LSTM_1_σy_1\", 1), (\"LSTM_1_σy_1\", 2), (\"LSTM_1_σtanh_1\", 1), (\"LSTM_1_σtanh_1\", 2), (\"LSTM_1_σtanh_2\", 1), (\"LSTM_1_σtanh_2\", 2)], Matrix{Float64}(undef, 0, 0), Float64[], (2,)), DPNeurifyFV.SplitZonotope{Float64}(Zonotope{Float64, Vector{Float64}, Matrix{Float64}}([1.1804840833988295, -0.8716097289244993], [2.272519873241588 3.2313513625411106 … 0.7324677907486229 0.0; -2.3217146426615063 -3.6903568170924723 … 0.0 0.8560119728175255]), Dict{String, Vector{Tuple{Int64, Float64, Float64}}}(), [(\"input\", 1), (\"input\", 2), (\"LSTM_1_σy_1\", 1), (\"LSTM_1_σy_1\", 2), (\"LSTM_1_σtanh_1\", 1), (\"LSTM_1_σtanh_1\", 2)], Matrix{Float64}(undef, 0, 0), Float64[], (2,)))"
      ]
     },
     "metadata": {},
     "output_type": "display_data"
    }
   ],
   "source": [
    "DP.forward_node(DP.LSTMSolver(), lstm1, (sz0, sz0), sz1)"
   ]
  },
  {
   "cell_type": "markdown",
   "metadata": {},
   "source": [
    "# LSTM Example"
   ]
  },
  {
   "cell_type": "code",
   "execution_count": 84,
   "metadata": {},
   "outputs": [
    {
     "data": {
      "text/plain": [
       "Main.LayerDev.LSTMCell(Any[], Any[], \"LSTM_1\", DPNeurifyFV.Linear(Any[], Any[], \"LSTM_1_linear_ih\", Dense(2 => 8), Dense(2 => 8), Dense(2 => 8)), DPNeurifyFV.Linear(Any[], Any[], \"LSTM_1_linear_hh\", Dense(2 => 8), Dense(2 => 8), Dense(2 => 8)), [0.0, 0.0])"
      ]
     },
     "metadata": {},
     "output_type": "display_data"
    }
   ],
   "source": [
    "Wi = randn(4*2, 2)\n",
    "Wh = randn(4*2, 2)\n",
    "b  = randn(4*2)\n",
    "lstm1 = LayerDev.LSTMCell([], [], \"LSTM_1\", Wi, Wh, b)"
   ]
  },
  {
   "cell_type": "code",
   "execution_count": 110,
   "metadata": {},
   "outputs": [
    {
     "data": {
      "text/plain": [
       "DPNeurifyFV.SplitZonotope{Float64}(Zonotope{Float64, Vector{Float64}, Matrix{Float64}}([0.0, 0.0, 0.0, 0.0, 0.0, 0.0, 0.0, 0.0], [1.0 0.0 … 0.0 0.0; 0.0 1.0 … 0.0 0.0; … ; 0.0 0.0 … 1.0 0.0; 0.0 0.0 … 0.0 1.0]), Dict{String, Vector{Tuple{Int64, Float64, Float64}}}(), [(\"input\", 1), (\"input\", 2), (\"input\", 3), (\"input\", 4), (\"input\", 5), (\"input\", 6), (\"input\", 7), (\"input\", 8)], Matrix{Float64}(undef, 0, 0), Float64[], (2, 4))"
      ]
     },
     "metadata": {},
     "output_type": "display_data"
    }
   ],
   "source": [
    "SAMPLES = 2\n",
    "TIMESTEPS = 4\n",
    "\n",
    "H = Hyperrectangle(low=-ones(SAMPLES * TIMESTEPS), high=ones(SAMPLES*TIMESTEPS))\n",
    "sz_in = DP.SplitZonotope(H, (SAMPLES, TIMESTEPS))"
   ]
  },
  {
   "cell_type": "code",
   "execution_count": 111,
   "metadata": {},
   "outputs": [],
   "source": [
    "state = (0, 0., 0.)\n",
    "for i in 1:TIMESTEPS\n",
    "    sz_lstm = DP.get_tensor_idx(sz_in, [SAMPLES, TIMESTEPS], :, i)\n",
    "    if state == (0, 0., 0.)\n",
    "        state = (i, my_zero(sz_lstm), my_zero(sz_lstm))\n",
    "    end\n",
    "    h, c = DP.forward_node(DP.LSTMSolver(), lstm1, state, sz_lstm, n_samples=10000)\n",
    "    state = (i+1, h, c)\n",
    "end"
   ]
  },
  {
   "cell_type": "code",
   "execution_count": 112,
   "metadata": {},
   "outputs": [
    {
     "data": {
      "text/plain": [
       "(5, DPNeurifyFV.SplitZonotope{Float64}(Zonotope{Float64, Vector{Float64}, Matrix{Float64}}([-0.04799253944608902, -0.005331904058065717], [0.00012546903012927252 3.7950324487707125e-5 … 0.8382341069023482 0.0; -4.520236962113854e-5 0.00013686329370405525 … 0.0 0.9153507686724657]), Dict{String, Vector{Tuple{Int64, Float64, Float64}}}(), [(\"input\", 1), (\"input\", 2), (\"input\", 3), (\"input\", 4), (\"input\", 5), (\"input\", 6), (\"input\", 7), (\"input\", 8), (\"LSTM_1_1_σy_1\", 1), (\"LSTM_1_1_σy_1\", 2)  …  (\"LSTM_1_3_σtanh_1\", 1), (\"LSTM_1_3_σtanh_1\", 2), (\"LSTM_1_3_σtanh_2\", 1), (\"LSTM_1_3_σtanh_2\", 2), (\"LSTM_1_4_σy_1\", 1), (\"LSTM_1_4_σy_1\", 2), (\"LSTM_1_4_σtanh_1\", 1), (\"LSTM_1_4_σtanh_1\", 2), (\"LSTM_1_4_σtanh_2\", 1), (\"LSTM_1_4_σtanh_2\", 2)], Matrix{Float64}(undef, 0, 0), Float64[], (2,)), DPNeurifyFV.SplitZonotope{Float64}(Zonotope{Float64, Vector{Float64}, Matrix{Float64}}([0.139518753149589, 1.1382402847372275], [0.0006114325488620875 0.0002944940142089543 … 0.5685339050695069 0.0; -0.0003022381482948499 0.0008987969640598386 … 0.0 0.6753418053408722]), Dict{String, Vector{Tuple{Int64, Float64, Float64}}}(), [(\"input\", 1), (\"input\", 2), (\"input\", 3), (\"input\", 4), (\"input\", 5), (\"input\", 6), (\"input\", 7), (\"input\", 8), (\"LSTM_1_1_σy_1\", 1), (\"LSTM_1_1_σy_1\", 2)  …  (\"LSTM_1_3_σy_1\", 1), (\"LSTM_1_3_σy_1\", 2), (\"LSTM_1_3_σtanh_1\", 1), (\"LSTM_1_3_σtanh_1\", 2), (\"LSTM_1_3_σtanh_2\", 1), (\"LSTM_1_3_σtanh_2\", 2), (\"LSTM_1_4_σy_1\", 1), (\"LSTM_1_4_σy_1\", 2), (\"LSTM_1_4_σtanh_1\", 1), (\"LSTM_1_4_σtanh_1\", 2)], Matrix{Float64}(undef, 0, 0), Float64[], (2,)))"
      ]
     },
     "metadata": {},
     "output_type": "display_data"
    }
   ],
   "source": [
    "_, ĥ, ĉ = state"
   ]
  },
  {
   "cell_type": "code",
   "execution_count": 113,
   "metadata": {},
   "outputs": [
    {
     "name": "stdout",
     "output_type": "stream",
     "text": [
      "low(ĥ.z) = [-1.7813790283464863, -1.8459581091847101]\n",
      "high(ĥ.z) = [1.6853939494543084, 1.8352943010685787]\n"
     ]
    }
   ],
   "source": [
    "@show low(ĥ.z)\n",
    "@show high(ĥ.z);"
   ]
  },
  {
   "cell_type": "code",
   "execution_count": 90,
   "metadata": {},
   "outputs": [
    {
     "data": {
      "text/plain": [
       "2×32 Matrix{Float64}:\n",
       "  4.83197e-5  7.37344e-5  -0.000575922  …  0.0       0.774518  0.0\n",
       " -6.53939e-5  0.00012225  -0.000473062     0.104969  0.0       0.856288"
      ]
     },
     "metadata": {},
     "output_type": "display_data"
    }
   ],
   "source": [
    "ĥ.z.generators"
   ]
  },
  {
   "cell_type": "code",
   "execution_count": null,
   "metadata": {},
   "outputs": [],
   "source": []
  }
 ],
 "metadata": {
  "kernelspec": {
   "display_name": "Julia 1.9.2",
   "language": "julia",
   "name": "julia-1.9"
  },
  "language_info": {
   "file_extension": ".jl",
   "mimetype": "application/julia",
   "name": "julia",
   "version": "1.9.2"
  },
  "orig_nbformat": 4
 },
 "nbformat": 4,
 "nbformat_minor": 2
}
