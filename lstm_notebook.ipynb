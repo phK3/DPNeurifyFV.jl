{
 "cells": [
  {
   "cell_type": "code",
   "execution_count": 1,
   "metadata": {},
   "outputs": [
    {
     "name": "stdout",
     "output_type": "stream",
     "text": [
      "Academic license - for non-commercial use only - expires 2023-11-26\n"
     ]
    },
    {
     "name": "stderr",
     "output_type": "stream",
     "text": [
      "WARNING: Method definition (::Type{DPNeurifyFV.LSTMCell})(Any, Any, Any, Any, Any, Any) in module DPNeurifyFV at /home/philipp/VerifyNN/DPNeurifyFV.jl/src/computational_graph/computational_nodes.jl:516 overwritten at /home/philipp/VerifyNN/DPNeurifyFV.jl/src/computational_graph/computational_nodes.jl:529.\n",
      "  ** incremental compilation may be fatally broken for this module **\n",
      "\n"
     ]
    },
    {
     "name": "stdout",
     "output_type": "stream",
     "text": [
      "precompiling...\n"
     ]
    },
    {
     "name": "stdout",
     "output_type": "stream",
     "text": [
      "node input_Sub: sub constant\n",
      "\n",
      "parsing flatten :-)\n"
     ]
    },
    {
     "name": "stdout",
     "output_type": "stream",
     "text": [
      "parsing Matmul with input :-)\n"
     ]
    },
    {
     "name": "stdout",
     "output_type": "stream",
     "text": [
      "node Operation_1_Add: add constant\n",
      "\n",
      "parsing ReLU :-)\n",
      "parsing Matmul with input :-)\n",
      "node Operation_2_Add: add constant\n",
      "\n",
      "parsing ReLU :-)\n",
      "parsing Matmul with input :-)\n",
      "node Operation_3_Add: add constant\n",
      "\n",
      "parsing ReLU :-)\n",
      "parsing Matmul with input :-)\n",
      "node Operation_4_Add: add constant\n",
      "\n",
      "parsing ReLU :-)\n",
      "parsing Matmul with input :-)\n",
      "node Operation_5_Add: add constant\n",
      "\n",
      "parsing ReLU :-)\n",
      "parsing Matmul with input :-)\n",
      "node Operation_6_Add: add constant\n",
      "\n",
      "parsing ReLU :-)\n",
      "parsing Matmul with input :-)\n",
      "node linear_7_Add: add constant\n",
      "\n"
     ]
    },
    {
     "name": "stdout",
     "output_type": "stream",
     "text": [
      "[\"input\"][\"linear_7_Add\"]"
     ]
    },
    {
     "name": "stdout",
     "output_type": "stream",
     "text": [
      "Constructing the whole NN -- yay -- :-)\n",
      "inputs: [\"input\"]\n",
      "outputs: [\"linear_7_Add\"]\n"
     ]
    },
    {
     "name": "stdout",
     "output_type": "stream",
     "text": [
      "input_shape = Any[1, 1, 1, 5], output_shape = Any[1, 5]\n"
     ]
    },
    {
     "name": "stderr",
     "output_type": "stream",
     "text": [
      "/home/philipp/.julia/conda/3/lib/python3.10/site-packages/vnnlib/parser.py:213: UserWarning: literal negation does not strictly follow SMT-LIB\n",
      "  warnings.warn(\"literal negation does not strictly follow SMT-LIB\")\n"
     ]
    },
    {
     "name": "stdout",
     "output_type": "stream",
     "text": [
      "Warning! Output constraints have to be polytopes, found b with size (1, 1) - trying vec(b)\n"
     ]
    },
    {
     "name": "stdout",
     "output_type": "stream",
     "text": [
      "Checking if polytope can be reached\n"
     ]
    },
    {
     "name": "stderr",
     "output_type": "stream",
     "text": [
      "\u001b[33m\u001b[1m┌ \u001b[22m\u001b[39m\u001b[33m\u001b[1mWarning: \u001b[22m\u001b[39mLayer with Float32 parameters got Float64 input.\n",
      "\u001b[33m\u001b[1m│ \u001b[22m\u001b[39m  The input will be converted, but any earlier layers may be very slow.\n",
      "\u001b[33m\u001b[1m│ \u001b[22m\u001b[39m  layer = Dense(5 => 50)      \u001b[90m# 300 parameters\u001b[39m\n",
      "\u001b[33m\u001b[1m│ \u001b[22m\u001b[39m  summary(x) = \"5×6 Matrix{Float64}\"\n",
      "\u001b[33m\u001b[1m└ \u001b[22m\u001b[39m\u001b[90m@ Flux ~/.julia/packages/Flux/n3cOc/src/layers/stateless.jl:60\u001b[39m\n"
     ]
    },
    {
     "name": "stdout",
     "output_type": "stream",
     "text": [
      "i: 1 - [-4.01316499710083, 2269.2729241943107], "
     ]
    },
    {
     "name": "stdout",
     "output_type": "stream",
     "text": [
      "6.354616165161133 sec\n"
     ]
    },
    {
     "name": "stdout",
     "output_type": "stream",
     "text": [
      "i: 2 - [-4.01316499710083, 1122.462314027753], 9.663777112960815 sec\n",
      "i: 3 - [-4.01316499710083, 1095.465432296466], 9.669706106185913 sec\n",
      "Steps: 3 - [-1030.3663799624544, 4.01316499710083] -> inconclusive\n"
     ]
    },
    {
     "name": "stdout",
     "output_type": "stream",
     "text": [
      "Academic license - for non-commercial use only - expires 2023-11-26\n"
     ]
    },
    {
     "data": {
      "text/plain": [
       "DPNeurifyFV"
      ]
     },
     "metadata": {},
     "output_type": "display_data"
    }
   ],
   "source": [
    "# using Revise\n",
    "\n",
    "using DPNeurifyFV, LazySets, PyVnnlib, NeuralVerification, JuMP, Gurobi, \n",
    "        LinearAlgebra, Flux\n",
    "import VNNLib.NNLoader as NNL\n",
    "\n",
    "const NV = NeuralVerification\n",
    "const DP = DPNeurifyFV"
   ]
  },
  {
   "cell_type": "markdown",
   "metadata": {},
   "source": [
    "# Load ACAS"
   ]
  },
  {
   "cell_type": "code",
   "execution_count": 2,
   "metadata": {},
   "outputs": [
    {
     "name": "stdout",
     "output_type": "stream",
     "text": [
      "Warning! Output constraints have to be polytopes, found b with size (1, 1) - trying vec(b)\n"
     ]
    },
    {
     "name": "stderr",
     "output_type": "stream",
     "text": [
      "/home/philipp/.julia/conda/3/lib/python3.10/site-packages/vnnlib/parser.py:213: UserWarning: literal negation does not strictly follow SMT-LIB\n",
      "  warnings.warn(\"literal negation does not strictly follow SMT-LIB\")\n"
     ]
    },
    {
     "name": "stdout",
     "output_type": "stream",
     "text": [
      "node input_Sub: sub constant\n",
      "\n",
      "parsing flatten :-)\n",
      "parsing Matmul with input :-)\n"
     ]
    },
    {
     "name": "stdout",
     "output_type": "stream",
     "text": [
      "node Operation_1_Add: add constant\n",
      "\n",
      "parsing ReLU :-)\n",
      "parsing Matmul with input :-)\n",
      "node Operation_2_Add: add constant\n",
      "\n",
      "parsing ReLU :-)\n",
      "parsing Matmul with input :-)\n",
      "node Operation_3_Add: add constant\n",
      "\n",
      "parsing ReLU :-)\n",
      "parsing Matmul with input :-)\n",
      "node Operation_4_Add: add constant\n",
      "\n",
      "parsing ReLU :-)\n",
      "parsing Matmul with input :-)\n",
      "node Operation_5_Add: add constant\n",
      "\n",
      "parsing ReLU :-)\n",
      "parsing Matmul with input :-)\n",
      "node Operation_6_Add: add constant\n",
      "\n",
      "parsing ReLU :-)\n",
      "parsing Matmul with input :-)\n",
      "node linear_7_Add: add constant\n",
      "\n"
     ]
    },
    {
     "name": "stdout",
     "output_type": "stream",
     "text": [
      "[\"input\"][\"linear_7_Add\"]"
     ]
    },
    {
     "name": "stdout",
     "output_type": "stream",
     "text": [
      "Constructing the whole NN -- yay -- :-)\n",
      "inputs: [\"input\"]\n",
      "outputs: [\"linear_7_Add\"]\n",
      "input_shape = Any[1, 1, 1, 5], output_shape = Any[1, 5]\n"
     ]
    }
   ],
   "source": [
    "vnnlib_path = \"../vnncomp2023_benchmarks/benchmarks/acasxu/vnnlib/prop_1.vnnlib.gz\"\n",
    "onnx_path   = \"../vnncomp2023_benchmarks/benchmarks/acasxu/onnx/ACASXU_run2a_1_1_batch_2000.onnx\"\n",
    "\n",
    "speclist = PyVnnlib.generate_specs(vnnlib_path, dtype=Float32)\n",
    "specs = DP.generate_specs(speclist)\n",
    "input_set, output_set = specs[1]\n",
    "\n",
    "nn = NNL.load_network_dict(DP.CGType, onnx_path);"
   ]
  },
  {
   "cell_type": "code",
   "execution_count": 3,
   "metadata": {},
   "outputs": [
    {
     "data": {
      "text/plain": [
       "(5, 1, 1, 1)"
      ]
     },
     "metadata": {},
     "output_type": "display_data"
    }
   ],
   "source": [
    "nn.input_shape"
   ]
  },
  {
   "cell_type": "markdown",
   "metadata": {},
   "source": [
    "## Input Zonotope"
   ]
  },
  {
   "cell_type": "code",
   "execution_count": 7,
   "metadata": {},
   "outputs": [
    {
     "data": {
      "text/plain": [
       "DPNeurifyFV.SplitZonotope{Float64}(Zonotope{Float64, Vector{Float64}, Matrix{Float64}}([0.6399288845, 0.0, 0.0, 0.475, -0.475], [0.039928884499999984 0.0 … 0.0 0.0; 0.0 0.5 … 0.0 0.0; … ; 0.0 0.0 … 0.025000000000000022 0.0; 0.0 0.0 … 0.0 0.024999999999999967]), Dict{String, Vector}(), Dict{String, Tuple{Vararg{Vector{Float64}}}}(\"input\" => ([0.6, -0.5, -0.5, 0.44999999999999996, -0.49999999999999994], [0.679857769, 0.5, 0.5, 0.5, -0.45])), [(\"input\", 1), (\"input\", 2), (\"input\", 3), (\"input\", 4), (\"input\", 5)], Matrix{Float64}(undef, 0, 0), Float64[], (5, 1, 1, 1))"
      ]
     },
     "metadata": {},
     "output_type": "display_data"
    }
   ],
   "source": [
    "sz = DP.SplitZonotope(input_set, (5, 1, 1, 1))"
   ]
  },
  {
   "cell_type": "code",
   "execution_count": 5,
   "metadata": {},
   "outputs": [
    {
     "name": "stderr",
     "output_type": "stream",
     "text": [
      "┌ Warning: Layer with Float32 parameters got Float64 input.\n",
      "│   The input will be converted, but any earlier layers may be very slow.\n",
      "│   layer = Dense(5 => 50)\n",
      "│   summary(x) = 5×1 Matrix{Float64}\n",
      "└ @ Flux /home/philipp/.julia/packages/Flux/n3cOc/src/layers/stateless.jl:60\n"
     ]
    },
    {
     "data": {
      "text/plain": [
       "DPNeurifyFV.SplitZonotope{Float64}(Zonotope{Float64, Vector{Float64}, Matrix{Float64}}([869.5501360080898, 921.1208670862184, 1118.1886796081599, 615.1553025833684, 842.1646951556288], [0.03355835790229809 -4.152272067490184 … 16.024193811449894 -4.608596498237706; 0.031288969595180405 -2.677292693029732 … 15.517364852610786 -8.223937711418023; … ; 0.022298837055729343 -1.3525294185865429 … -13.796041660137135 -9.23207223985248; 0.01344129012606004 -7.195596037538551 … 29.308726032544957 -7.481803847390072]), Dict{String, Vector}(), Dict{String, Tuple{Vararg{Vector{Float64}}}}(\"relu_1\" => ([-1.097155948728323, -0.7980498348342377, -0.5797056935727596, -1.4966126339319454, -0.5463720206834655, -2.190549179511118, 0.3265609044581651, -1.3760625595441778, -1.523329238310462, -0.9448831709355664  …  -0.49980680048465725, 0.48509537475183606, 0.24354485676158225, -0.7422393859123464, -0.6970228727014656, -0.5706770729312817, -0.19902162104845048, -0.42158674484021175, -1.567706191861582, 0.7375468006357551], [1.717283861233792, -0.6536063795909286, 0.3476010332462285, -1.3248475088737903, 0.2954950973391533, 0.8518340710550548, 0.645637689852559, -1.1226086631417274, -1.3384288378991185, -0.8206199075561017  …  0.5408419988593023, 0.9588100547212723, 0.35969754751305316, -0.4903018298093229, -0.5708887510932981, -0.4490111455321312, 0.6499880282706909, 0.4726095285266638, -1.428183925061603, 0.9027655721287631]), \"relu_4\" => ([-296.4082831326998, -56.35297455641347, -45.52202150619208, -212.71872225469122, -236.6789787999387, -46.946639164993314, -61.1095465550986, -84.42619675957683, -96.52746875709771, -218.39804576518677  …  -86.20092540267962, -289.92282509200214, -59.16348649518729, -95.07678046161075, -160.74582923202038, -222.81996489508816, -94.82688678880729, -13.615079556418017, -82.06311999444344, -97.08365739448678], [165.7587250171394, 34.26907606572304, 28.45004728852532, 223.93445723037564, 269.670825783118, 43.0918225000443, 53.79285234225817, 84.19109004214398, 74.82472390421997, 235.78107038375558  …  84.11817383100404, 221.0860893720827, 55.13015460680402, 66.15631152978071, 97.29686119269294, 225.68384525195188, 62.162052488897245, 6.930169511323519, 88.1516773918054, 77.98140026595456]), \"relu_6\" => ([-10689.161277269557, -2782.0387138064298, -19853.66773654974, -17904.783644509807, -20527.875302049368, -2828.9854234169875, -9550.668801229207, -10571.390968734815, -10575.10883443047, -2483.2658080757533  …  -11547.85381802908, -15631.959526223236, -35714.06500194447, -40242.01678847194, -45637.35334534317, -1796.1566104321478, -4979.071519990489, -3697.9952452115367, -4833.559304924862, -3597.751102615904], [8285.05486137507, 4025.4529256023507, 16199.326068443956, 8251.836069957046, 12204.114053454845, 3619.9234821748873, 4877.136954847355, 6094.812018222861, 6481.916358676636, 2114.2576298142935  …  6473.302792781202, 11046.353092207271, 29121.63693118521, 21732.518858522755, 26235.96237049679, 2160.5922311036115, 3576.8331367046294, 4231.899576978759, 6395.85122667384, 3820.4587386821]), \"relu_3\" => ([-15.691263409365598, -77.67578412003411, -18.52867666917675, -9.763471954049866, -19.398324842077606, -23.268240011788052, -33.07333846410857, -22.922252685107235, -8.869523524270923, -29.46883062189719  …  -26.308511477724124, -12.072631859543929, -66.65934266236543, -55.08222378924333, -10.318106964310925, -13.655692994561106, -40.82179569789368, -0.9828767477675202, -12.461857477369303, -7.765793005099816], [32.748325835504694, 59.03438030741483, 12.536197289886116, 8.131760250934509, 19.544153555144383, 26.683775984976528, 22.86208392012587, 16.48891386858268, 7.461242465071857, 19.154166096942937  …  23.169369277700632, 18.734818237913874, 44.56129131793258, 34.17411095058931, 11.213877514550475, 9.450032623414328, 30.488874753197067, 0.3660634855869027, 19.517002779303535, 5.902958823120004]), \"relu_2\" => ([-2.680956973933314, -0.47020898892811513, -3.9813786698280356, -7.372632672999821, -3.109399037015115, -6.002951776554047, -1.000918657256728, -15.868707997847661, -5.547752842857453, -1.7205834682699568  …  -5.503556327528564, -4.136493448607209, -4.952301455343408, -1.5831063861876802, -15.062250672983945, -8.971871564720168, -8.401209376416174, -7.699606923431672, -4.002290479332539, -1.9855671379959245], [0.13924906392914016, -0.05741124618746138, 2.7469306548732235, 3.553755914949883, 1.416724819123468, -0.17461743690051934, 0.9623464744553356, 11.240181613565838, -2.0899897473723756, 5.1806130432818565  …  1.7462869506290573, 2.1268001334470963, -1.8110139000089072, -0.5387549317291163, 4.202632381520127, 7.2728887775997615, -4.689742698919923, 1.1565813197758366, 5.791638020110292, 0.3449747024269252]), \"relu_5\" => ([-829.4690255824563, -2337.562831456033, -967.9076837817535, -3095.276957923614, -893.1853924635591, -708.7473198372977, -588.361290827773, -1623.18268258624, -1098.4435470528754, -363.21921330673257  …  -664.0105519429626, -254.3316567272761, -1415.1911674764146, -1325.1368059588817, -2760.852598221457, -498.78269313557223, -366.69551021649926, -1122.7630230230975, -4017.2772940910004, -1069.5777015998574], [719.948503455924, 1658.3809104942993, 570.1538097864842, 2926.4123960365628, 541.0727781547259, 532.9548098588625, 641.2402851036936, 1166.1341931460593, 887.798280090343, 398.15245446969124  …  394.7501299537831, 246.91245006729466, 754.3331096748188, 607.5197171451869, 2838.1803370736407, 725.7956739283976, 344.9247275298939, 980.4249851204249, 2074.28315621931, 1289.425070358936]), \"input\" => ([0.6, -0.5, -0.5, 0.44999999999999996, -0.49999999999999994], [0.679857769, 0.5, 0.5, 0.5, -0.45])), [(\"input\", 1), (\"input\", 2), (\"input\", 3), (\"input\", 4), (\"input\", 5), (\"relu_1\", 1), (\"relu_1\", 3), (\"relu_1\", 5), (\"relu_1\", 6), (\"relu_1\", 13)  …  (\"relu_6\", 41), (\"relu_6\", 42), (\"relu_6\", 43), (\"relu_6\", 44), (\"relu_6\", 45), (\"relu_6\", 46), (\"relu_6\", 47), (\"relu_6\", 48), (\"relu_6\", 49), (\"relu_6\", 50)], Matrix{Float64}(undef, 0, 0), Float64[], (5, 1))"
      ]
     },
     "metadata": {},
     "output_type": "display_data"
    }
   ],
   "source": [
    "# ẑs = DP.propagate(DP.LSTMSolver(), nn, sz, return_dict=true)\n",
    "ẑ = DP.propagate(DP.LSTMSolver(), nn, sz)"
   ]
  },
  {
   "cell_type": "code",
   "execution_count": 6,
   "metadata": {},
   "outputs": [
    {
     "name": "stdout",
     "output_type": "stream",
     "text": [
      "low(H) = [-3284.187388022835, -3858.8777831344673, -3974.832952141517, -4135.367394042063, -3829.9250525543666]\n",
      "high(H) = [5023.287660039015, 5701.1195173069045, 6211.210311357837, 5365.6779992087995, 5514.254442865624]\n"
     ]
    }
   ],
   "source": [
    "H = overapproximate(ẑ.z, Hyperrectangle)\n",
    "@show low(H)\n",
    "@show high(H);"
   ]
  },
  {
   "cell_type": "markdown",
   "metadata": {},
   "source": [
    "## Splitting of Zonotope"
   ]
  },
  {
   "cell_type": "code",
   "execution_count": 8,
   "metadata": {},
   "outputs": [
    {
     "data": {
      "text/plain": [
       "get_split_bounds (generic function with 1 method)"
      ]
     },
     "metadata": {},
     "output_type": "display_data"
    }
   ],
   "source": [
    "function get_split_bounds(splits::Dict, bounds::Dict, layer_name::String, idx::Integer)\n",
    "    lx, ux, ly, uy = (b[idx] for b in bounds[layer_name])\n",
    "    \n",
    "    if haskey(splits, layer_name)\n",
    "        idxs, lxs, uxs, lys, uys = DP.unzip(splits[layer_name])\n",
    "\n",
    "        idx = findfirst(x -> x == idx, idxs)\n",
    "        if !isnothing(idx)\n",
    "            lx = max(lx, lxs[idx])\n",
    "            ux = min(ux, uxs[idx])\n",
    "            ly = max(ly, lys[idx])\n",
    "            uy = min(uy, uys[idx])\n",
    "        end\n",
    "    end\n",
    "\n",
    "    return lx, ux, ly, uy   \n",
    "end"
   ]
  },
  {
   "cell_type": "code",
   "execution_count": 9,
   "metadata": {},
   "outputs": [
    {
     "data": {
      "text/plain": [
       "split_lstm_layer (generic function with 1 method)"
      ]
     },
     "metadata": {},
     "output_type": "display_data"
    }
   ],
   "source": [
    "function split_lstm_layer(sz::DP.SplitZonotope, input_shape, split_layer, split_idx)\n",
    "    lx, ux, ly, uy = get_split_bounds(sz.splits, sz.bounds, split_layer, split_idx)\n",
    "    mx = 0.5 * (lx + ux)\n",
    "    my = 0.5 * (ly + uy)\n",
    "\n",
    "    l, u = sz.bounds[\"input\"]\n",
    "    input_set = Hyperrectangle(low=l, high=u)\n",
    "    zs = [DP.SplitZonotope(input_set, input_shape) for i in 1:4]\n",
    "\n",
    "    new_splits = [(split_idx, lx, mx, ly, my), (split_idx, lx, mx, my, uy),\n",
    "                (split_idx, mx, ux, ly, my), (split_idx, mx, ux, my, uy)]\n",
    "\n",
    "    return zs, new_splits\n",
    "end"
   ]
  },
  {
   "cell_type": "code",
   "execution_count": 10,
   "metadata": {},
   "outputs": [
    {
     "data": {
      "text/plain": [
       "split_relu_layer (generic function with 1 method)"
      ]
     },
     "metadata": {},
     "output_type": "display_data"
    }
   ],
   "source": [
    "function split_relu_layer(sz::DP.SplitZonotope, input_shape, split_layer, split_idx)\n",
    "    l, u = sz.bounds[\"input\"]\n",
    "    input_set = Hyperrectangle(low=l, high=u)\n",
    "    \n",
    "    zs = [DP.SplitZonotope(input_set, input_shape) for i in 1:2]\n",
    "    new_splits = [(split_idx, -Inf, 0.), (split_idx, 0., Inf)]\n",
    "    return zs, new_splits\n",
    "end"
   ]
  },
  {
   "cell_type": "code",
   "execution_count": 11,
   "metadata": {},
   "outputs": [
    {
     "data": {
      "text/plain": [
       "split_input (generic function with 1 method)"
      ]
     },
     "metadata": {},
     "output_type": "display_data"
    }
   ],
   "source": [
    "function split_input(sz::DP.SplitZonotope, input_shape, split_layer, split_idx)\n",
    "    l, u = sz.bounds[\"input\"]\n",
    "    m = 0.5 * (l[split_idx] + u[split_idx])\n",
    "    \n",
    "    lm = copy(l)\n",
    "    lm[split_idx] = m\n",
    "\n",
    "    um = copy(u)\n",
    "    um[split_idx] = m\n",
    "\n",
    "    h₁ = Hyperrectangle(low=l, high=um)\n",
    "    h₂ = Hyperrectangle(low=lm, high=u)\n",
    "    zs = [DP.SplitZonotope(h₁, input_shape), DP.SplitZonotope(h₂.input_shape)]\n",
    "    new_splits = [(split_idx, l[split_idx], m), (split_idx, m, u[split_idx])]\n",
    "\n",
    "    return zs, new_splits\n",
    "end"
   ]
  },
  {
   "cell_type": "code",
   "execution_count": 12,
   "metadata": {},
   "outputs": [
    {
     "data": {
      "text/plain": [
       "split_split_zonotope (generic function with 1 method)"
      ]
     },
     "metadata": {},
     "output_type": "display_data"
    }
   ],
   "source": [
    "function split_split_zonotope(sz::DP.SplitZonotope, input_shape)\n",
    "    # need ...[1,:] since importance would be (1,n_gens) matrix, but need vector idx\n",
    "    importance = sum(abs.(sz.z.generators), dims=1)[1,:]\n",
    "    split_layer, split_idx = sz.generator_map[argmax(importance)]\n",
    "\n",
    "    if startswith(split_layer, \"input\")\n",
    "        zs, new_splits = split_input(sz, input_shape, split_layer, split_idx)\n",
    "    elseif startswith(split_layer, \"relu\")\n",
    "        zs, new_splits = split_relu_layer(sz, input_shape, split_layer, split_idx)\n",
    "    elseif startswith(split_layer, \"LSTM\")\n",
    "        zs, new_splits = split_lstm_layer(sz, input_shape, split_layer, split_idx)\n",
    "    else\n",
    "        throw(ArgumentError(\"Splitting layer $(split_layer) not supported!\"))\n",
    "    end\n",
    "    \n",
    "    # make sure children have distinct dictionaries for bounds and splits!\n",
    "    for z in zs\n",
    "        for (k, v) in sz.splits\n",
    "            z.splits[k] = copy(v)\n",
    "        end\n",
    "\n",
    "        for (k, v) in sz.bounds\n",
    "            # TODO: is this efficient???\n",
    "            z.bounds[k] = deepcopy(v)\n",
    "        end\n",
    "    end\n",
    "\n",
    "    # add new splits\n",
    "    if haskey(sz.splits, split_layer)\n",
    "        for (z, new_split) in zip(zs, new_splits)\n",
    "            push!(z.splits[split_layer], new_split)\n",
    "        end\n",
    "    else\n",
    "        for (z, new_split) in zip(zs, new_splits)\n",
    "            z.splits[split_layer] = [new_split]\n",
    "        end\n",
    "    end\n",
    "\n",
    "    return zs  \n",
    "end"
   ]
  },
  {
   "cell_type": "code",
   "execution_count": 13,
   "metadata": {},
   "outputs": [
    {
     "name": "stdout",
     "output_type": "stream",
     "text": [
      "length(importance) = 253\n",
      "maximum(importance) = 2662.083382749315\n",
      "argmax(importance) = 237\n"
     ]
    }
   ],
   "source": [
    "importance = sum(abs.(ẑ.z.generators), dims=1)[1,:]\n",
    "@show length(importance)\n",
    "@show maximum(importance)\n",
    "@show argmax(importance);"
   ]
  },
  {
   "cell_type": "code",
   "execution_count": 14,
   "metadata": {},
   "outputs": [
    {
     "data": {
      "text/plain": [
       "(\"relu_6\", 34)"
      ]
     },
     "metadata": {},
     "output_type": "display_data"
    }
   ],
   "source": [
    "ẑ.generator_map[237]"
   ]
  },
  {
   "cell_type": "code",
   "execution_count": 15,
   "metadata": {},
   "outputs": [
    {
     "data": {
      "text/plain": [
       "1-element Vector{Tuple{Int64, Float64, Float64}}:\n",
       " (34, 0.0, Inf)"
      ]
     },
     "metadata": {},
     "output_type": "display_data"
    }
   ],
   "source": [
    "z₁ = DP.SplitZonotope(input_set, (5, 1, 1, 1))\n",
    "z₁.splits[\"relu_6\"] = [(34, -Inf, 0.)]\n",
    "\n",
    "z₂ = DP.SplitZonotope(input_set, (5, 1, 1, 1))\n",
    "z₂.splits[\"relu_6\"] = [(34, .0, Inf)]"
   ]
  },
  {
   "cell_type": "code",
   "execution_count": 16,
   "metadata": {},
   "outputs": [
    {
     "data": {
      "text/plain": [
       "Dict{String, Vector} with 1 entry:\n",
       "  \"relu_6\" => [(34, -Inf, 0.0)]"
      ]
     },
     "metadata": {},
     "output_type": "display_data"
    }
   ],
   "source": [
    "z₁.splits"
   ]
  },
  {
   "cell_type": "code",
   "execution_count": 17,
   "metadata": {},
   "outputs": [
    {
     "data": {
      "text/plain": [
       "DPNeurifyFV.SplitZonotope{Float64}(Zonotope{Float64, Vector{Float64}, Matrix{Float64}}([610.7557013728449, 628.7603892064208, 835.3728839476843, 474.81778053593774, 697.3959600785349], [0.014531698047060695 -3.318608280419502 … 16.024193811449894 -4.608596498237706; 0.009794522175653114 -1.7355014079018705 … 15.517364852610786 -8.223937711418023; … ; 0.011981171992001204 -0.900455129341983 … -13.796041660137135 -9.23207223985248; 0.0027978406876395887 -6.729247322953922 … 29.308726032544957 -7.481803847390072]), Dict{String, Vector}(\"relu_6\" => [(34, -Inf, 0.0)]), Dict{String, Tuple{Vararg{Vector{Float64}}}}(\"relu_1\" => ([-1.097155948728323, -0.7980498348342377, -0.5797056935727596, -1.4966126339319454, -0.5463720206834655, -2.190549179511118, 0.3265609044581651, -1.3760625595441778, -1.523329238310462, -0.9448831709355664  …  -0.49980680048465725, 0.48509537475183606, 0.24354485676158225, -0.7422393859123464, -0.6970228727014656, -0.5706770729312817, -0.19902162104845048, -0.42158674484021175, -1.567706191861582, 0.7375468006357551], [1.717283861233792, -0.6536063795909286, 0.3476010332462285, -1.3248475088737903, 0.2954950973391533, 0.8518340710550548, 0.645637689852559, -1.1226086631417274, -1.3384288378991185, -0.8206199075561017  …  0.5408419988593023, 0.9588100547212723, 0.35969754751305316, -0.4903018298093229, -0.5708887510932981, -0.4490111455321312, 0.6499880282706909, 0.4726095285266638, -1.428183925061603, 0.9027655721287631]), \"relu_4\" => ([-296.4082831326998, -56.35297455641347, -45.52202150619208, -212.71872225469122, -236.6789787999387, -46.946639164993314, -61.1095465550986, -84.42619675957683, -96.52746875709771, -218.39804576518677  …  -86.20092540267962, -289.92282509200214, -59.16348649518729, -95.07678046161075, -160.74582923202038, -222.81996489508816, -94.82688678880729, -13.615079556418017, -82.06311999444344, -97.08365739448678], [165.7587250171394, 34.26907606572304, 28.45004728852532, 223.93445723037564, 269.670825783118, 43.0918225000443, 53.79285234225817, 84.19109004214398, 74.82472390421997, 235.78107038375558  …  84.11817383100404, 221.0860893720827, 55.13015460680402, 66.15631152978071, 97.29686119269294, 225.68384525195188, 62.162052488897245, 6.930169511323519, 88.1516773918054, 77.98140026595456]), \"relu_6\" => ([-10689.161277269557, -2782.0387138064298, -19853.66773654974, -17904.783644509807, -20527.875302049368, -2828.9854234169875, -9550.668801229207, -10571.390968734815, -10575.10883443047, -2483.2658080757533  …  -11547.85381802908, -15631.959526223236, -35714.06500194447, -40242.01678847194, -45637.35334534317, -1796.1566104321478, -4979.071519990489, -3697.9952452115367, -4833.559304924862, -3597.751102615904], [8285.05486137507, 4025.4529256023507, 16199.326068443956, 8251.836069957046, 12204.114053454845, 3619.9234821748873, 4877.136954847355, 6094.812018222861, 6481.916358676636, 2114.2576298142935  …  6473.302792781202, 11046.353092207271, 29121.63693118521, 21732.518858522755, 26235.96237049679, 2160.5922311036115, 3576.8331367046294, 4231.899576978759, 6395.85122667384, 3820.4587386821]), \"relu_3\" => ([-15.691263409365598, -77.67578412003411, -18.52867666917675, -9.763471954049866, -19.398324842077606, -23.268240011788052, -33.07333846410857, -22.922252685107235, -8.869523524270923, -29.46883062189719  …  -26.308511477724124, -12.072631859543929, -66.65934266236543, -55.08222378924333, -10.318106964310925, -13.655692994561106, -40.82179569789368, -0.9828767477675202, -12.461857477369303, -7.765793005099816], [32.748325835504694, 59.03438030741483, 12.536197289886116, 8.131760250934509, 19.544153555144383, 26.683775984976528, 22.86208392012587, 16.48891386858268, 7.461242465071857, 19.154166096942937  …  23.169369277700632, 18.734818237913874, 44.56129131793258, 34.17411095058931, 11.213877514550475, 9.450032623414328, 30.488874753197067, 0.3660634855869027, 19.517002779303535, 5.902958823120004]), \"relu_2\" => ([-2.680956973933314, -0.47020898892811513, -3.9813786698280356, -7.372632672999821, -3.109399037015115, -6.002951776554047, -1.000918657256728, -15.868707997847661, -5.547752842857453, -1.7205834682699568  …  -5.503556327528564, -4.136493448607209, -4.952301455343408, -1.5831063861876802, -15.062250672983945, -8.971871564720168, -8.401209376416174, -7.699606923431672, -4.002290479332539, -1.9855671379959245], [0.13924906392914016, -0.05741124618746138, 2.7469306548732235, 3.553755914949883, 1.416724819123468, -0.17461743690051934, 0.9623464744553356, 11.240181613565838, -2.0899897473723756, 5.1806130432818565  …  1.7462869506290573, 2.1268001334470963, -1.8110139000089072, -0.5387549317291163, 4.202632381520127, 7.2728887775997615, -4.689742698919923, 1.1565813197758366, 5.791638020110292, 0.3449747024269252]), \"relu_5\" => ([-829.4690255824563, -2337.562831456033, -967.9076837817535, -3095.276957923614, -893.1853924635591, -708.7473198372977, -588.361290827773, -1623.18268258624, -1098.4435470528754, -363.21921330673257  …  -664.0105519429626, -254.3316567272761, -1415.1911674764146, -1325.1368059588817, -2760.852598221457, -498.78269313557223, -366.69551021649926, -1122.7630230230975, -4017.2772940910004, -1069.5777015998574], [719.948503455924, 1658.3809104942993, 570.1538097864842, 2926.4123960365628, 541.0727781547259, 532.9548098588625, 641.2402851036936, 1166.1341931460593, 887.798280090343, 398.15245446969124  …  394.7501299537831, 246.91245006729466, 754.3331096748188, 607.5197171451869, 2838.1803370736407, 725.7956739283976, 344.9247275298939, 980.4249851204249, 2074.28315621931, 1289.425070358936]), \"input\" => ([0.6, -0.5, -0.5, 0.44999999999999996, -0.49999999999999994], [0.679857769, 0.5, 0.5, 0.5, -0.45])), [(\"input\", 1), (\"input\", 2), (\"input\", 3), (\"input\", 4), (\"input\", 5), (\"relu_1\", 1), (\"relu_1\", 3), (\"relu_1\", 5), (\"relu_1\", 6), (\"relu_1\", 13)  …  (\"relu_6\", 41), (\"relu_6\", 42), (\"relu_6\", 43), (\"relu_6\", 44), (\"relu_6\", 45), (\"relu_6\", 46), (\"relu_6\", 47), (\"relu_6\", 48), (\"relu_6\", 49), (\"relu_6\", 50)], [0.17544899628319913 -7.687396305607452 … -6.198490738190644 -271.39976445396735], [0.0], (5, 1))"
      ]
     },
     "metadata": {},
     "output_type": "display_data"
    }
   ],
   "source": [
    "ẑ₁ = DP.propagate(DP.LSTMSolver(), nn, z₁)"
   ]
  },
  {
   "cell_type": "code",
   "execution_count": 18,
   "metadata": {},
   "outputs": [
    {
     "name": "stdout",
     "output_type": "stream",
     "text": [
      "ẑ₁.splits = Dict{String, Vector}(\"relu_6\" => [(34, -Inf, 0.0)])\n",
      "ẑ₁.split_A = "
     ]
    },
    {
     "name": "stdout",
     "output_type": "stream",
     "text": [
      "[0.17544899628319913 -7.687396305607452 37.93398097480567 0.006849888430466644 -0.4774669263463789 1.6745085264771158 0.2775935652816877 -0.08005196024977361 0.7588195182449202 0.9238184151870299 0.9012757700378904 -0.7890139513701437 -3.6127741961878206 -0.3850144635612257 18.270501268197492 -2.669289317389697 -0.15891156038334256 -2.4871670448608585 0.8301334040998315 -0.06654407709645378 1.0653724283227461 0.7991552049588879 0.8181537378443942 1.294921329020452 2.8445620313192155 -5.6062332869608245 8.055159197598012 -0.7632945065660456 -55.34840300843174 0.8050745460822378 -2.9512928065346156 9.78921435064669 -7.7443128783482 5.931582457591291 -1.8155036306036487 -2.2327677257107563 -0.2572808396177286 7.680918500510346 -0.00978354827604544 0.3912856476425597 -6.4957129616557845 -0.12452600236036412 -1.6691359822752656 -5.935149344737775 0.005159673329371148 7.002114064077002 2.2660868333320305 -5.4822961966692745 9.273482570390176 -5.175689733088898 -30.99830992256715 1.627399839180757 0.9622054039987131 1.3138760236741296 42.84216440798296 17.914911992607053 -2.74167059493605 8.095512293513137 26.174564695273215 -4.439625729279973 -0.08271788253921342 6.385040477470822 76.30915911884979 7.19236709966444 13.312011607970542 1.0316211602819736 4.225629965020764 28.13437330562775 -15.841013428175708 14.379803344888485 -6.3568625744309495 -29.899419733452063 0.041134285585530214 2.622999079103889 -0.8661213355689947 -41.55548643554736 4.714253123630788 -37.73551298080493 18.755453361946238 1.7380666794126727 -9.406631720959043 6.761486521064251 -2.9214528191482714 -2.4381153523315087 -3.5208536124328793 7.386366828847308 1.1477873805515466 2.592769538499766 3.9515581523411627 -4.252120509292141 3.1098792120428143 2.0366209135688296 24.807672978437832 -22.00066629680058 -19.756574813982166 27.90103924484735 9.797081356517635 30.7150393110999 -5.044374095759879 13.30929494432901 -0.033970961187032515 7.357463666695893 2.4725210634324797 -27.5135249682551 55.95549108924472 18.10190774306001 91.20644488195003 117.4492729305928 76.22881938244997 1.9291952288594214 -10.029264465482319 -22.292683908980887 78.04881033004443 46.85230436993934 38.172097005580085 17.421049502944488 36.262627951449915 -0.13598269574050786 16.924067306556438 -1.5795777433187566 -2.5308018106564423 -31.990787407348854 -10.64365846588406 49.62530542622624 36.0669364552728 -44.37239702072058 -106.22268145077041 -137.05961186275957 -34.69292465497149 -10.271434342361745 59.54819560867787 -38.64054243803086 241.65203770215555 98.95800252183687 -21.462487914559137 39.37864912360185 19.833696404912757 -85.52267564806074 43.05306199890632 48.83244008024305 -33.570978045514565 -28.226941833861154 31.38863515680289 24.890946531620887 -132.7095594518904 43.839384231904454 -7.659238892513183 -11.911238876554876 85.9140454558723 160.85508112138635 -0.022217739333955527 -20.129854146918117 44.14280942805773 -4.773819265848788 5.598161645932916 -14.313082126960131 119.89984477427159 -728.0419456631722 -195.46908495818965 -65.35795164447227 -198.84258105148228 -15.421667039779962 -120.79564802604318 0.7194126493511088 -41.74258574833498 3.2111077115269486 12.736646504137822 -6.501346427740703 -0.11754643426214179 26.200382202535128 -7.653028234144835 -7.116508948847004 12.963279060820373 -119.66541902823919 -1.9128966920799957 1.6629238071775518 -180.05706351218547 2.161821185635202 -18.370597446029052 -10.268957876367407 15.901252330302247 -5.686672012607778 0.6688897425090309 18.418024599950513 -20.291060585222255 -317.35973940138985 -333.54832640778784 8.36799496879388 -16.61676249824834 -4.353956286651864 -19.92845494087669 -13.150732609038702 -1097.042475197029 2.227345063911951 12.337425121153027 -238.18273547272403 -94.9163855548663 3.212490298969268 -9.90330316246268 -219.8279201552026 -69.56935218821053 -6.198490738190644 -271.39976445396735]\n",
      "ẑ₁.split_b = [0.0]\n"
     ]
    },
    {
     "data": {
      "text/plain": [
       "1-element Vector{Float64}:\n",
       " 0.0"
      ]
     },
     "metadata": {},
     "output_type": "display_data"
    }
   ],
   "source": [
    "@show ẑ₁.splits\n",
    "@show ẑ₁.split_A\n",
    "@show ẑ₁.split_b"
   ]
  },
  {
   "cell_type": "markdown",
   "metadata": {},
   "source": [
    "## Build LP"
   ]
  },
  {
   "cell_type": "code",
   "execution_count": 19,
   "metadata": {},
   "outputs": [
    {
     "data": {
      "text/plain": [
       "build_model"
      ]
     },
     "metadata": {},
     "output_type": "display_data"
    }
   ],
   "source": [
    "\"\"\"\n",
    "Builds LP for optimization over space described by SplitZonotope.\n",
    "\n",
    "Maximizes output opt_idx of the SplitZonotope subject to the split constraints stored.\n",
    "\n",
    "args:\n",
    "    sz - SplitZonotope whose output should be maximized\n",
    "\n",
    "kwargs:\n",
    "    opt - the optimizer for the LP\n",
    "    opt_idx - the dimension of the SplitZonotope to maximize\n",
    "\"\"\"\n",
    "function build_model(sz::DP.SplitZonotope; opt=Gurobi.Optimizer, opt_idx=1, silent=true)\n",
    "    z = sz.z\n",
    "    m, n = size(sz.split_A)\n",
    "\n",
    "    model = Model(opt)\n",
    "    silent && set_silent(model)\n",
    "    @variable(model, -1 <= x[1:ngens(z)] <= 1)\n",
    "\n",
    "    @objective(model, Max, z.generators[opt_idx,:]' * x)\n",
    "    A = [sz.split_A zeros(m, ngens(z) - n)]\n",
    "    @constraint(model, split_constraint, A*x .<= sz.split_b)\n",
    "    return model\n",
    "end"
   ]
  },
  {
   "cell_type": "code",
   "execution_count": 20,
   "metadata": {},
   "outputs": [
    {
     "name": "stdout",
     "output_type": "stream",
     "text": [
      "Academic license - for non-commercial use only - expires 2023-11-26\n"
     ]
    },
    {
     "data": {
      "text/plain": [
       "1-element Vector{ConstraintRef{Model, MathOptInterface.ConstraintIndex{MathOptInterface.ScalarAffineFunction{Float64}, MathOptInterface.LessThan{Float64}}, ScalarShape}}:\n",
       " 0.17544899628319913 x[1] - 7.687396305607452 x[2] + 37.93398097480567 x[3] + 0.006849888430466644 x[4] - 0.4774669263463789 x[5] + 1.6745085264771158 x[6] + 0.2775935652816877 x[7] - 0.08005196024977361 x[8] + 0.7588195182449202 x[9] + 0.9238184151870299 x[10] + 0.9012757700378904 x[11] - 0.7890139513701437 x[12] - 3.6127741961878206 x[13] - 0.3850144635612257 x[14] + 18.270501268197492 x[15] - 2.669289317389697 x[16] - 0.15891156038334256 x[17] - 2.4871670448608585 x[18] + 0.8301334040998315 x[19] - 0.06654407709645378 x[20] + 1.0653724283227461 x[21] + 0.7991552049588879 x[22] + 0.8181537378443942 x[23] + 1.294921329020452 x[24] + 2.8445620313192155 x[25] - 5.6062332869608245 x[26] + 8.055159197598012 x[27] - 0.7632945065660456 x[28] - 55.34840300843174 x[29] + 0.8050745460822378 x[30] - 2.9512928065346156 x[31] + 9.78921435064669 x[32] - 7.7443128783482 x[33] + 5.931582457591291 x[34] - 1.8155036306036487 x[35] - 2.2327677257107563 x[36] - 0.2572808396177286 x[37] + 7.680918500510346 x[38] - 0.00978354827604544 x[39] + 0.3912856476425597 x[40] - 6.4957129616557845 x[41] - 0.12452600236036412 x[42] - 1.6691359822752656 x[43] - 5.935149344737775 x[44] + 0.005159673329371148 x[45] + 7.002114064077002 x[46] + 2.2660868333320305 x[47] - 5.4822961966692745 x[48] + 9.273482570390176 x[49] - 5.175689733088898 x[50] - 30.99830992256715 x[51] + 1.627399839180757 x[52] + 0.9622054039987131 x[53] + 1.3138760236741296 x[54] + 42.84216440798296 x[55] + 17.914911992607053 x[56] - 2.74167059493605 x[57] + 8.095512293513137 x[58] + 26.174564695273215 x[59] - 4.439625729279973 x[60] - 0.08271788253921342 x[61] + 6.385040477470822 x[62] + 76.30915911884979 x[63] + 7.19236709966444 x[64] + 13.312011607970542 x[65] + 1.0316211602819736 x[66] + 4.225629965020764 x[67] + 28.13437330562775 x[68] - 15.841013428175708 x[69] + 14.379803344888485 x[70] - 6.3568625744309495 x[71] - 29.899419733452063 x[72] + 0.041134285585530214 x[73] + 2.622999079103889 x[74] - 0.8661213355689947 x[75] - 41.55548643554736 x[76] + 4.714253123630788 x[77] - 37.73551298080493 x[78] + 18.755453361946238 x[79] + 1.7380666794126727 x[80] - 9.406631720959043 x[81] + 6.761486521064251 x[82] - 2.9214528191482714 x[83] - 2.4381153523315087 x[84] - 3.5208536124328793 x[85] + 7.386366828847308 x[86] + 1.1477873805515466 x[87] + 2.592769538499766 x[88] + 3.9515581523411627 x[89] - 4.252120509292141 x[90] + 3.1098792120428143 x[91] + 2.0366209135688296 x[92] + 24.807672978437832 x[93] - 22.00066629680058 x[94] - 19.756574813982166 x[95] + 27.90103924484735 x[96] + 9.797081356517635 x[97] + 30.7150393110999 x[98] - 5.044374095759879 x[99] + 13.30929494432901 x[100] - 0.033970961187032515 x[101] + 7.357463666695893 x[102] + 2.4725210634324797 x[103] - 27.5135249682551 x[104] + 55.95549108924472 x[105] + 18.10190774306001 x[106] + 91.20644488195003 x[107] + 117.4492729305928 x[108] + 76.22881938244997 x[109] + 1.9291952288594214 x[110] - 10.029264465482319 x[111] - 22.292683908980887 x[112] + 78.04881033004443 x[113] + 46.85230436993934 x[114] + 38.172097005580085 x[115] + 17.421049502944488 x[116] + 36.262627951449915 x[117] - 0.13598269574050786 x[118] + 16.924067306556438 x[119] - 1.5795777433187566 x[120] - 2.5308018106564423 x[121] - 31.990787407348854 x[122] - 10.64365846588406 x[123] + 49.62530542622624 x[124] + 36.0669364552728 x[125] - 44.37239702072058 x[126] - 106.22268145077041 x[127] - 137.05961186275957 x[128] - 34.69292465497149 x[129] - 10.271434342361745 x[130] + 59.54819560867787 x[131] - 38.64054243803086 x[132] + 241.65203770215555 x[133] + 98.95800252183687 x[134] - 21.462487914559137 x[135] + 39.37864912360185 x[136] + 19.833696404912757 x[137] - 85.52267564806074 x[138] + 43.05306199890632 x[139] + 48.83244008024305 x[140] - 33.570978045514565 x[141] - 28.226941833861154 x[142] + 31.38863515680289 x[143] + 24.890946531620887 x[144] - 132.7095594518904 x[145] + 43.839384231904454 x[146] - 7.659238892513183 x[147] - 11.911238876554876 x[148] + 85.9140454558723 x[149] + 160.85508112138635 x[150] - 0.022217739333955527 x[151] - 20.129854146918117 x[152] + 44.14280942805773 x[153] - 4.773819265848788 x[154] + 5.598161645932916 x[155] - 14.313082126960131 x[156] + 119.89984477427159 x[157] - 728.0419456631722 x[158] - 195.46908495818965 x[159] - 65.35795164447227 x[160] - 198.84258105148228 x[161] - 15.421667039779962 x[162] - 120.79564802604318 x[163] + 0.7194126493511088 x[164] - 41.74258574833498 x[165] + 3.2111077115269486 x[166] + 12.736646504137822 x[167] - 6.501346427740703 x[168] - 0.11754643426214179 x[169] + 26.200382202535128 x[170] - 7.653028234144835 x[171] - 7.116508948847004 x[172] + 12.963279060820373 x[173] - 119.66541902823919 x[174] - 1.9128966920799957 x[175] + 1.6629238071775518 x[176] - 180.05706351218547 x[177] + 2.161821185635202 x[178] - 18.370597446029052 x[179] - 10.268957876367407 x[180] + 15.901252330302247 x[181] - 5.686672012607778 x[182] + 0.6688897425090309 x[183] + 18.418024599950513 x[184] - 20.291060585222255 x[185] - 317.35973940138985 x[186] - 333.54832640778784 x[187] + 8.36799496879388 x[188] - 16.61676249824834 x[189] - 4.353956286651864 x[190] - 19.92845494087669 x[191] - 13.150732609038702 x[192] - 1097.042475197029 x[193] + 2.227345063911951 x[194] + 12.337425121153027 x[195] - 238.18273547272403 x[196] - 94.9163855548663 x[197] + 3.212490298969268 x[198] - 9.90330316246268 x[199] - 219.8279201552026 x[200] - 69.56935218821053 x[201] - 6.198490738190644 x[202] - 271.39976445396735 x[203] ≤ 0.0"
      ]
     },
     "metadata": {},
     "output_type": "display_data"
    }
   ],
   "source": [
    "model = Model(Gurobi.Optimizer)\n",
    "z = ẑ₁.z\n",
    "@variable(model, -1 <= x[1:size(z.generators, 2)] <= 1)\n",
    "\n",
    "# just optimize first output, can also optimize other outputs later in loop\n",
    "@objective(model, Max, z.generators[1,:]' * x)\n",
    "\n",
    "# as many rows as splits, as many columns as generators in the output\n",
    "m, n = size(ẑ₁.split_A)\n",
    "A = [ẑ₁.split_A zeros(m, ngens(z) - n)]\n",
    "@constraint(model, split_constraint, A*x .<= ẑ₁.split_b)"
   ]
  },
  {
   "cell_type": "code",
   "execution_count": 21,
   "metadata": {},
   "outputs": [
    {
     "name": "stdout",
     "output_type": "stream",
     "text": [
      "Gurobi Optimizer version 9.1.2 build v9.1.2rc0 (linux64)\n",
      "Thread count: 2 physical cores, 4 logical processors, using up to 4 threads\n",
      "Optimize a model with 1 rows, 252 columns and 203 nonzeros\n",
      "Model fingerprint: 0xf8f34156\n",
      "Coefficient statistics:\n",
      "  Matrix range     [5e-03, 1e+03]\n",
      "  Objective range  [1e-04, 3e+02]\n",
      "  Bounds range     [1e+00, 1e+00]\n",
      "  RHS range        [0e+00, 0e+00]\n",
      "Presolve removed 0 rows and 125 columns\n",
      "Presolve time: 0.00s\n",
      "Presolved: 1 rows, 127 columns, 127 nonzeros\n",
      "\n",
      "Iteration    Objective       Primal Inf.    Dual Inf.      Time\n",
      "       0    8.8419822e+05   6.698635e+01   0.000000e+00      0s\n",
      "       1    2.7709526e+03   0.000000e+00   0.000000e+00      0s\n",
      "\n",
      "Solved in 1 iterations and 0.00 seconds\n",
      "Optimal objective  2.770952620e+03\n",
      "\n",
      "User-callback calls 29, time in user-callback 0.00 sec\n"
     ]
    }
   ],
   "source": [
    "optimize!(model)"
   ]
  },
  {
   "cell_type": "markdown",
   "metadata": {},
   "source": [
    "### Solving LP"
   ]
  },
  {
   "cell_type": "code",
   "execution_count": 22,
   "metadata": {},
   "outputs": [
    {
     "name": "stdout",
     "output_type": "stream",
     "text": [
      "Academic license - for non-commercial use only - expires 2023-11-26\n",
      "Academic license - for non-commercial use only - expires 2023-11-26\n",
      "ub₁ = 2770.9526204822946\n",
      "ub₂ = 5494.477303921766\n"
     ]
    },
    {
     "data": {
      "text/plain": [
       "5494.477303921766"
      ]
     },
     "metadata": {},
     "output_type": "display_data"
    }
   ],
   "source": [
    "z₁, z₂ = split_split_zonotope(ẑ, nn.input_shape)\n",
    "\n",
    "ẑ₁ = DP.propagate(DP.LSTMSolver(), nn, z₁)\n",
    "ẑ₂ = DP.propagate(DP.LSTMSolver(), nn, z₂)\n",
    "\n",
    "model = build_model(ẑ₁)\n",
    "optimize!(model)\n",
    "ub₁ = objective_value(model)\n",
    "\n",
    "model = build_model(ẑ₂)\n",
    "optimize!(model)\n",
    "ub₂ = objective_value(model)\n",
    "\n",
    "@show ub₁\n",
    "@show ub₂\n"
   ]
  },
  {
   "cell_type": "code",
   "execution_count": 23,
   "metadata": {},
   "outputs": [
    {
     "name": "stdout",
     "output_type": "stream",
     "text": [
      "Academic license - for non-commercial use only - expires 2023-11-26\n",
      "Academic license - for non-commercial use only - expires 2023-11-26\n",
      "ub₁₁ = 2235.257980934788\n",
      "ub₁₂ = 3321.6834582682586\n"
     ]
    },
    {
     "data": {
      "text/plain": [
       "3321.6834582682586"
      ]
     },
     "metadata": {},
     "output_type": "display_data"
    }
   ],
   "source": [
    "z₁₁, z₁₂ = split_split_zonotope(ẑ₁, nn.input_shape)\n",
    "\n",
    "ẑ₁₁ = DP.propagate(DP.LSTMSolver(), nn, z₁₁)\n",
    "ẑ₁₂ = DP.propagate(DP.LSTMSolver(), nn, z₁₂)\n",
    "\n",
    "model = build_model(ẑ₁₁)\n",
    "optimize!(model)\n",
    "ub₁₁ = objective_value(model)\n",
    "\n",
    "model = build_model(ẑ₁₂)\n",
    "optimize!(model)\n",
    "ub₁₂ = objective_value(model)\n",
    "\n",
    "@show ub₁₁\n",
    "@show ub₁₂"
   ]
  },
  {
   "cell_type": "markdown",
   "metadata": {},
   "source": [
    "**TODO**: \n",
    "- Store best intermediate bounds, s.t. splitting doesn't result in worse bounds than before!\n",
    "- integrate SplitZonos and ReLU splitting into BaB framework"
   ]
  },
  {
   "cell_type": "markdown",
   "metadata": {},
   "source": [
    "# LSTM Propagation"
   ]
  },
  {
   "cell_type": "code",
   "execution_count": 19,
   "metadata": {},
   "outputs": [
    {
     "data": {
      "text/plain": [
       "([5, 5, 3, 4], [1, 2, 1, 2], [-1.0, -2.0, -4.0, -6.0], [1.0, 2.0, 2.0, 1.0])"
      ]
     },
     "metadata": {},
     "output_type": "display_data"
    }
   ],
   "source": [
    "splits = [(5, 1, -1., 1.), (5, 2, -2., 2.), (3, 1, -4., 2.), (4, 2, -6., 1.)]\n",
    "DP.unzip(splits)"
   ]
  },
  {
   "cell_type": "code",
   "execution_count": 23,
   "metadata": {},
   "outputs": [
    {
     "data": {
      "text/plain": [
       "propagate_σ_y (generic function with 1 method)"
      ]
     },
     "metadata": {},
     "output_type": "display_data"
    }
   ],
   "source": [
    "function propagate_σ_y(sx::DP.SplitZonotope, sy::DP.SplitZonotope, name::String; n_samples=100)\n",
    "    x = sx.z\n",
    "    y = sy.z\n",
    "\n",
    "    lx, ux, ly, uy = DP.get_bounds!(sx, sy, name)\n",
    "\n",
    "    # splits should be the same in both!\n",
    "    if name in keys(sx.splits)\n",
    "        #idx1, idx2, l_split, u_split = unzip(sx.splits[name])\n",
    "        lx, ux, ly, uy, Â, b̂ = DP.get_split_bounds(sx, sy, sx.splits[name])\n",
    "    else\n",
    "        Â = sx.split_A\n",
    "        b̂ = sx.split_b\n",
    "    end\n",
    "        \n",
    "\n",
    "    relaxations = DP.get_relaxation_σ_y.(lx, ux, ly, uy, n_samples=n_samples)\n",
    "    M = reduce(hcat, [collect(r) for r in relaxations])'\n",
    "\n",
    "    ĉ = M[:,1] .* x.center .+ M[:,2] .* y.center .+ M[:,3]\n",
    "    Ĝ = M[:,1] .* x.generators .+ M[:,2] .* y.generators\n",
    "    # append new generators, need new generator for every dim as non-linear.\n",
    "    Ĝ = [Ĝ I(dim(x)) .* M[:,4]]\n",
    "\n",
    "    ẑ = Zonotope(ĉ, Ĝ)\n",
    "\n",
    "    # sx and sy should have the same splits!\n",
    "    @assert sx.splits == sy.splits\n",
    "    # sx and sy should have the same generators!\n",
    "    @assert sx.generator_map == sy.generator_map\n",
    "    # TODO: real split_A and split_b\n",
    "    sz = DP.SplitZonotope(ẑ, sx.splits, sx.bounds, copy(sx.generator_map), Â, b̂, sx.shape)\n",
    "    push!(sz.generator_map, [(name, i) for i in 1:dim(x)]...)\n",
    "    return sz\n",
    "end"
   ]
  },
  {
   "cell_type": "code",
   "execution_count": 24,
   "metadata": {},
   "outputs": [
    {
     "data": {
      "text/plain": [
       "propagate_σ_tanh (generic function with 1 method)"
      ]
     },
     "metadata": {},
     "output_type": "display_data"
    }
   ],
   "source": [
    "function propagate_σ_tanh(sx::DP.SplitZonotope, sy::DP.SplitZonotope, name::String; n_samples=100)\n",
    "    x = sx.z\n",
    "    y = sy.z\n",
    "\n",
    "    lx, ux, ly, uy = DP.get_bounds!(sx, sy, name)\n",
    "\n",
    "    # splits should be the same in both!\n",
    "    if name in keys(sx.splits)\n",
    "        #idx1, idx2, l_split, u_split = unzip(sx.splits[name])\n",
    "        lx, ux, ly, uy, Â, b̂ = DP.get_split_bounds(sx, sy, sx.splits[name])\n",
    "    else\n",
    "        Â = sx.split_A\n",
    "        b̂ = sx.split_b\n",
    "    end\n",
    "\n",
    "    relaxations = DP.get_relaxation_σ_tanh.(lx, ux, ly, uy, n_samples=n_samples)\n",
    "    M = reduce(hcat, [collect(r) for r in relaxations])'\n",
    "\n",
    "    ĉ = M[:,1] .* x.center .+ M[:,2] .* y.center .+ M[:,3]\n",
    "    Ĝ = M[:,1] .* x.generators .+ M[:,2] .* y.generators\n",
    "    # append new generators, need new generator for every dim as non-linear.\n",
    "    Ĝ = [Ĝ I(dim(x)) .* M[:,4]]\n",
    "\n",
    "    ẑ = Zonotope(ĉ, Ĝ)\n",
    "\n",
    "    # sx and sy should have the same splits!\n",
    "    @assert sx.splits == sy.splits\n",
    "    # sx and sy should have the same generators!\n",
    "    @assert sx.generator_map == sy.generator_map\n",
    "    # TODO: real split_A and split_b\n",
    "    sz = DP.SplitZonotope(ẑ, sx.splits, sx.bounds, copy(sx.generator_map), Â, b̂, sx.shape)\n",
    "    push!(sz.generator_map, [(name, i) for i in 1:dim(x)]...)\n",
    "    return sz\n",
    "end"
   ]
  },
  {
   "cell_type": "markdown",
   "metadata": {},
   "source": [
    "# LSTM Definition"
   ]
  },
  {
   "cell_type": "code",
   "execution_count": 48,
   "metadata": {},
   "outputs": [
    {
     "name": "stderr",
     "output_type": "stream",
     "text": [
      "WARNING: replacing module LayerDev.\n"
     ]
    },
    {
     "data": {
      "text/plain": [
       "Main.LayerDev"
      ]
     },
     "metadata": {},
     "output_type": "display_data"
    }
   ],
   "source": [
    "module LayerDev\n",
    "    using DPNeurifyFV, Flux\n",
    "    struct LSTMCell <: DPNeurifyFV.Node\n",
    "        inputs::AbstractVector\n",
    "        outputs::AbstractVector\n",
    "        name::String\n",
    "        linear_ih::DPNeurifyFV.Linear\n",
    "        linear_hh::DPNeurifyFV.Linear\n",
    "        state0::AbstractArray\n",
    "    end\n",
    "\n",
    "    struct LSTMLayer <: DPNeurifyFV.Node\n",
    "        cell::LSTMCell\n",
    "    end\n",
    "end"
   ]
  },
  {
   "cell_type": "code",
   "execution_count": 49,
   "metadata": {},
   "outputs": [],
   "source": [
    "function LayerDev.LSTMCell(inputs, outputs, name, Wih, Whh, b; state0=nothing)\n",
    "    hs4, n_in = size(Wih)\n",
    "    hidden_size = floor(Integer, hs4 / 4)\n",
    "\n",
    "    linear_ih = DP.Linear([], [], name * \"_linear_ih\", Wih, b)\n",
    "    linear_hh = DP.Linear([], [], name * \"_linear_hh\", Whh, zeros(hs4))\n",
    "\n",
    "    if isnothing(state0)\n",
    "        state0 = zeros(n_in)\n",
    "    end\n",
    "\n",
    "    return LayerDev.LSTMCell(inputs, outputs, name, linear_ih, linear_hh, state0)\n",
    "end"
   ]
  },
  {
   "cell_type": "code",
   "execution_count": 50,
   "metadata": {},
   "outputs": [],
   "source": [
    "function Base.getindex(z::Zonotope{N}, inds::AbstractArray{Int}) where N <: Number\n",
    "    return Zonotope(z.center[inds], z.generators[inds,:])\n",
    "end"
   ]
  },
  {
   "cell_type": "code",
   "execution_count": 25,
   "metadata": {},
   "outputs": [
    {
     "data": {
      "text/plain": [
       "DPNeurifyFV.LSTMCell(Any[], Any[], \"LSTM_1\", DPNeurifyFV.Linear(Any[], Any[], \"LSTM_1_linear_ih\", Dense(2 => 8), Dense(2 => 8), Dense(2 => 8)), DPNeurifyFV.Linear(Any[], Any[], \"LSTM_1_linear_hh\", Dense(2 => 8), Dense(2 => 8), Dense(2 => 8)), [0.0, 0.0])"
      ]
     },
     "metadata": {},
     "output_type": "display_data"
    }
   ],
   "source": [
    "Wi = randn(4*2, 2)\n",
    "Wh = randn(4*2, 2)\n",
    "b  = randn(4*2)\n",
    "lstm1 = DP.LSTMCell([], [], \"LSTM_1\", Wi, Wh, b)"
   ]
  },
  {
   "cell_type": "code",
   "execution_count": 52,
   "metadata": {},
   "outputs": [
    {
     "data": {
      "text/plain": [
       "expand_generators"
      ]
     },
     "metadata": {},
     "output_type": "display_data"
    }
   ],
   "source": [
    "\"\"\"\n",
    "Expand generators, s.t. sz₁ and sz₂ have the same set of generators.\n",
    "\"\"\"\n",
    "function expand_generators(sz₁::DP.SplitZonotope, sz₂::DP.SplitZonotope)\n",
    "    common_gens₁ = filter(!isnothing, indexin(sz₂.generator_map, sz₁.generator_map))\n",
    "    common_gens₂ = filter(!isnothing, indexin(sz₁.generator_map, sz₂.generator_map))\n",
    "    distinct₁ = setdiff(1:ngens(sz₁), common_gens₁)\n",
    "    distinct₂ = setdiff(1:ngens(sz₂), common_gens₂)\n",
    "    generator_map = [sz₁.generator_map[common_gens₁]; sz₁.generator_map[distinct₁]; sz₂.generator_map[distinct₂]]\n",
    "\n",
    "    m₁ = size(sz₁.z.center, 1)\n",
    "    m₂ = size(sz₂.z.center, 1)\n",
    "    z₁ = Zonotope(sz₁.z.center, [sz₁.z.generators[:, common_gens₁] sz₁.z.generators[:, distinct₁] zeros(m₁, length(distinct₂))])\n",
    "    z₂ = Zonotope(sz₂.z.center, [sz₂.z.generators[:, common_gens₂] zeros(m₂, length(distinct₁)) sz₂.z.generators[:, distinct₂]])\n",
    "\n",
    "    ŝz₁ = DP.SplitZonotope(z₁, sz₁.splits, sz₁.bounds, generator_map, sz₁.split_A, sz₁.split_b, sz₁.shape)\n",
    "    ŝz₂ = DP.SplitZonotope(z₂, sz₂.splits, sz₂.bounds, copy(generator_map), sz₂.split_A, sz₂.split_b, sz₂.shape)\n",
    "\n",
    "    return ŝz₁, ŝz₂\n",
    "end"
   ]
  },
  {
   "cell_type": "markdown",
   "metadata": {},
   "source": [
    "# LSTM Forward Method"
   ]
  },
  {
   "cell_type": "code",
   "execution_count": 53,
   "metadata": {},
   "outputs": [],
   "source": [
    "function DP.forward_node(solver::DP.LSTMSolver, lstm_cell::LayerDev.LSTMCell, (i, sh, sc)::Tuple{Integer, DP.SplitZonotope, DP.SplitZonotope}, sx::DP.SplitZonotope; n_samples=100)\n",
    "    hs4, input_size = size(lstm_cell.linear_ih.dense.weight)\n",
    "    hidden_size = floor(Integer, hs4 / 4)\n",
    "        \n",
    "\n",
    "    g_ih = DP.forward_node(solver, lstm_cell.linear_ih, sx)\n",
    "    g_hh = DP.forward_node(solver, lstm_cell.linear_hh, sh)\n",
    "\n",
    "    g = DP.direct_sum(g_ih, g_hh)\n",
    "\n",
    "    z = g.z\n",
    "    z_i = z[1:hidden_size]\n",
    "    z_f = z[  hidden_size+1:2*hidden_size]\n",
    "    z_c = z[2*hidden_size+1:3*hidden_size]\n",
    "    z_o = z[3*hidden_size+1:4*hidden_size]\n",
    "\n",
    "    # TODO: fix shape after indexing!!!\n",
    "    g_in = DP.SplitZonotope(z_i, g, (hidden_size, g.shape[2:end]...))\n",
    "    g_f  = DP.SplitZonotope(z_f, g, (hidden_size, g.shape[2:end]...))\n",
    "    g_c  = DP.SplitZonotope(z_c, g, (hidden_size, g.shape[2:end]...))\n",
    "    g_o  = DP.SplitZonotope(z_o, g, (hidden_size, g.shape[2:end]...))\n",
    "    \n",
    "    # i is the loop iteration of the lstm cell \n",
    "    # (lstm_name_5_σy_1, 4)  \n",
    "    # --> generator corresponding to 5th lstm unrolling \n",
    "    # --> for 1st σ(x)*y non-linearity\n",
    "    # --> for 4th neuron in that σ(x)*y layer \n",
    "    fc = propagate_σ_y(g_f, g_c, lstm_cell.name * \"_$(i)_σy_1\", n_samples=n_samples)\n",
    "    ic = propagate_σ_tanh(g_in, g_c, lstm_cell.name * \"_$(i)_σtanh_1\", n_samples=n_samples)\n",
    "    ĉ = DP.direct_sum(fc, ic)\n",
    "\n",
    "    eĉ, ĝ_o = expand_generators(ĉ, g_o)\n",
    "    ĥ = propagate_σ_tanh(ĝ_o, eĉ, lstm_cell.name * \"_$(i)_σtanh_2\", n_samples=n_samples)\n",
    "    \n",
    "    return ĥ, ĉ\n",
    "end"
   ]
  },
  {
   "cell_type": "code",
   "execution_count": 24,
   "metadata": {},
   "outputs": [
    {
     "data": {
      "text/plain": [
       "DPNeurifyFV.SplitZonotope{Float64}(Zonotope{Float64, Vector{Float64}, Matrix{Float64}}([0.0, 0.0], [0.0 0.0; 0.0 0.0]), Dict{String, Vector}(), Dict{String, Tuple{Vararg{Vector{Float64}}}}(\"input\" => ([-1.0, -1.0], [1.0, 1.0])), [(\"input\", 1), (\"input\", 2)], Matrix{Float64}(undef, 0, 0), Float64[], (2,))"
      ]
     },
     "metadata": {},
     "output_type": "display_data"
    }
   ],
   "source": [
    "z1 = Zonotope([1., 1], [1 2; 4 5.])\n",
    "z2 = Zonotope([0., 1], [2 4; 3 5.])\n",
    "sz1 = DP.SplitZonotope(Hyperrectangle(low=[-1.,-1], high=[1., 1.]), (2,))\n",
    "sz2 = DP.SplitZonotope(Hyperrectangle(low=[-1.,-1], high=[1., 1.]), (2,))\n",
    "\n",
    "sz1 = DP.SplitZonotope(z1, sz1)\n",
    "sz2 = DP.SplitZonotope(z2, sz2)\n",
    "sz0 = zero(sz1)"
   ]
  },
  {
   "cell_type": "code",
   "execution_count": 26,
   "metadata": {},
   "outputs": [
    {
     "data": {
      "text/plain": [
       "(DPNeurifyFV.SplitZonotope{Float64}(Zonotope{Float64, Vector{Float64}, Matrix{Float64}}([0.08557183358128095, 0.14890426627547343], [-0.0693628939881095 -0.09315882500844455 … 0.7566618800453657 0.0; -0.2628590055057104 -0.2516110335008834 … 0.0 0.44024063527489227]), Dict{String, Vector}(), Dict{String, Tuple{Vararg{Vector{Float64}}}}(\"LSTM_1_0_σy_1\" => ([-8.513915061950684, -1.8958889245986938], [8.092825412750244, 2.636325478553772], [-15.1947181224823, 0.5172420665621758], [12.587117910385132, 0.7433478832244873]), \"LSTM_1_0_σtanh_1\" => ([-6.153519853949547, -11.727837800979614], [3.311322033405304, 7.688101053237915], [-15.1947181224823, 0.5172420665621758], [12.587117910385132, 0.7433478832244873]), \"LSTM_1_0_σtanh_2\" => ([-11.608552813529968, 0.8638368844985962], [17.43994677066803, 4.5214197635650635], [-13.987650743688208, -1.7521613600081696], [13.788829783164195, 2.914428074602815]), \"input\" => ([-1.0, -1.0], [1.0, 1.0])), [(\"input\", 1), (\"input\", 2), (\"LSTM_1_0_σy_1\", 1), (\"LSTM_1_0_σy_1\", 2), (\"LSTM_1_0_σtanh_1\", 1), (\"LSTM_1_0_σtanh_1\", 2), (\"LSTM_1_0_σtanh_2\", 1), (\"LSTM_1_0_σtanh_2\", 2)], Matrix{Float64}(undef, 0, 0), Float64[], (2,)), DPNeurifyFV.SplitZonotope{Float64}(Zonotope{Float64, Vector{Float64}, Matrix{Float64}}([-0.09941048026200627, 0.5811333572973229], [-1.9031570947212482 -2.5334718513624934 … 1.042447569918569 0.0; -0.7028466959035795 -0.6788124484461179 … 0.0 0.4233494455190367]), Dict{String, Vector}(), Dict{String, Tuple{Vararg{Vector{Float64}}}}(\"LSTM_1_0_σy_1\" => ([-8.513915061950684, -1.8958889245986938], [8.092825412750244, 2.636325478553772], [-15.1947181224823, 0.5172420665621758], [12.587117910385132, 0.7433478832244873]), \"LSTM_1_0_σtanh_1\" => ([-6.153519853949547, -11.727837800979614], [3.311322033405304, 7.688101053237915], [-15.1947181224823, 0.5172420665621758], [12.587117910385132, 0.7433478832244873]), \"LSTM_1_0_σtanh_2\" => ([-11.608552813529968, 0.8638368844985962], [17.43994677066803, 4.5214197635650635], [-13.987650743688208, -1.7521613600081696], [13.788829783164195, 2.914428074602815]), \"input\" => ([-1.0, -1.0], [1.0, 1.0])), [(\"input\", 1), (\"input\", 2), (\"LSTM_1_0_σy_1\", 1), (\"LSTM_1_0_σy_1\", 2), (\"LSTM_1_0_σtanh_1\", 1), (\"LSTM_1_0_σtanh_1\", 2)], Matrix{Float64}(undef, 0, 0), Float64[], (2,)))"
      ]
     },
     "metadata": {},
     "output_type": "display_data"
    }
   ],
   "source": [
    "DP.forward_node(DP.LSTMSolver(), lstm1, (0, sz0, sz0), sz1)"
   ]
  },
  {
   "cell_type": "markdown",
   "metadata": {},
   "source": [
    "# LSTM Example"
   ]
  },
  {
   "cell_type": "code",
   "execution_count": 45,
   "metadata": {},
   "outputs": [
    {
     "data": {
      "text/plain": [
       "DPNeurifyFV.LSTMCell(Any[], Any[], \"LSTM_1\", DPNeurifyFV.Linear(Any[], Any[], \"LSTM_1_linear_ih\", Dense(2 => 8), Dense(2 => 8), Dense(2 => 8)), DPNeurifyFV.Linear(Any[], Any[], \"LSTM_1_linear_hh\", Dense(2 => 8), Dense(2 => 8), Dense(2 => 8)), [0.0, 0.0])"
      ]
     },
     "metadata": {},
     "output_type": "display_data"
    }
   ],
   "source": [
    "Wi = randn(4*2, 2)\n",
    "Wh = randn(4*2, 2)\n",
    "b  = randn(4*2)\n",
    "lstm1 = DP.LSTMCell([], [], \"LSTM_1\", Wi, Wh, b)"
   ]
  },
  {
   "cell_type": "code",
   "execution_count": 46,
   "metadata": {},
   "outputs": [
    {
     "data": {
      "text/plain": [
       "DPNeurifyFV.SplitZonotope{Float64}(Zonotope{Float64, Vector{Float64}, Matrix{Float64}}([0.0, 0.0, 0.0, 0.0, 0.0, 0.0, 0.0, 0.0], [1.0 0.0 … 0.0 0.0; 0.0 1.0 … 0.0 0.0; … ; 0.0 0.0 … 1.0 0.0; 0.0 0.0 … 0.0 1.0]), Dict{String, Vector}(), Dict{String, Tuple{Vararg{Vector{Float64}}}}(\"input\" => ([-1.0, -1.0, -1.0, -1.0, -1.0, -1.0, -1.0, -1.0], [1.0, 1.0, 1.0, 1.0, 1.0, 1.0, 1.0, 1.0])), [(\"input\", 1), (\"input\", 2), (\"input\", 3), (\"input\", 4), (\"input\", 5), (\"input\", 6), (\"input\", 7), (\"input\", 8)], Matrix{Float64}(undef, 0, 0), Float64[], (2, 4))"
      ]
     },
     "metadata": {},
     "output_type": "display_data"
    }
   ],
   "source": [
    "SAMPLES = 2\n",
    "TIMESTEPS = 4\n",
    "\n",
    "H = Hyperrectangle(low=-ones(SAMPLES * TIMESTEPS), high=ones(SAMPLES*TIMESTEPS))\n",
    "sz_in = DP.SplitZonotope(H, (SAMPLES, TIMESTEPS))"
   ]
  },
  {
   "cell_type": "code",
   "execution_count": 47,
   "metadata": {},
   "outputs": [],
   "source": [
    "state = (0, 0., 0.)\n",
    "for i in 1:TIMESTEPS\n",
    "    sz_lstm = DP.get_tensor_idx(sz_in, [SAMPLES, TIMESTEPS], :, i)\n",
    "    if state == (0, 0., 0.)\n",
    "        state = (i, zero(sz_lstm), zero(sz_lstm))\n",
    "    end\n",
    "    h, c = DP.forward_node(DP.LSTMSolver(), lstm1, state, sz_lstm, n_samples=10000)\n",
    "    state = (i+1, h, c)\n",
    "end"
   ]
  },
  {
   "cell_type": "code",
   "execution_count": 48,
   "metadata": {},
   "outputs": [
    {
     "data": {
      "text/plain": [
       "(5, DPNeurifyFV.SplitZonotope{Float64}(Zonotope{Float64, Vector{Float64}, Matrix{Float64}}([-0.0434933693589494, -0.02269100933049513], [0.0005165368474402613 0.0006515806669316843 … 0.7219879134685361 0.0; -0.0023357938602022155 -0.002899215719227954 … 0.0 0.9986336790989548]), Dict{String, Vector}(), Dict{String, Tuple{Vararg{Vector{Float64}}}}(\"LSTM_1_2_σtanh_1\" => ([-1.343153275243656, -5.749983388059332], [2.5495740746966615, 5.509273229224404], [-4.31760367960763, -2.692459624633634], [1.2166233406193465, 5.532030950165587]), \"LSTM_1_1_σy_1\" => ([-3.788091719150543, -0.9207386672496796], [-0.5843958258628845, 2.506047934293747], [-3.162285327911377, -0.1359035074710846], [0.22387456893920898, 2.5040198862552643]), \"LSTM_1_3_σtanh_2\" => ([-3.6647199820987786, -4.165475224768556], [2.878042084361408, 7.1548909121228865], [-6.259006098757195, -7.8844132301976435], [3.44204343967498, 8.689585972604252]), \"LSTM_1_3_σtanh_1\" => ([-1.7667671045010642, -7.174002081091114], [3.042144518552443, 6.626035921466773], [-4.8451219111370465, -4.474142518949545], [1.8459106432562649, 6.957165127314351]), \"LSTM_1_4_σtanh_1\" => ([-1.8430682778708176, -7.161749144474366], [3.0993251993169437, 6.475572381300785], [-4.800599848557417, -4.478543301163239], [1.86456624870424, 6.7869192460401395]), \"LSTM_1_2_σy_1\" => ([-6.604347552078908, -2.4307828236577693], [2.7973299172665596, 4.335833226514858], [-4.31760367960763, -2.692459624633634], [1.2166233406193465, 5.532030950165587]), \"input\" => ([-1.0, -1.0, -1.0, -1.0, -1.0, -1.0, -1.0, -1.0], [1.0, 1.0, 1.0, 1.0, 1.0, 1.0, 1.0, 1.0]), \"LSTM_1_1_σtanh_1\" => ([-0.5699039399623871, -3.7894338071346283], [1.756368488073349, 3.1682707369327545], [-3.162285327911377, -0.1359035074710846], [0.22387456893920898, 2.5040198862552643]), \"LSTM_1_1_σtanh_2\" => ([-2.5051059126853943, -0.7006028294563293], [1.8078084588050842, 3.8136211037635803], [-2.006647492497098, -1.3859533817015683], [1.1319110489944064, 3.088553354691735]), \"LSTM_1_4_σtanh_2\" => ([-3.7210058007222524, -4.072002324121906], [2.9600592054942427, 7.1917544158746765], [-6.176840820147376, -7.760300282375296], [3.3791214518973898, 8.358267089072536])…), [(\"input\", 1), (\"input\", 2), (\"input\", 3), (\"input\", 4), (\"input\", 5), (\"input\", 6), (\"input\", 7), (\"input\", 8), (\"LSTM_1_1_σy_1\", 1), (\"LSTM_1_1_σy_1\", 2)  …  (\"LSTM_1_3_σtanh_1\", 1), (\"LSTM_1_3_σtanh_1\", 2), (\"LSTM_1_3_σtanh_2\", 1), (\"LSTM_1_3_σtanh_2\", 2), (\"LSTM_1_4_σy_1\", 1), (\"LSTM_1_4_σy_1\", 2), (\"LSTM_1_4_σtanh_1\", 1), (\"LSTM_1_4_σtanh_1\", 2), (\"LSTM_1_4_σtanh_2\", 1), (\"LSTM_1_4_σtanh_2\", 2)], Matrix{Float64}(undef, 0, 0), Float64[], (2,)), DPNeurifyFV.SplitZonotope{Float64}(Zonotope{Float64, Vector{Float64}, Matrix{Float64}}([-1.3988596841249934, 0.29898340334861984], [0.005003491394031135 0.006164697263594332 … 0.6009698704987533 0.0; -0.017995666192261752 -0.022341176606752125 … 0.0 0.7126541816823684]), Dict{String, Vector}(), Dict{String, Tuple{Vararg{Vector{Float64}}}}(\"LSTM_1_2_σtanh_1\" => ([-1.343153275243656, -5.749983388059332], [2.5495740746966615, 5.509273229224404], [-4.31760367960763, -2.692459624633634], [1.2166233406193465, 5.532030950165587]), \"LSTM_1_1_σy_1\" => ([-3.788091719150543, -0.9207386672496796], [-0.5843958258628845, 2.506047934293747], [-3.162285327911377, -0.1359035074710846], [0.22387456893920898, 2.5040198862552643]), \"LSTM_1_3_σtanh_2\" => ([-3.6647199820987786, -4.165475224768556], [2.878042084361408, 7.1548909121228865], [-6.259006098757195, -7.8844132301976435], [3.44204343967498, 8.689585972604252]), \"LSTM_1_3_σtanh_1\" => ([-1.7667671045010642, -7.174002081091114], [3.042144518552443, 6.626035921466773], [-4.8451219111370465, -4.474142518949545], [1.8459106432562649, 6.957165127314351]), \"LSTM_1_4_σtanh_1\" => ([-1.8430682778708176, -7.161749144474366], [3.0993251993169437, 6.475572381300785], [-4.800599848557417, -4.478543301163239], [1.86456624870424, 6.7869192460401395]), \"LSTM_1_2_σy_1\" => ([-6.604347552078908, -2.4307828236577693], [2.7973299172665596, 4.335833226514858], [-4.31760367960763, -2.692459624633634], [1.2166233406193465, 5.532030950165587]), \"input\" => ([-1.0, -1.0, -1.0, -1.0, -1.0, -1.0, -1.0, -1.0], [1.0, 1.0, 1.0, 1.0, 1.0, 1.0, 1.0, 1.0]), \"LSTM_1_1_σtanh_1\" => ([-0.5699039399623871, -3.7894338071346283], [1.756368488073349, 3.1682707369327545], [-3.162285327911377, -0.1359035074710846], [0.22387456893920898, 2.5040198862552643]), \"LSTM_1_1_σtanh_2\" => ([-2.5051059126853943, -0.7006028294563293], [1.8078084588050842, 3.8136211037635803], [-2.006647492497098, -1.3859533817015683], [1.1319110489944064, 3.088553354691735]), \"LSTM_1_4_σtanh_2\" => ([-3.7210058007222524, -4.072002324121906], [2.9600592054942427, 7.1917544158746765], [-6.176840820147376, -7.760300282375296], [3.3791214518973898, 8.358267089072536])…), [(\"input\", 1), (\"input\", 2), (\"input\", 3), (\"input\", 4), (\"input\", 5), (\"input\", 6), (\"input\", 7), (\"input\", 8), (\"LSTM_1_1_σy_1\", 1), (\"LSTM_1_1_σy_1\", 2)  …  (\"LSTM_1_3_σy_1\", 1), (\"LSTM_1_3_σy_1\", 2), (\"LSTM_1_3_σtanh_1\", 1), (\"LSTM_1_3_σtanh_1\", 2), (\"LSTM_1_3_σtanh_2\", 1), (\"LSTM_1_3_σtanh_2\", 2), (\"LSTM_1_4_σy_1\", 1), (\"LSTM_1_4_σy_1\", 2), (\"LSTM_1_4_σtanh_1\", 1), (\"LSTM_1_4_σtanh_1\", 2)], Matrix{Float64}(undef, 0, 0), Float64[], (2,)))"
      ]
     },
     "metadata": {},
     "output_type": "display_data"
    }
   ],
   "source": [
    "_, ĥ, ĉ = state"
   ]
  },
  {
   "cell_type": "code",
   "execution_count": 49,
   "metadata": {},
   "outputs": [
    {
     "name": "stdout",
     "output_type": "stream",
     "text": [
      "low(ĥ.z) = [-1.2800904110590625, -2.0412190519561557]\n",
      "high(ĥ.z) = [1.1931036723411637, 1.9958370332951652]\n"
     ]
    }
   ],
   "source": [
    "@show low(ĥ.z)\n",
    "@show high(ĥ.z);"
   ]
  },
  {
   "cell_type": "code",
   "execution_count": 50,
   "metadata": {},
   "outputs": [
    {
     "data": {
      "text/plain": [
       "2×32 Matrix{Float64}:\n",
       "  0.000516537   0.000651581   0.000345142  …  0.0        0.721988  0.0\n",
       " -0.00233579   -0.00289922   -0.00137748      0.0897875  0.0       0.998634"
      ]
     },
     "metadata": {},
     "output_type": "display_data"
    }
   ],
   "source": [
    "ĥ.z.generators"
   ]
  },
  {
   "cell_type": "markdown",
   "metadata": {},
   "source": [
    "## Split LSTM"
   ]
  },
  {
   "cell_type": "code",
   "execution_count": 51,
   "metadata": {},
   "outputs": [
    {
     "data": {
      "text/plain": [
       "4-element Vector{DPNeurifyFV.SplitZonotope{Float64}}:\n",
       " DPNeurifyFV.SplitZonotope{Float64}(Zonotope{Float64, Vector{Float64}, Matrix{Float64}}([0.0, 0.0, 0.0, 0.0, 0.0, 0.0, 0.0, 0.0], [1.0 0.0 … 0.0 0.0; 0.0 1.0 … 0.0 0.0; … ; 0.0 0.0 … 1.0 0.0; 0.0 0.0 … 0.0 1.0]), Dict{String, Vector}(\"LSTM_1_4_σtanh_2\" => [(2, -4.072002324121906, 1.5598760458763854, -7.760300282375296, 0.29898340334862006)]), Dict{String, Tuple{Vararg{Vector{Float64}}}}(\"LSTM_1_2_σtanh_1\" => ([-1.343153275243656, -5.749983388059332], [2.5495740746966615, 5.509273229224404], [-4.31760367960763, -2.692459624633634], [1.2166233406193465, 5.532030950165587]), \"LSTM_1_1_σy_1\" => ([-3.788091719150543, -0.9207386672496796], [-0.5843958258628845, 2.506047934293747], [-3.162285327911377, -0.1359035074710846], [0.22387456893920898, 2.5040198862552643]), \"LSTM_1_3_σtanh_2\" => ([-3.6647199820987786, -4.165475224768556], [2.878042084361408, 7.1548909121228865], [-6.259006098757195, -7.8844132301976435], [3.44204343967498, 8.689585972604252]), \"LSTM_1_3_σtanh_1\" => ([-1.7667671045010642, -7.174002081091114], [3.042144518552443, 6.626035921466773], [-4.8451219111370465, -4.474142518949545], [1.8459106432562649, 6.957165127314351]), \"LSTM_1_4_σtanh_1\" => ([-1.8430682778708176, -7.161749144474366], [3.0993251993169437, 6.475572381300785], [-4.800599848557417, -4.478543301163239], [1.86456624870424, 6.7869192460401395]), \"LSTM_1_2_σy_1\" => ([-6.604347552078908, -2.4307828236577693], [2.7973299172665596, 4.335833226514858], [-4.31760367960763, -2.692459624633634], [1.2166233406193465, 5.532030950165587]), \"input\" => ([-1.0, -1.0, -1.0, -1.0, -1.0, -1.0, -1.0, -1.0], [1.0, 1.0, 1.0, 1.0, 1.0, 1.0, 1.0, 1.0]), \"LSTM_1_1_σtanh_1\" => ([-0.5699039399623871, -3.7894338071346283], [1.756368488073349, 3.1682707369327545], [-3.162285327911377, -0.1359035074710846], [0.22387456893920898, 2.5040198862552643]), \"LSTM_1_1_σtanh_2\" => ([-2.5051059126853943, -0.7006028294563293], [1.8078084588050842, 3.8136211037635803], [-2.006647492497098, -1.3859533817015683], [1.1319110489944064, 3.088553354691735]), \"LSTM_1_4_σtanh_2\" => ([-3.7210058007222524, -4.072002324121906], [2.9600592054942427, 7.1917544158746765], [-6.176840820147376, -7.760300282375296], [3.3791214518973898, 8.358267089072536])…), [(\"input\", 1), (\"input\", 2), (\"input\", 3), (\"input\", 4), (\"input\", 5), (\"input\", 6), (\"input\", 7), (\"input\", 8)], Matrix{Float64}(undef, 0, 0), Float64[], (2, 4))\n",
       " DPNeurifyFV.SplitZonotope{Float64}(Zonotope{Float64, Vector{Float64}, Matrix{Float64}}([0.0, 0.0, 0.0, 0.0, 0.0, 0.0, 0.0, 0.0], [1.0 0.0 … 0.0 0.0; 0.0 1.0 … 0.0 0.0; … ; 0.0 0.0 … 1.0 0.0; 0.0 0.0 … 0.0 1.0]), Dict{String, Vector}(\"LSTM_1_4_σtanh_2\" => [(2, -4.072002324121906, 1.5598760458763854, 0.29898340334862006, 8.358267089072536)]), Dict{String, Tuple{Vararg{Vector{Float64}}}}(\"LSTM_1_2_σtanh_1\" => ([-1.343153275243656, -5.749983388059332], [2.5495740746966615, 5.509273229224404], [-4.31760367960763, -2.692459624633634], [1.2166233406193465, 5.532030950165587]), \"LSTM_1_1_σy_1\" => ([-3.788091719150543, -0.9207386672496796], [-0.5843958258628845, 2.506047934293747], [-3.162285327911377, -0.1359035074710846], [0.22387456893920898, 2.5040198862552643]), \"LSTM_1_3_σtanh_2\" => ([-3.6647199820987786, -4.165475224768556], [2.878042084361408, 7.1548909121228865], [-6.259006098757195, -7.8844132301976435], [3.44204343967498, 8.689585972604252]), \"LSTM_1_3_σtanh_1\" => ([-1.7667671045010642, -7.174002081091114], [3.042144518552443, 6.626035921466773], [-4.8451219111370465, -4.474142518949545], [1.8459106432562649, 6.957165127314351]), \"LSTM_1_4_σtanh_1\" => ([-1.8430682778708176, -7.161749144474366], [3.0993251993169437, 6.475572381300785], [-4.800599848557417, -4.478543301163239], [1.86456624870424, 6.7869192460401395]), \"LSTM_1_2_σy_1\" => ([-6.604347552078908, -2.4307828236577693], [2.7973299172665596, 4.335833226514858], [-4.31760367960763, -2.692459624633634], [1.2166233406193465, 5.532030950165587]), \"input\" => ([-1.0, -1.0, -1.0, -1.0, -1.0, -1.0, -1.0, -1.0], [1.0, 1.0, 1.0, 1.0, 1.0, 1.0, 1.0, 1.0]), \"LSTM_1_1_σtanh_1\" => ([-0.5699039399623871, -3.7894338071346283], [1.756368488073349, 3.1682707369327545], [-3.162285327911377, -0.1359035074710846], [0.22387456893920898, 2.5040198862552643]), \"LSTM_1_1_σtanh_2\" => ([-2.5051059126853943, -0.7006028294563293], [1.8078084588050842, 3.8136211037635803], [-2.006647492497098, -1.3859533817015683], [1.1319110489944064, 3.088553354691735]), \"LSTM_1_4_σtanh_2\" => ([-3.7210058007222524, -4.072002324121906], [2.9600592054942427, 7.1917544158746765], [-6.176840820147376, -7.760300282375296], [3.3791214518973898, 8.358267089072536])…), [(\"input\", 1), (\"input\", 2), (\"input\", 3), (\"input\", 4), (\"input\", 5), (\"input\", 6), (\"input\", 7), (\"input\", 8)], Matrix{Float64}(undef, 0, 0), Float64[], (2, 4))\n",
       " DPNeurifyFV.SplitZonotope{Float64}(Zonotope{Float64, Vector{Float64}, Matrix{Float64}}([0.0, 0.0, 0.0, 0.0, 0.0, 0.0, 0.0, 0.0], [1.0 0.0 … 0.0 0.0; 0.0 1.0 … 0.0 0.0; … ; 0.0 0.0 … 1.0 0.0; 0.0 0.0 … 0.0 1.0]), Dict{String, Vector}(\"LSTM_1_4_σtanh_2\" => [(2, 1.5598760458763854, 7.1917544158746765, -7.760300282375296, 0.29898340334862006)]), Dict{String, Tuple{Vararg{Vector{Float64}}}}(\"LSTM_1_2_σtanh_1\" => ([-1.343153275243656, -5.749983388059332], [2.5495740746966615, 5.509273229224404], [-4.31760367960763, -2.692459624633634], [1.2166233406193465, 5.532030950165587]), \"LSTM_1_1_σy_1\" => ([-3.788091719150543, -0.9207386672496796], [-0.5843958258628845, 2.506047934293747], [-3.162285327911377, -0.1359035074710846], [0.22387456893920898, 2.5040198862552643]), \"LSTM_1_3_σtanh_2\" => ([-3.6647199820987786, -4.165475224768556], [2.878042084361408, 7.1548909121228865], [-6.259006098757195, -7.8844132301976435], [3.44204343967498, 8.689585972604252]), \"LSTM_1_3_σtanh_1\" => ([-1.7667671045010642, -7.174002081091114], [3.042144518552443, 6.626035921466773], [-4.8451219111370465, -4.474142518949545], [1.8459106432562649, 6.957165127314351]), \"LSTM_1_4_σtanh_1\" => ([-1.8430682778708176, -7.161749144474366], [3.0993251993169437, 6.475572381300785], [-4.800599848557417, -4.478543301163239], [1.86456624870424, 6.7869192460401395]), \"LSTM_1_2_σy_1\" => ([-6.604347552078908, -2.4307828236577693], [2.7973299172665596, 4.335833226514858], [-4.31760367960763, -2.692459624633634], [1.2166233406193465, 5.532030950165587]), \"input\" => ([-1.0, -1.0, -1.0, -1.0, -1.0, -1.0, -1.0, -1.0], [1.0, 1.0, 1.0, 1.0, 1.0, 1.0, 1.0, 1.0]), \"LSTM_1_1_σtanh_1\" => ([-0.5699039399623871, -3.7894338071346283], [1.756368488073349, 3.1682707369327545], [-3.162285327911377, -0.1359035074710846], [0.22387456893920898, 2.5040198862552643]), \"LSTM_1_1_σtanh_2\" => ([-2.5051059126853943, -0.7006028294563293], [1.8078084588050842, 3.8136211037635803], [-2.006647492497098, -1.3859533817015683], [1.1319110489944064, 3.088553354691735]), \"LSTM_1_4_σtanh_2\" => ([-3.7210058007222524, -4.072002324121906], [2.9600592054942427, 7.1917544158746765], [-6.176840820147376, -7.760300282375296], [3.3791214518973898, 8.358267089072536])…), [(\"input\", 1), (\"input\", 2), (\"input\", 3), (\"input\", 4), (\"input\", 5), (\"input\", 6), (\"input\", 7), (\"input\", 8)], Matrix{Float64}(undef, 0, 0), Float64[], (2, 4))\n",
       " DPNeurifyFV.SplitZonotope{Float64}(Zonotope{Float64, Vector{Float64}, Matrix{Float64}}([0.0, 0.0, 0.0, 0.0, 0.0, 0.0, 0.0, 0.0], [1.0 0.0 … 0.0 0.0; 0.0 1.0 … 0.0 0.0; … ; 0.0 0.0 … 1.0 0.0; 0.0 0.0 … 0.0 1.0]), Dict{String, Vector}(\"LSTM_1_4_σtanh_2\" => [(2, 1.5598760458763854, 7.1917544158746765, 0.29898340334862006, 8.358267089072536)]), Dict{String, Tuple{Vararg{Vector{Float64}}}}(\"LSTM_1_2_σtanh_1\" => ([-1.343153275243656, -5.749983388059332], [2.5495740746966615, 5.509273229224404], [-4.31760367960763, -2.692459624633634], [1.2166233406193465, 5.532030950165587]), \"LSTM_1_1_σy_1\" => ([-3.788091719150543, -0.9207386672496796], [-0.5843958258628845, 2.506047934293747], [-3.162285327911377, -0.1359035074710846], [0.22387456893920898, 2.5040198862552643]), \"LSTM_1_3_σtanh_2\" => ([-3.6647199820987786, -4.165475224768556], [2.878042084361408, 7.1548909121228865], [-6.259006098757195, -7.8844132301976435], [3.44204343967498, 8.689585972604252]), \"LSTM_1_3_σtanh_1\" => ([-1.7667671045010642, -7.174002081091114], [3.042144518552443, 6.626035921466773], [-4.8451219111370465, -4.474142518949545], [1.8459106432562649, 6.957165127314351]), \"LSTM_1_4_σtanh_1\" => ([-1.8430682778708176, -7.161749144474366], [3.0993251993169437, 6.475572381300785], [-4.800599848557417, -4.478543301163239], [1.86456624870424, 6.7869192460401395]), \"LSTM_1_2_σy_1\" => ([-6.604347552078908, -2.4307828236577693], [2.7973299172665596, 4.335833226514858], [-4.31760367960763, -2.692459624633634], [1.2166233406193465, 5.532030950165587]), \"input\" => ([-1.0, -1.0, -1.0, -1.0, -1.0, -1.0, -1.0, -1.0], [1.0, 1.0, 1.0, 1.0, 1.0, 1.0, 1.0, 1.0]), \"LSTM_1_1_σtanh_1\" => ([-0.5699039399623871, -3.7894338071346283], [1.756368488073349, 3.1682707369327545], [-3.162285327911377, -0.1359035074710846], [0.22387456893920898, 2.5040198862552643]), \"LSTM_1_1_σtanh_2\" => ([-2.5051059126853943, -0.7006028294563293], [1.8078084588050842, 3.8136211037635803], [-2.006647492497098, -1.3859533817015683], [1.1319110489944064, 3.088553354691735]), \"LSTM_1_4_σtanh_2\" => ([-3.7210058007222524, -4.072002324121906], [2.9600592054942427, 7.1917544158746765], [-6.176840820147376, -7.760300282375296], [3.3791214518973898, 8.358267089072536])…), [(\"input\", 1), (\"input\", 2), (\"input\", 3), (\"input\", 4), (\"input\", 5), (\"input\", 6), (\"input\", 7), (\"input\", 8)], Matrix{Float64}(undef, 0, 0), Float64[], (2, 4))"
      ]
     },
     "metadata": {},
     "output_type": "display_data"
    }
   ],
   "source": [
    "zs = split_split_zonotope(ĥ, (SAMPLES, TIMESTEPS))"
   ]
  },
  {
   "cell_type": "code",
   "execution_count": 52,
   "metadata": {},
   "outputs": [],
   "source": [
    "state = (0, 0., 0.)\n",
    "for i in 1:TIMESTEPS\n",
    "    sz_lstm = DP.get_tensor_idx(zs[1], [SAMPLES, TIMESTEPS], :, i)\n",
    "    if state == (0, 0., 0.)\n",
    "        state = (i, zero(sz_lstm), zero(sz_lstm))\n",
    "    end\n",
    "    h, c = DP.forward_node(DP.LSTMSolver(), lstm1, state, sz_lstm, n_samples=10000)\n",
    "    state = (i+1, h, c)\n",
    "end"
   ]
  },
  {
   "cell_type": "code",
   "execution_count": 53,
   "metadata": {},
   "outputs": [
    {
     "data": {
      "text/plain": [
       "(2, 4)"
      ]
     },
     "metadata": {},
     "output_type": "display_data"
    }
   ],
   "source": [
    "zs[1].shape"
   ]
  },
  {
   "cell_type": "code",
   "execution_count": 54,
   "metadata": {},
   "outputs": [
    {
     "data": {
      "text/plain": [
       "DPNeurifyFV.SplitZonotope{Float64}(Zonotope{Float64, Vector{Float64}, Matrix{Float64}}([0.0, 0.0], [1.0 0.0 … 0.0 0.0; 0.0 1.0 … 0.0 0.0]), Dict{String, Vector}(\"LSTM_1_4_σtanh_2\" => [(2, -4.072002324121906, 1.5598760458763854, -7.760300282375296, 0.29898340334862006)]), Dict{String, Tuple{Vararg{Vector{Float64}}}}(\"LSTM_1_2_σtanh_1\" => ([-1.3325236170234733, -5.733456973034185], [2.542351512392321, 5.50213619588925], [-4.311044947009817, -2.668274592572673], [1.2050410240611866, 5.520310303263119]), \"LSTM_1_1_σy_1\" => ([-3.788091719150543, -0.9207386672496796], [-0.5843958258628845, 2.506047934293747], [-3.162285327911377, -0.1359035074710846], [0.22387456893920898, 2.5040198862552643]), \"LSTM_1_3_σtanh_2\" => ([-3.653729446804342, -4.069073980927971], [2.878042084361408, 7.103136008584771], [-6.188460931387418, -7.720614364223125], [3.393654062252907, 8.44844963558243]), \"LSTM_1_3_σtanh_1\" => ([-1.7667671045010642, -7.116369225078735], [3.0294521248018222, 6.52634568232374], [-4.7983547065552346, -4.40238154774328], [1.8208657693998305, 6.830212092943016]), \"LSTM_1_4_σtanh_1\" => ([-1.8322175304513377, -7.156928105180702], [3.0993251993169437, 6.433128582183851], [-4.789001624311333, -4.472454358675945], [1.8623662206494103, 6.739682762854882]), \"LSTM_1_2_σy_1\" => ([-6.587688702027132, -2.420908132427665], [2.7918730330621804, 4.332951350435962], [-4.311044947009817, -2.668274592572673], [1.2050410240611866, 5.520310303263119]), \"input\" => ([-1.0, -1.0, -1.0, -1.0, -1.0, -1.0, -1.0, -1.0], [1.0, 1.0, 1.0, 1.0, 1.0, 1.0, 1.0, 1.0]), \"LSTM_1_1_σtanh_1\" => ([-0.5699039399623871, -3.7894338071346283], [1.756368488073349, 3.1682707369327545], [-3.162285327911377, -0.1359035074710846], [0.22387456893920898, 2.5040198862552643]), \"LSTM_1_1_σtanh_2\" => ([-2.5051059126853943, -0.7006028294563293], [1.8078084588050842, 3.8136211037635803], [-2.004825535971276, -1.3771971565139658], [1.1319110489944064, 3.0645201359857523]), \"LSTM_1_4_σtanh_2\" => ([-3.7210058007222524, -4.047552821859147], [2.9515702759453046, 7.187215478248154], [-6.157607047001431, -7.6103420865901015], [3.3074847895476407, 8.241180708520949])…), [(\"input\", 1), (\"input\", 2), (\"input\", 3), (\"input\", 4), (\"input\", 5), (\"input\", 6), (\"input\", 7), (\"input\", 8)], Matrix{Float64}(undef, 0, 0), Float64[], (2,))"
      ]
     },
     "metadata": {},
     "output_type": "display_data"
    }
   ],
   "source": [
    "DP.get_tensor_idx(zs[1], zs[1].shape, :, 1)"
   ]
  },
  {
   "cell_type": "code",
   "execution_count": 82,
   "metadata": {},
   "outputs": [],
   "source": [
    "function DP.forward_node(solver::DP.LSTMSolver, lstm_layer::LayerDev.LSTMLayer, sx::DP.SplitZonotope; n_samples=100)\n",
    "    cell = lstm_layer.cell\n",
    "    # counter for unrolling and initial state\n",
    "    state = (0, cell.state0...)\n",
    "\n",
    "    # last dimension is length of the sequence\n",
    "    timesteps = sx.shape[end]\n",
    "    for i in 1:timesteps\n",
    "        sz_lstm = DP.get_tensor_idx(sx, sx.shape, :, i)\n",
    "        if state == (0, 0., 0.)\n",
    "            # need to generate SplitZono zeros for calculation\n",
    "            state = (0, zero(sz_lstm), zero(sz_lstm))\n",
    "        end\n",
    "\n",
    "        h, c = DP.forward_node(solver, cell, state, sz_lstm, n_samples=n_samples)\n",
    "        state = (i+1, h, c)\n",
    "    end\n",
    "\n",
    "    n_steps, h, c = state\n",
    "    return h, c \n",
    "end"
   ]
  },
  {
   "cell_type": "code",
   "execution_count": 55,
   "metadata": {},
   "outputs": [
    {
     "data": {
      "text/plain": [
       "(DPNeurifyFV.SplitZonotope{Float64}(Zonotope{Float64, Vector{Float64}, Matrix{Float64}}([-0.045793221844228946, -0.04626141618356333], [0.0005318576222243083 0.0006809085492538514 … 0.720210795440288 0.0; -0.0008800882378956938 -0.0011260084865429023 … 0.0 0.6635856610528629]), Dict{String, Vector}(\"LSTM_1_4_σtanh_2\" => [(2, -4.072002324121906, 1.5598760458763854, 0.29898340334862006, 8.358267089072536)]), Dict{String, Tuple{Vararg{Vector{Float64}}}}(\"LSTM_1_2_σtanh_1\" => ([-1.3423663727757473, -5.734505460281444], [2.5416255846575413, 5.508778581185528], [-4.314936513727348, -2.6735272203123728], [1.2103117711231701, 5.529404883061082]), \"LSTM_1_1_σy_1\" => ([-3.788091719150543, -0.9207386672496796], [-0.5843958258628845, 2.506047934293747], [-3.162285327911377, -0.1359035074710846], [0.22387456893920898, 2.5040198862552643]), \"LSTM_1_0_σy_1\" => ([-3.788091719150543, -0.9207386672496796], [-0.5843958258628845, 2.506047934293747], [-3.162285327911377, -0.1359035074710846], [0.22387456893920898, 2.5040198862552643]), \"LSTM_1_0_σtanh_1\" => ([-0.5699039399623871, -3.7894338071346283], [1.756368488073349, 3.1682707369327545], [-3.162285327911377, -0.1359035074710846], [0.22387456893920898, 2.5040198862552643]), \"LSTM_1_3_σtanh_2\" => ([-3.6405070293682966, -4.075927017920049], [2.8650417361519773, 7.113196470295073], [-6.196639515311849, -7.656257748927132], [3.3899203918565832, 8.35699330343455]), \"LSTM_1_3_σtanh_1\" => ([-1.7502212673928517, -7.130862005444982], [3.0166556653872343, 6.53372320309937], [-4.801674870715352, -4.419213886499499], [1.8256837429820552, 6.839491749420633]), \"LSTM_1_0_σtanh_2\" => ([-2.5051059126853943, -0.7006028294563293], [1.8078084588050842, 3.8136211037635803], [-1.9978972850965062, -1.3671055885783083], [1.1242796106692972, 3.0626607432788786]), \"LSTM_1_4_σtanh_1\" => ([-1.832984620297096, -7.124726627517834], [3.0835559421344145, 6.454338197035753], [-4.788794697848522, -4.432278967417707], [1.8482751323775417, 6.758366731788248]), \"LSTM_1_2_σy_1\" => ([-6.5775222527497395, -2.4175064256673906], [2.7973299172665596, 4.335833226514858], [-4.314936513727348, -2.6735272203123728], [1.2103117711231701, 5.529404883061082]), \"input\" => ([-1.0, -1.0, -1.0, -1.0, -1.0, -1.0, -1.0, -1.0], [1.0, 1.0, 1.0, 1.0, 1.0, 1.0, 1.0, 1.0])…), [(\"input\", 1), (\"input\", 2), (\"input\", 3), (\"input\", 4), (\"input\", 5), (\"input\", 6), (\"input\", 7), (\"input\", 8), (\"LSTM_1_0_σy_1\", 1), (\"LSTM_1_0_σy_1\", 2)  …  (\"LSTM_1_3_σtanh_1\", 1), (\"LSTM_1_3_σtanh_1\", 2), (\"LSTM_1_3_σtanh_2\", 1), (\"LSTM_1_3_σtanh_2\", 2), (\"LSTM_1_4_σy_1\", 1), (\"LSTM_1_4_σy_1\", 2), (\"LSTM_1_4_σtanh_1\", 1), (\"LSTM_1_4_σtanh_1\", 2), (\"LSTM_1_4_σtanh_2\", 1), (\"LSTM_1_4_σtanh_2\", 2)], [0.016835546857804418 0.021061704785224445 … 0.0 0.0; 0.017792241307958798 0.022422958293626366 … -0.0 -0.6886914872456187], [1.5598760458763854, -0.29898340334862006], (2,)), DPNeurifyFV.SplitZonotope{Float64}(Zonotope{Float64, Vector{Float64}, Matrix{Float64}}([-1.3853455500556533, 0.3317497133716453], [0.005122187873462399 0.006410873132615284 … 0.6150957056019822 0.0; -0.017792241307958798 -0.022422958293626366 … 0.0 0.6886914872456187]), Dict{String, Vector}(\"LSTM_1_4_σtanh_2\" => [(2, -4.072002324121906, 1.5598760458763854, 0.29898340334862006, 8.358267089072536)]), Dict{String, Tuple{Vararg{Vector{Float64}}}}(\"LSTM_1_2_σtanh_1\" => ([-1.3423663727757473, -5.734505460281444], [2.5416255846575413, 5.508778581185528], [-4.314936513727348, -2.6735272203123728], [1.2103117711231701, 5.529404883061082]), \"LSTM_1_1_σy_1\" => ([-3.788091719150543, -0.9207386672496796], [-0.5843958258628845, 2.506047934293747], [-3.162285327911377, -0.1359035074710846], [0.22387456893920898, 2.5040198862552643]), \"LSTM_1_0_σy_1\" => ([-3.788091719150543, -0.9207386672496796], [-0.5843958258628845, 2.506047934293747], [-3.162285327911377, -0.1359035074710846], [0.22387456893920898, 2.5040198862552643]), \"LSTM_1_0_σtanh_1\" => ([-0.5699039399623871, -3.7894338071346283], [1.756368488073349, 3.1682707369327545], [-3.162285327911377, -0.1359035074710846], [0.22387456893920898, 2.5040198862552643]), \"LSTM_1_3_σtanh_2\" => ([-3.6405070293682966, -4.075927017920049], [2.8650417361519773, 7.113196470295073], [-6.196639515311849, -7.656257748927132], [3.3899203918565832, 8.35699330343455]), \"LSTM_1_3_σtanh_1\" => ([-1.7502212673928517, -7.130862005444982], [3.0166556653872343, 6.53372320309937], [-4.801674870715352, -4.419213886499499], [1.8256837429820552, 6.839491749420633]), \"LSTM_1_0_σtanh_2\" => ([-2.5051059126853943, -0.7006028294563293], [1.8078084588050842, 3.8136211037635803], [-1.9978972850965062, -1.3671055885783083], [1.1242796106692972, 3.0626607432788786]), \"LSTM_1_4_σtanh_1\" => ([-1.832984620297096, -7.124726627517834], [3.0835559421344145, 6.454338197035753], [-4.788794697848522, -4.432278967417707], [1.8482751323775417, 6.758366731788248]), \"LSTM_1_2_σy_1\" => ([-6.5775222527497395, -2.4175064256673906], [2.7973299172665596, 4.335833226514858], [-4.314936513727348, -2.6735272203123728], [1.2103117711231701, 5.529404883061082]), \"input\" => ([-1.0, -1.0, -1.0, -1.0, -1.0, -1.0, -1.0, -1.0], [1.0, 1.0, 1.0, 1.0, 1.0, 1.0, 1.0, 1.0])…), [(\"input\", 1), (\"input\", 2), (\"input\", 3), (\"input\", 4), (\"input\", 5), (\"input\", 6), (\"input\", 7), (\"input\", 8), (\"LSTM_1_0_σy_1\", 1), (\"LSTM_1_0_σy_1\", 2)  …  (\"LSTM_1_3_σy_1\", 1), (\"LSTM_1_3_σy_1\", 2), (\"LSTM_1_3_σtanh_1\", 1), (\"LSTM_1_3_σtanh_1\", 2), (\"LSTM_1_3_σtanh_2\", 1), (\"LSTM_1_3_σtanh_2\", 2), (\"LSTM_1_4_σy_1\", 1), (\"LSTM_1_4_σy_1\", 2), (\"LSTM_1_4_σtanh_1\", 1), (\"LSTM_1_4_σtanh_1\", 2)], Matrix{Float64}(undef, 0, 0), Float64[], (2,)))"
      ]
     },
     "metadata": {},
     "output_type": "display_data"
    }
   ],
   "source": [
    "lstm_layer = DP.LSTMLayer(lstm1)\n",
    "DP.forward_node(DP.LSTMSolver(), lstm_layer, zs[2], n_samples=10000)"
   ]
  },
  {
   "cell_type": "code",
   "execution_count": 56,
   "metadata": {},
   "outputs": [
    {
     "data": {
      "text/plain": [
       "(5, DPNeurifyFV.SplitZonotope{Float64}(Zonotope{Float64, Vector{Float64}, Matrix{Float64}}([-0.024004318637753874, -0.16654653100117744], [0.0004931225886652418 0.0006352479398495084 … 0.7232155295620437 0.0; -0.0027262650401021675 -0.003423893562012113 … 0.0 0.4063587176349328]), Dict{String, Vector}(\"LSTM_1_4_σtanh_2\" => [(2, -4.072002324121906, 1.5598760458763854, -7.760300282375296, 0.29898340334862006)]), Dict{String, Tuple{Vararg{Vector{Float64}}}}(\"LSTM_1_2_σtanh_1\" => ([-1.3325236170234733, -5.733456973034185], [2.542351512392321, 5.50213619588925], [-4.311044947009817, -2.668274592572673], [1.2050410240611866, 5.520310303263119]), \"LSTM_1_1_σy_1\" => ([-3.788091719150543, -0.9207386672496796], [-0.5843958258628845, 2.506047934293747], [-3.162285327911377, -0.1359035074710846], [0.22387456893920898, 2.5040198862552643]), \"LSTM_1_3_σtanh_2\" => ([-3.653729446804342, -4.069073980927971], [2.878042084361408, 7.103136008584771], [-6.188460931387418, -7.720614364223125], [3.393654062252907, 8.44844963558243]), \"LSTM_1_3_σtanh_1\" => ([-1.7667671045010642, -7.116369225078735], [3.0294521248018222, 6.52634568232374], [-4.7983547065552346, -4.40238154774328], [1.8208657693998305, 6.830212092943016]), \"LSTM_1_4_σtanh_1\" => ([-1.8322175304513377, -7.156928105180702], [3.0993251993169437, 6.433128582183851], [-4.789001624311333, -4.472454358675945], [1.8623662206494103, 6.739682762854882]), \"LSTM_1_2_σy_1\" => ([-6.587688702027132, -2.420908132427665], [2.7918730330621804, 4.332951350435962], [-4.311044947009817, -2.668274592572673], [1.2050410240611866, 5.520310303263119]), \"input\" => ([-1.0, -1.0, -1.0, -1.0, -1.0, -1.0, -1.0, -1.0], [1.0, 1.0, 1.0, 1.0, 1.0, 1.0, 1.0, 1.0]), \"LSTM_1_1_σtanh_1\" => ([-0.5699039399623871, -3.7894338071346283], [1.756368488073349, 3.1682707369327545], [-3.162285327911377, -0.1359035074710846], [0.22387456893920898, 2.5040198862552643]), \"LSTM_1_1_σtanh_2\" => ([-2.5051059126853943, -0.7006028294563293], [1.8078084588050842, 3.8136211037635803], [-2.004825535971276, -1.3771971565139658], [1.1319110489944064, 3.0645201359857523]), \"LSTM_1_4_σtanh_2\" => ([-3.7210058007222524, -4.047552821859147], [2.9515702759453046, 7.187215478248154], [-6.157607047001431, -7.6103420865901015], [3.3074847895476407, 8.241180708520949])…), [(\"input\", 1), (\"input\", 2), (\"input\", 3), (\"input\", 4), (\"input\", 5), (\"input\", 6), (\"input\", 7), (\"input\", 8), (\"LSTM_1_1_σy_1\", 1), (\"LSTM_1_1_σy_1\", 2)  …  (\"LSTM_1_3_σtanh_1\", 1), (\"LSTM_1_3_σtanh_1\", 2), (\"LSTM_1_3_σtanh_2\", 1), (\"LSTM_1_3_σtanh_2\", 2), (\"LSTM_1_4_σy_1\", 1), (\"LSTM_1_4_σy_1\", 2), (\"LSTM_1_4_σtanh_1\", 1), (\"LSTM_1_4_σtanh_1\", 2), (\"LSTM_1_4_σtanh_2\", 1), (\"LSTM_1_4_σtanh_2\", 2)], [0.017120134580021196 0.02144152453459959 … 0.0 0.0; -0.017873614289566277 -0.0225612048234861 … 0.0 0.6882278035961374], [1.5598760458763854, 0.29898340334862006], (2,)), DPNeurifyFV.SplitZonotope{Float64}(Zonotope{Float64, Vector{Float64}, Matrix{Float64}}([-1.4250611287268948, 0.31541931096542364], [0.005126492085399556 0.006422065396795116 … 0.6011092172978335 0.0; -0.017873614289566277 -0.0225612048234861 … 0.0 0.6882278035961374]), Dict{String, Vector}(\"LSTM_1_4_σtanh_2\" => [(2, -4.072002324121906, 1.5598760458763854, -7.760300282375296, 0.29898340334862006)]), Dict{String, Tuple{Vararg{Vector{Float64}}}}(\"LSTM_1_2_σtanh_1\" => ([-1.3325236170234733, -5.733456973034185], [2.542351512392321, 5.50213619588925], [-4.311044947009817, -2.668274592572673], [1.2050410240611866, 5.520310303263119]), \"LSTM_1_1_σy_1\" => ([-3.788091719150543, -0.9207386672496796], [-0.5843958258628845, 2.506047934293747], [-3.162285327911377, -0.1359035074710846], [0.22387456893920898, 2.5040198862552643]), \"LSTM_1_3_σtanh_2\" => ([-3.653729446804342, -4.069073980927971], [2.878042084361408, 7.103136008584771], [-6.188460931387418, -7.720614364223125], [3.393654062252907, 8.44844963558243]), \"LSTM_1_3_σtanh_1\" => ([-1.7667671045010642, -7.116369225078735], [3.0294521248018222, 6.52634568232374], [-4.7983547065552346, -4.40238154774328], [1.8208657693998305, 6.830212092943016]), \"LSTM_1_4_σtanh_1\" => ([-1.8322175304513377, -7.156928105180702], [3.0993251993169437, 6.433128582183851], [-4.789001624311333, -4.472454358675945], [1.8623662206494103, 6.739682762854882]), \"LSTM_1_2_σy_1\" => ([-6.587688702027132, -2.420908132427665], [2.7918730330621804, 4.332951350435962], [-4.311044947009817, -2.668274592572673], [1.2050410240611866, 5.520310303263119]), \"input\" => ([-1.0, -1.0, -1.0, -1.0, -1.0, -1.0, -1.0, -1.0], [1.0, 1.0, 1.0, 1.0, 1.0, 1.0, 1.0, 1.0]), \"LSTM_1_1_σtanh_1\" => ([-0.5699039399623871, -3.7894338071346283], [1.756368488073349, 3.1682707369327545], [-3.162285327911377, -0.1359035074710846], [0.22387456893920898, 2.5040198862552643]), \"LSTM_1_1_σtanh_2\" => ([-2.5051059126853943, -0.7006028294563293], [1.8078084588050842, 3.8136211037635803], [-2.004825535971276, -1.3771971565139658], [1.1319110489944064, 3.0645201359857523]), \"LSTM_1_4_σtanh_2\" => ([-3.7210058007222524, -4.047552821859147], [2.9515702759453046, 7.187215478248154], [-6.157607047001431, -7.6103420865901015], [3.3074847895476407, 8.241180708520949])…), [(\"input\", 1), (\"input\", 2), (\"input\", 3), (\"input\", 4), (\"input\", 5), (\"input\", 6), (\"input\", 7), (\"input\", 8), (\"LSTM_1_1_σy_1\", 1), (\"LSTM_1_1_σy_1\", 2)  …  (\"LSTM_1_3_σy_1\", 1), (\"LSTM_1_3_σy_1\", 2), (\"LSTM_1_3_σtanh_1\", 1), (\"LSTM_1_3_σtanh_1\", 2), (\"LSTM_1_3_σtanh_2\", 1), (\"LSTM_1_3_σtanh_2\", 2), (\"LSTM_1_4_σy_1\", 1), (\"LSTM_1_4_σy_1\", 2), (\"LSTM_1_4_σtanh_1\", 1), (\"LSTM_1_4_σtanh_1\", 2)], Matrix{Float64}(undef, 0, 0), Float64[], (2,)))"
      ]
     },
     "metadata": {},
     "output_type": "display_data"
    }
   ],
   "source": [
    "_, ĥ₁, ĉ₁ = state"
   ]
  },
  {
   "cell_type": "code",
   "execution_count": 57,
   "metadata": {},
   "outputs": [
    {
     "name": "stdout",
     "output_type": "stream",
     "text": [
      "Academic license - for non-commercial use only - expires 2023-11-26\n"
     ]
    },
    {
     "data": {
      "text/plain": [
       "1.2218332677149433"
      ]
     },
     "metadata": {},
     "output_type": "display_data"
    }
   ],
   "source": [
    "model = build_model(ĥ₁)\n",
    "optimize!(model)\n",
    "ub₁ = objective_value(model)"
   ]
  },
  {
   "cell_type": "code",
   "execution_count": null,
   "metadata": {},
   "outputs": [],
   "source": []
  }
 ],
 "metadata": {
  "kernelspec": {
   "display_name": "Julia 1.9.2",
   "language": "julia",
   "name": "julia-1.9"
  },
  "language_info": {
   "file_extension": ".jl",
   "mimetype": "application/julia",
   "name": "julia",
   "version": "1.9.2"
  },
  "orig_nbformat": 4
 },
 "nbformat": 4,
 "nbformat_minor": 2
}
